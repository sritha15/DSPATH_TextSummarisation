{
  "nbformat": 4,
  "nbformat_minor": 0,
  "metadata": {
    "colab": {
      "provenance": []
    },
    "kernelspec": {
      "name": "python3",
      "display_name": "Python 3"
    },
    "language_info": {
      "name": "python"
    }
  },
  "cells": [
    {
      "cell_type": "code",
      "execution_count": null,
      "metadata": {
        "colab": {
          "base_uri": "https://localhost:8080/"
        },
        "id": "_DDkXg2S9UCq",
        "outputId": "0dbfc1fa-1b64-4b77-e45d-625604ae9077"
      },
      "outputs": [
        {
          "output_type": "stream",
          "name": "stdout",
          "text": [
            "Requirement already satisfied: shapely==1.7.1 in /usr/local/lib/python3.10/dist-packages (1.7.1)\n"
          ]
        }
      ],
      "source": [
        "!pip3 install shapely==1.7.1"
      ]
    },
    {
      "cell_type": "code",
      "source": [
        "!pip install google-cloud-aiplatform\n",
        "!pip install openai\n",
        "!pip install langchain"
      ],
      "metadata": {
        "colab": {
          "base_uri": "https://localhost:8080/",
          "height": 1000
        },
        "id": "ur8gFwsm9jZy",
        "outputId": "ee08d61a-196a-47f0-e477-c1ae0f6f00a2"
      },
      "execution_count": null,
      "outputs": [
        {
          "output_type": "stream",
          "name": "stdout",
          "text": [
            "Collecting google-cloud-aiplatform\n",
            "  Downloading google_cloud_aiplatform-1.29.0-py2.py3-none-any.whl (2.7 MB)\n",
            "\u001b[2K     \u001b[90m━━━━━━━━━━━━━━━━━━━━━━━━━━━━━━━━━━━━━━━━\u001b[0m \u001b[32m2.7/2.7 MB\u001b[0m \u001b[31m11.1 MB/s\u001b[0m eta \u001b[36m0:00:00\u001b[0m\n",
            "\u001b[?25hRequirement already satisfied: google-api-core[grpc]!=2.0.*,!=2.1.*,!=2.2.*,!=2.3.*,!=2.4.*,!=2.5.*,!=2.6.*,!=2.7.*,<3.0.0dev,>=1.32.0 in /usr/local/lib/python3.10/dist-packages (from google-cloud-aiplatform) (2.11.1)\n",
            "Requirement already satisfied: proto-plus<2.0.0dev,>=1.22.0 in /usr/local/lib/python3.10/dist-packages (from google-cloud-aiplatform) (1.22.3)\n",
            "Requirement already satisfied: protobuf!=3.20.0,!=3.20.1,!=4.21.0,!=4.21.1,!=4.21.2,!=4.21.3,!=4.21.4,!=4.21.5,<5.0.0dev,>=3.19.5 in /usr/local/lib/python3.10/dist-packages (from google-cloud-aiplatform) (3.20.3)\n",
            "Requirement already satisfied: packaging>=14.3 in /usr/local/lib/python3.10/dist-packages (from google-cloud-aiplatform) (23.1)\n",
            "Requirement already satisfied: google-cloud-storage<3.0.0dev,>=1.32.0 in /usr/local/lib/python3.10/dist-packages (from google-cloud-aiplatform) (2.8.0)\n",
            "Requirement already satisfied: google-cloud-bigquery<4.0.0dev,>=1.15.0 in /usr/local/lib/python3.10/dist-packages (from google-cloud-aiplatform) (3.10.0)\n",
            "Collecting google-cloud-resource-manager<3.0.0dev,>=1.3.3 (from google-cloud-aiplatform)\n",
            "  Downloading google_cloud_resource_manager-1.10.3-py2.py3-none-any.whl (320 kB)\n",
            "\u001b[2K     \u001b[90m━━━━━━━━━━━━━━━━━━━━━━━━━━━━━━━━━━━━━━━\u001b[0m \u001b[32m321.0/321.0 kB\u001b[0m \u001b[31m5.4 MB/s\u001b[0m eta \u001b[36m0:00:00\u001b[0m\n",
            "\u001b[?25hRequirement already satisfied: shapely<2.0.0 in /usr/local/lib/python3.10/dist-packages (from google-cloud-aiplatform) (1.7.1)\n",
            "Requirement already satisfied: googleapis-common-protos<2.0.dev0,>=1.56.2 in /usr/local/lib/python3.10/dist-packages (from google-api-core[grpc]!=2.0.*,!=2.1.*,!=2.2.*,!=2.3.*,!=2.4.*,!=2.5.*,!=2.6.*,!=2.7.*,<3.0.0dev,>=1.32.0->google-cloud-aiplatform) (1.60.0)\n",
            "Requirement already satisfied: google-auth<3.0.dev0,>=2.14.1 in /usr/local/lib/python3.10/dist-packages (from google-api-core[grpc]!=2.0.*,!=2.1.*,!=2.2.*,!=2.3.*,!=2.4.*,!=2.5.*,!=2.6.*,!=2.7.*,<3.0.0dev,>=1.32.0->google-cloud-aiplatform) (2.17.3)\n",
            "Requirement already satisfied: requests<3.0.0.dev0,>=2.18.0 in /usr/local/lib/python3.10/dist-packages (from google-api-core[grpc]!=2.0.*,!=2.1.*,!=2.2.*,!=2.3.*,!=2.4.*,!=2.5.*,!=2.6.*,!=2.7.*,<3.0.0dev,>=1.32.0->google-cloud-aiplatform) (2.31.0)\n",
            "Requirement already satisfied: grpcio<2.0dev,>=1.33.2 in /usr/local/lib/python3.10/dist-packages (from google-api-core[grpc]!=2.0.*,!=2.1.*,!=2.2.*,!=2.3.*,!=2.4.*,!=2.5.*,!=2.6.*,!=2.7.*,<3.0.0dev,>=1.32.0->google-cloud-aiplatform) (1.56.2)\n",
            "Requirement already satisfied: grpcio-status<2.0.dev0,>=1.33.2 in /usr/local/lib/python3.10/dist-packages (from google-api-core[grpc]!=2.0.*,!=2.1.*,!=2.2.*,!=2.3.*,!=2.4.*,!=2.5.*,!=2.6.*,!=2.7.*,<3.0.0dev,>=1.32.0->google-cloud-aiplatform) (1.48.2)\n",
            "Requirement already satisfied: google-cloud-core<3.0.0dev,>=1.6.0 in /usr/local/lib/python3.10/dist-packages (from google-cloud-bigquery<4.0.0dev,>=1.15.0->google-cloud-aiplatform) (2.3.3)\n",
            "Requirement already satisfied: google-resumable-media<3.0dev,>=0.6.0 in /usr/local/lib/python3.10/dist-packages (from google-cloud-bigquery<4.0.0dev,>=1.15.0->google-cloud-aiplatform) (2.5.0)\n",
            "Requirement already satisfied: python-dateutil<3.0dev,>=2.7.2 in /usr/local/lib/python3.10/dist-packages (from google-cloud-bigquery<4.0.0dev,>=1.15.0->google-cloud-aiplatform) (2.8.2)\n",
            "Requirement already satisfied: grpc-google-iam-v1<1.0.0dev,>=0.12.4 in /usr/local/lib/python3.10/dist-packages (from google-cloud-resource-manager<3.0.0dev,>=1.3.3->google-cloud-aiplatform) (0.12.6)\n",
            "Requirement already satisfied: cachetools<6.0,>=2.0.0 in /usr/local/lib/python3.10/dist-packages (from google-auth<3.0.dev0,>=2.14.1->google-api-core[grpc]!=2.0.*,!=2.1.*,!=2.2.*,!=2.3.*,!=2.4.*,!=2.5.*,!=2.6.*,!=2.7.*,<3.0.0dev,>=1.32.0->google-cloud-aiplatform) (5.3.1)\n",
            "Requirement already satisfied: pyasn1-modules>=0.2.1 in /usr/local/lib/python3.10/dist-packages (from google-auth<3.0.dev0,>=2.14.1->google-api-core[grpc]!=2.0.*,!=2.1.*,!=2.2.*,!=2.3.*,!=2.4.*,!=2.5.*,!=2.6.*,!=2.7.*,<3.0.0dev,>=1.32.0->google-cloud-aiplatform) (0.3.0)\n",
            "Requirement already satisfied: six>=1.9.0 in /usr/local/lib/python3.10/dist-packages (from google-auth<3.0.dev0,>=2.14.1->google-api-core[grpc]!=2.0.*,!=2.1.*,!=2.2.*,!=2.3.*,!=2.4.*,!=2.5.*,!=2.6.*,!=2.7.*,<3.0.0dev,>=1.32.0->google-cloud-aiplatform) (1.16.0)\n",
            "Requirement already satisfied: rsa<5,>=3.1.4 in /usr/local/lib/python3.10/dist-packages (from google-auth<3.0.dev0,>=2.14.1->google-api-core[grpc]!=2.0.*,!=2.1.*,!=2.2.*,!=2.3.*,!=2.4.*,!=2.5.*,!=2.6.*,!=2.7.*,<3.0.0dev,>=1.32.0->google-cloud-aiplatform) (4.9)\n",
            "Requirement already satisfied: google-crc32c<2.0dev,>=1.0 in /usr/local/lib/python3.10/dist-packages (from google-resumable-media<3.0dev,>=0.6.0->google-cloud-bigquery<4.0.0dev,>=1.15.0->google-cloud-aiplatform) (1.5.0)\n",
            "Requirement already satisfied: charset-normalizer<4,>=2 in /usr/local/lib/python3.10/dist-packages (from requests<3.0.0.dev0,>=2.18.0->google-api-core[grpc]!=2.0.*,!=2.1.*,!=2.2.*,!=2.3.*,!=2.4.*,!=2.5.*,!=2.6.*,!=2.7.*,<3.0.0dev,>=1.32.0->google-cloud-aiplatform) (3.2.0)\n",
            "Requirement already satisfied: idna<4,>=2.5 in /usr/local/lib/python3.10/dist-packages (from requests<3.0.0.dev0,>=2.18.0->google-api-core[grpc]!=2.0.*,!=2.1.*,!=2.2.*,!=2.3.*,!=2.4.*,!=2.5.*,!=2.6.*,!=2.7.*,<3.0.0dev,>=1.32.0->google-cloud-aiplatform) (3.4)\n",
            "Requirement already satisfied: urllib3<3,>=1.21.1 in /usr/local/lib/python3.10/dist-packages (from requests<3.0.0.dev0,>=2.18.0->google-api-core[grpc]!=2.0.*,!=2.1.*,!=2.2.*,!=2.3.*,!=2.4.*,!=2.5.*,!=2.6.*,!=2.7.*,<3.0.0dev,>=1.32.0->google-cloud-aiplatform) (1.26.16)\n",
            "Requirement already satisfied: certifi>=2017.4.17 in /usr/local/lib/python3.10/dist-packages (from requests<3.0.0.dev0,>=2.18.0->google-api-core[grpc]!=2.0.*,!=2.1.*,!=2.2.*,!=2.3.*,!=2.4.*,!=2.5.*,!=2.6.*,!=2.7.*,<3.0.0dev,>=1.32.0->google-cloud-aiplatform) (2023.7.22)\n",
            "Requirement already satisfied: pyasn1<0.6.0,>=0.4.6 in /usr/local/lib/python3.10/dist-packages (from pyasn1-modules>=0.2.1->google-auth<3.0.dev0,>=2.14.1->google-api-core[grpc]!=2.0.*,!=2.1.*,!=2.2.*,!=2.3.*,!=2.4.*,!=2.5.*,!=2.6.*,!=2.7.*,<3.0.0dev,>=1.32.0->google-cloud-aiplatform) (0.5.0)\n",
            "Installing collected packages: google-cloud-resource-manager, google-cloud-aiplatform\n",
            "Successfully installed google-cloud-aiplatform-1.29.0 google-cloud-resource-manager-1.10.3\n"
          ]
        },
        {
          "output_type": "display_data",
          "data": {
            "application/vnd.colab-display-data+json": {
              "pip_warning": {
                "packages": [
                  "google"
                ]
              }
            }
          },
          "metadata": {}
        },
        {
          "output_type": "stream",
          "name": "stdout",
          "text": [
            "Collecting openai\n",
            "  Downloading openai-0.27.8-py3-none-any.whl (73 kB)\n",
            "\u001b[2K     \u001b[90m━━━━━━━━━━━━━━━━━━━━━━━━━━━━━━━━━━━━━━━━\u001b[0m \u001b[32m73.6/73.6 kB\u001b[0m \u001b[31m1.3 MB/s\u001b[0m eta \u001b[36m0:00:00\u001b[0m\n",
            "\u001b[?25hRequirement already satisfied: requests>=2.20 in /usr/local/lib/python3.10/dist-packages (from openai) (2.31.0)\n",
            "Requirement already satisfied: tqdm in /usr/local/lib/python3.10/dist-packages (from openai) (4.65.0)\n",
            "Requirement already satisfied: aiohttp in /usr/local/lib/python3.10/dist-packages (from openai) (3.8.5)\n",
            "Requirement already satisfied: charset-normalizer<4,>=2 in /usr/local/lib/python3.10/dist-packages (from requests>=2.20->openai) (3.2.0)\n",
            "Requirement already satisfied: idna<4,>=2.5 in /usr/local/lib/python3.10/dist-packages (from requests>=2.20->openai) (3.4)\n",
            "Requirement already satisfied: urllib3<3,>=1.21.1 in /usr/local/lib/python3.10/dist-packages (from requests>=2.20->openai) (1.26.16)\n",
            "Requirement already satisfied: certifi>=2017.4.17 in /usr/local/lib/python3.10/dist-packages (from requests>=2.20->openai) (2023.7.22)\n",
            "Requirement already satisfied: attrs>=17.3.0 in /usr/local/lib/python3.10/dist-packages (from aiohttp->openai) (23.1.0)\n",
            "Requirement already satisfied: multidict<7.0,>=4.5 in /usr/local/lib/python3.10/dist-packages (from aiohttp->openai) (6.0.4)\n",
            "Requirement already satisfied: async-timeout<5.0,>=4.0.0a3 in /usr/local/lib/python3.10/dist-packages (from aiohttp->openai) (4.0.2)\n",
            "Requirement already satisfied: yarl<2.0,>=1.0 in /usr/local/lib/python3.10/dist-packages (from aiohttp->openai) (1.9.2)\n",
            "Requirement already satisfied: frozenlist>=1.1.1 in /usr/local/lib/python3.10/dist-packages (from aiohttp->openai) (1.4.0)\n",
            "Requirement already satisfied: aiosignal>=1.1.2 in /usr/local/lib/python3.10/dist-packages (from aiohttp->openai) (1.3.1)\n",
            "Installing collected packages: openai\n",
            "Successfully installed openai-0.27.8\n",
            "Collecting langchain\n",
            "  Downloading langchain-0.0.258-py3-none-any.whl (1.4 MB)\n",
            "\u001b[2K     \u001b[90m━━━━━━━━━━━━━━━━━━━━━━━━━━━━━━━━━━━━━━━━\u001b[0m \u001b[32m1.4/1.4 MB\u001b[0m \u001b[31m10.2 MB/s\u001b[0m eta \u001b[36m0:00:00\u001b[0m\n",
            "\u001b[?25hRequirement already satisfied: PyYAML>=5.3 in /usr/local/lib/python3.10/dist-packages (from langchain) (6.0.1)\n",
            "Requirement already satisfied: SQLAlchemy<3,>=1.4 in /usr/local/lib/python3.10/dist-packages (from langchain) (2.0.19)\n",
            "Requirement already satisfied: aiohttp<4.0.0,>=3.8.3 in /usr/local/lib/python3.10/dist-packages (from langchain) (3.8.5)\n",
            "Requirement already satisfied: async-timeout<5.0.0,>=4.0.0 in /usr/local/lib/python3.10/dist-packages (from langchain) (4.0.2)\n",
            "Collecting dataclasses-json<0.6.0,>=0.5.7 (from langchain)\n",
            "  Downloading dataclasses_json-0.5.14-py3-none-any.whl (26 kB)\n",
            "Collecting langsmith<0.1.0,>=0.0.11 (from langchain)\n",
            "  Downloading langsmith-0.0.19-py3-none-any.whl (31 kB)\n",
            "Requirement already satisfied: numexpr<3.0.0,>=2.8.4 in /usr/local/lib/python3.10/dist-packages (from langchain) (2.8.4)\n",
            "Requirement already satisfied: numpy<2,>=1 in /usr/local/lib/python3.10/dist-packages (from langchain) (1.23.5)\n",
            "Collecting openapi-schema-pydantic<2.0,>=1.2 (from langchain)\n",
            "  Downloading openapi_schema_pydantic-1.2.4-py3-none-any.whl (90 kB)\n",
            "\u001b[2K     \u001b[90m━━━━━━━━━━━━━━━━━━━━━━━━━━━━━━━━━━━━━━━━\u001b[0m \u001b[32m90.0/90.0 kB\u001b[0m \u001b[31m7.8 MB/s\u001b[0m eta \u001b[36m0:00:00\u001b[0m\n",
            "\u001b[?25hRequirement already satisfied: pydantic<2,>=1 in /usr/local/lib/python3.10/dist-packages (from langchain) (1.10.12)\n",
            "Requirement already satisfied: requests<3,>=2 in /usr/local/lib/python3.10/dist-packages (from langchain) (2.31.0)\n",
            "Requirement already satisfied: tenacity<9.0.0,>=8.1.0 in /usr/local/lib/python3.10/dist-packages (from langchain) (8.2.2)\n",
            "Requirement already satisfied: attrs>=17.3.0 in /usr/local/lib/python3.10/dist-packages (from aiohttp<4.0.0,>=3.8.3->langchain) (23.1.0)\n",
            "Requirement already satisfied: charset-normalizer<4.0,>=2.0 in /usr/local/lib/python3.10/dist-packages (from aiohttp<4.0.0,>=3.8.3->langchain) (3.2.0)\n",
            "Requirement already satisfied: multidict<7.0,>=4.5 in /usr/local/lib/python3.10/dist-packages (from aiohttp<4.0.0,>=3.8.3->langchain) (6.0.4)\n",
            "Requirement already satisfied: yarl<2.0,>=1.0 in /usr/local/lib/python3.10/dist-packages (from aiohttp<4.0.0,>=3.8.3->langchain) (1.9.2)\n",
            "Requirement already satisfied: frozenlist>=1.1.1 in /usr/local/lib/python3.10/dist-packages (from aiohttp<4.0.0,>=3.8.3->langchain) (1.4.0)\n",
            "Requirement already satisfied: aiosignal>=1.1.2 in /usr/local/lib/python3.10/dist-packages (from aiohttp<4.0.0,>=3.8.3->langchain) (1.3.1)\n",
            "Collecting marshmallow<4.0.0,>=3.18.0 (from dataclasses-json<0.6.0,>=0.5.7->langchain)\n",
            "  Downloading marshmallow-3.20.1-py3-none-any.whl (49 kB)\n",
            "\u001b[2K     \u001b[90m━━━━━━━━━━━━━━━━━━━━━━━━━━━━━━━━━━━━━━━━\u001b[0m \u001b[32m49.4/49.4 kB\u001b[0m \u001b[31m2.4 MB/s\u001b[0m eta \u001b[36m0:00:00\u001b[0m\n",
            "\u001b[?25hCollecting typing-inspect<1,>=0.4.0 (from dataclasses-json<0.6.0,>=0.5.7->langchain)\n",
            "  Downloading typing_inspect-0.9.0-py3-none-any.whl (8.8 kB)\n",
            "Requirement already satisfied: typing-extensions>=4.2.0 in /usr/local/lib/python3.10/dist-packages (from pydantic<2,>=1->langchain) (4.7.1)\n",
            "Requirement already satisfied: idna<4,>=2.5 in /usr/local/lib/python3.10/dist-packages (from requests<3,>=2->langchain) (3.4)\n",
            "Requirement already satisfied: urllib3<3,>=1.21.1 in /usr/local/lib/python3.10/dist-packages (from requests<3,>=2->langchain) (1.26.16)\n",
            "Requirement already satisfied: certifi>=2017.4.17 in /usr/local/lib/python3.10/dist-packages (from requests<3,>=2->langchain) (2023.7.22)\n",
            "Requirement already satisfied: greenlet!=0.4.17 in /usr/local/lib/python3.10/dist-packages (from SQLAlchemy<3,>=1.4->langchain) (2.0.2)\n",
            "Requirement already satisfied: packaging>=17.0 in /usr/local/lib/python3.10/dist-packages (from marshmallow<4.0.0,>=3.18.0->dataclasses-json<0.6.0,>=0.5.7->langchain) (23.1)\n",
            "Collecting mypy-extensions>=0.3.0 (from typing-inspect<1,>=0.4.0->dataclasses-json<0.6.0,>=0.5.7->langchain)\n",
            "  Downloading mypy_extensions-1.0.0-py3-none-any.whl (4.7 kB)\n",
            "Installing collected packages: mypy-extensions, marshmallow, typing-inspect, openapi-schema-pydantic, langsmith, dataclasses-json, langchain\n",
            "Successfully installed dataclasses-json-0.5.14 langchain-0.0.258 langsmith-0.0.19 marshmallow-3.20.1 mypy-extensions-1.0.0 openapi-schema-pydantic-1.2.4 typing-inspect-0.9.0\n"
          ]
        }
      ]
    },
    {
      "cell_type": "code",
      "source": [
        "from langchain.llms import VertexAI\n",
        "from langchain import PromptTemplate, LLMChain"
      ],
      "metadata": {
        "id": "tCRQ-zXk-AaX"
      },
      "execution_count": null,
      "outputs": []
    },
    {
      "cell_type": "code",
      "source": [
        "import os\n",
        "\n",
        "os.environ[\"GOOGLE_APPLICATION_CREDENTIALS\"] = \"/content/ucr-ursa-major-maverics-lab-5986748a3acf.json\"\n"
      ],
      "metadata": {
        "id": "M3B_0wNQ-Ch_"
      },
      "execution_count": null,
      "outputs": []
    },
    {
      "cell_type": "code",
      "source": [
        "import pandas as pd\n",
        "dftest=pd.read_csv(\"/content/extractive_test.csv\")\n",
        "dftrain=pd.read_csv(\"/content/extractive_train.csv\")"
      ],
      "metadata": {
        "id": "_2jZnfKA-D1z"
      },
      "execution_count": null,
      "outputs": []
    },
    {
      "cell_type": "code",
      "source": [
        "dftrain.info()"
      ],
      "metadata": {
        "colab": {
          "base_uri": "https://localhost:8080/"
        },
        "id": "sUlmckFy-FJ7",
        "outputId": "229cac63-1178-4625-e9f4-17a48786ec3e"
      },
      "execution_count": null,
      "outputs": [
        {
          "output_type": "stream",
          "name": "stdout",
          "text": [
            "<class 'pandas.core.frame.DataFrame'>\n",
            "RangeIndex: 4352 entries, 0 to 4351\n",
            "Data columns (total 13 columns):\n",
            " #   Column             Non-Null Count  Dtype  \n",
            "---  ------             --------------  -----  \n",
            " 0   Article ID         4352 non-null   object \n",
            " 1   Original Article   4352 non-null   object \n",
            " 2   Highlight          4352 non-null   object \n",
            " 3   Generated Summary  4352 non-null   object \n",
            " 4   R1-R               4352 non-null   float64\n",
            " 5   R1-P               4352 non-null   float64\n",
            " 6   R1-F               4352 non-null   float64\n",
            " 7   R2-R               4352 non-null   float64\n",
            " 8   R2-P               4352 non-null   float64\n",
            " 9   R2-F               4352 non-null   float64\n",
            " 10  RL-R               4352 non-null   float64\n",
            " 11  RL-P               4352 non-null   float64\n",
            " 12  RL-F               4352 non-null   float64\n",
            "dtypes: float64(9), object(4)\n",
            "memory usage: 442.1+ KB\n"
          ]
        }
      ]
    },
    {
      "cell_type": "code",
      "source": [
        "dfllm= pd.read_csv(\"/content/llm_with_roguescores.csv\")"
      ],
      "metadata": {
        "id": "DeqWmknUMo0E"
      },
      "execution_count": null,
      "outputs": []
    },
    {
      "cell_type": "code",
      "source": [
        "P=['0408464fb6eb2702626d2ca1cbb7c28e76ddd255', '18f7505fa80eaa981a2f52fbb96fcea5908cd4ee', '97163bb36cb49730a634a0cbaa01108c2fd89e01', 'cd421645a56af17128c17a41ec2c9074bce84ddc', '4fde6cc846d0709e25a9cccec8d197ba26c15c82', '5f5a8814d8ec3c16299782db7c724cb771ea5adb', '56516cebdf30bd22dc8353549b70b4bb33993753', '446fdf91f59be259167ae59b0a3de1a664891751', '3d58a02a6578e08c2bf7494263ef9a083620e1f6', 'c077e15f710484d2cb3ffe26cd9b331353cb74e2', 'fd7a007f17a13ee329cba78b298bdd77d4d33d42', 'ba2ec653b7d0c46759f39aef6dac850c9229716f', '4cfe02fe65eedf9364dd2b9633dca27349ec02aa', '58b0d34958a722a453fe24deed240e08e7be8ced', '6abc848961744dde2da8a4b8e5337f34d32d45ed', '62545d81f24bc768afd19875d9e62e38a6ddb97d', 'efdb6043cf2ac2663137f8cb8696f0735ee58b86', 'bde8e22f3e1c3af2ca0f09f734f33d67140ef1aa', '9eccb748cdaefd4c472101db76f347914f850c1a', '685b0b902225d5b807a721e294f5ae16febf1f0e', 'b4c8c6a6ad6257b5d8dfd82b80cd3b0fbdd342e3', 'e79e40746dbc24643a3a3f044d2f49689ff82e38', '539d895fd424cbda3e4985c6aee36e272401b359', 'db61d01f82dc63596f7e2fa93b4ab4ae278daf1f', 'c331159c09eee2e7a27b90d973500e7b3db04d94', '1f4aaf00cad1c6272240bd109fd34201b92a0937', '436772093dd75272d1d867c80e6b142329fcfa3e', '6de323acb06b2590f5aba38ae450865ea4e793b1', 'ebccdbf5779c2d3fa7180747e333dde756aa62fb', '2bc2c4566f364d664331809744ff9a40841d9617', '975132a0649fbebbdb6cdd32534b165eece0053a', '3612c620d3fa1eafc99c0c154ad5caf7481727f4', '31edccbcedf3d7e2819818f109a35ecdfcd65970', 'b8d8f6a6518138c8b1e0e845f46e62e2b7fe3fd8', 'de45d9d92d7ee486a71ba13f4cc52470b9df5c01', 'be8918aac4ce45cfefddaa245c26d9314d1194d4', '3415b0e398cd14d27f386b28a61f4d585b8eaa11', '7623d447bab49c8e99dfc99289b2281a1fed8d4f', '45071cfaf26fa14f1a8a9276393401f54e0f93ca', '837970f6b544e927c6fe2261a81f74f8313f2bdf', '47609113b2709b46ccafb3782980cd3da7ab7d2d', 'c446f86eea5f7d48f5cae27df669b80aff8de043', 'a84811a80358e86f9a62669fa69521a0ac12130a', 'bbdc0e58a203b016166f896936d9862ae9fd11be', '6c5ef5f577b97c98b8580476690883176584569e', '6a778af88ba885ef38fd88987afa1b6167e5c494', '2094d594b67b61d842fdc5ef4891b721e36171e7', '6af327c6e93d12422c1b605ff7581a813cdb1691', 'c94b92e2e7f31e2ed580137a02a5c60fa6537458', '540fc636957b4d049d6b4f07ae72c1b3be6ec020', 'c8fcf4c23a15895a2c7272ec04c5a92b06575d5e', '3a407cf2ec50f113c6300b7a39936c229d1b29f4', '1d17d402757c7da68c499b95368f477ad5d66513', 'a382fc98c0652dea0c2275a4110b744476b30ea3', '949378fdf5114619911a5e0fe0182d45f1c27c17', '9dad1056763b4580aed22d85670a801c8c3f352c', '644da4a1c3baef155cf8c4675008540a8b777988', '35d5a717be7c0144d24c34233e5321e871dc614e', '8000bfa6f05e428b2c7cc552d0df4c36283108fd', '7be8bc293e448903d2b23f4cea091b0407848897', 'bfcee0d2eed31196bb00e1f52606a3f168eee17c', '2b4eb5a283f51b54e1b0318936ae9bcfa70ce243', 'd75247e02a692fc343bc9826662870011eaed521', '4b637c62b6ac747871a3051a97f29dd282633360', '270fdae145aa5ae3ae73adcf44be72cec339dbbe', '60c3114cd31fced2982a5e912f2224220d6c5254', '32259d1946a7e376f3915aea7f7b4a4e14cbe02f', '80a28afe6ded1ad0ddd6f2ba0ac9b66436e91739', 'c3881866bcacbb55bd959b15a197bae3eb8b3384', 'f5ff04170c39e33afdf58bb732dd03265662c4c0', 'cb7a72d78d5f34b9300f8486e40e57ffcf9d98d5', 'f1beee2435f59b05e0da484c7a1c167709412d6d', 'e1502ae8cb04cbdceee368551cfd65bcf6a16f07', 'e6e0a4b568f6214c18c38cfcac5a10ecfb0dbf6e', '623ad83ebb32752afaa1fb4b134ab697eae8b798', '0e6dd3f40daaff5c14f0a34ba75e9f05c40a55c8', '0d1d6284061a99cb2478ecb4b490e4605698ec3e', 'de24115848174d0534512cd251b1d53cd343f23e', '574767c29dfee14ea227639f45387c07437a55e5', 'a8a2ace82e62b4020b5a241060d4a548f7ee3a7f', 'bef9d7ac62dac0fb9a200d2acae6d333388ec7f1', '6426eaaa8fe11407ed2290d9c0ad2bc8e1a723d5', 'bb8a7a6bc30f5d10bfd747daa4887134a780d66d', 'f7dd3331408529408be2b706392e0b4a02a6a4cc', '84a933b7edc70c7f5e6ed6558c7b57c100abc114', '9f4ab634ce7925b5527345ba0efc583b206c47a2', 'f800996f2cca42b205a7cfd37805fb77d577254b', 'd6f928d950f7d97c9fc3a5f575b9eaa325a7dd4d', '8f324e3064f6cdc9c378dfcf4545ed2c124e7103', '32069f98ff75ce1a65beeffcf84cd80f92bae5dc', '7f13d9dff7707609a042a5c3e99671c98de8c135', '4dcf206f63daa3ffdb4c77b2441e7aed78d2c8c5', '864240ad271c7da6c74823abf2abfb2b98f427cb', '6299e17b582fffbd6732d237dcc06c97c5d935ff', 'c3cb61c858ec4a178760b619430ddff7e03eb0c8', '0a8fd2888f20c9e705696d8ef847a32df47900e6', 'b68be4e8fe382de849954933357e4a32409c20ff', '34f1b80e4e3fbd60dd942b3e7e52a7f8c61f06ef', '52343da9a3ef719280b4b6946e6c500e819552d0', '2f6106809de41d59f422d527900a6b344174c5b2', '69406e34836ea1f7680d4298e83fd6d83a6c7997', 'ef2d42928cc3b1762d0bbb6037db308db53fc864', '31809d739569d22b663fc1cdbfb1fb4206ade734', '98d980ba9bc5479f9c340a18a61941d5ccb52774', 'dbba46c94632ad510072e1b52c4f427c4dadca60', '65676acfb425e2a29cd7fca216174635ea408382', '16b9db5d22a87f739c918886c6b3d7acdfcfd58a', '30f2056f43c0a58a261c4feddefd131d498199cb', '5231a93ff48e3dcdc22ea9df981237c26a474714', '29503dc74ccb039c4c1562844299116a545dea39', 'd34233997a6d71174a09a8d8001ec64468a2f640', 'a37aa9e7b6985f710c3ad79cd0b53619b5e0bf5a', '707c09009396d151d2d4f819925f78e446151f39', '33ca9fba99197c82369e99aa3d234783e719227c', 'faf1d451489b43676734ea706926885bbbedfce3', '0c5ec67f7b1d7a2fdb0a3f3ffb8263d8d9ddf872', 'd9e8e6f9c0255bf26881a2eabba8f5cbe733c55f', '9625484feb731f45fd8059112238d94f141d413c', 'ca3b2dc93f170f06e3a60fe7cd3243d204cc4b75', '2103c883437dbd9f0c17885f60190dabb4ab56dc', '30944082061b9e844391dcbc98775f22cb3ef791', '202c35ec48be21fc196139dd538db271c0f65e4a', '280d5930fb82ad2958fd1dcf452c6a4f1b5ad39f', '71efc54d9a237c40c469965cc24841f9f9a7b019', '3291399360e20650ea565c27371a72c7b448082e', 'e67604ecb75aa21391e1d15a577d16b8db990de5', 'e2a44a3e3edd44c394ad6ff7207980f7f1e9b4b3', '7661803c32a1511bf302a8a5abdc3c462f080fb2', 'de84417cc1ffcb6ecabfab7600c232eb9fd11915', '8a7466a5c8516b2087aea24647cc07b508697ab6', '20a6b5894c4cd75e32f6f4946467854aeb539337', '7113eca13e8f3dd7760e609fdc97660de1806d2a', '61254109741e1db17ba31582d1c783d282e6bbf6', '78b863c5bce9b8fc0d743bc396b0308a9eb17a77', '92151f31c3478c5e0e4352a0f7323c3acfc297e7', 'cabca761a3814275d3d1b2b6c7cfc1f9cd3810b7', '878c4af5ebfb7a1831af90ad0d6e7bdcc4a3d4b8', '1dd00c89d71a5611797bb34da8a6eada8f058405', '711e00313310a956641a47791fdf8299ee06b2c2', '01b0585316ca58505df1d4ace2d888d0e50e7600', 'c11e656ad31a4f14b0d276290a757a0da6a73ba4', '4b132f90a0f4369df9b7ecba759c5aa068dd12be', 'd3e9f0aca4e608fc2a3b85115b96cb0c453191af', 'c18fe1d648b40aa763644c37a9a2a562a340e172', '9ad4662fc2d978672ae4b5eea4e4806ae6a7d076', 'db9f358d0e08da7cd0276453f8bcdc114ff06fdb', 'b19ab7fa421bcbb921c5a20718db5918091bb15d', '9268b9d826db3d8acf31a03bdc3e30cd75cc93de', 'be5d8524bf21d485e203425d764ed60a3bf71b8d', 'f97b9b19e5a90dce0fc0b098f2a7f70ec36445fb', 'e84c74b45a589a6faefaa881016505fd282a46ca', 'd495bb584d5fda76f9b90beca528469f5bcfc5b3', 'f7f9156f26bbf12e63523bdd2f607a2f7a7f9f0c', '7e91926e47bdaa4054e3a69784bee8ee27d0dd4b', '2434b0ec4419fd48c0d15e543030555129398ec6', 'f0dba7fa5d45ffb29070afda0c4b230c8f318a51', '82461522ee90f8f5be2ec226e2016ad40588866d', 'a3830cf0f4311a3f816a710d61d7e14ac9ffa9fe', 'bc9d5ab2c343edd6522ee4ebe63c5ca4adcebb1b', '9638b449931f0f4a21167997d37d5dd43ee2430f', 'e8b93366b9c9c5bf4409dc1f8064122063ccd4ca', '3a8e2afdba04d7356526c94232f17eef9a5e4ddd', '7ae16f8ac4a86a6de4669e130e068d9f7e492ddf', '1b3bdc7fa131c4c82e8e996c936abe0da840e2ef', '5d1577700e760d853376d15ad75d8972119d6ddb', 'd6bbbfa9b5c58e99d21d549a9fb5b512b342e301', 'e0a415bf04e1929507bb8626cdf6379169264838', '5c3e16c415b463269527cafd220170e1303048f8', '09085a0b380bcbc205c7a3902f4d5492da2eacda', '223ecfeb056056991eb877fbd63ce66ca616d372', 'f708809379316d68524802c6ca052985bbe248cd', 'c38207a8ba7332bf8fc449770b2554510fa1482a', '3bdec3398b4dd68453d97ab7718086655843e899', 'a7827e12988bd89e4f1079705079a135beefc1f2', '34c33427589efd00f343e49e2e5109d444d560f5', '198f9a4a72b169e04ec003cb4717f46dc0d3191f', '9ef9bcf7b102537cff2774dd7be2c6eefd5b80fd', '7e4d197d5fe8272c0471199cf9987f3786a80c2b', '1fda6d5647b826db2ab920c945dd7944dbdfbde9', '2805d03b2ec2d8a1e5343f71d70912db2a58736e', 'ddcbe22893aa887ff799cf3e40bbe2a536965f91', 'b6d1933d8d4a8c1b6b76d44ec3ed69d86268a7b3', 'ad58f533f9eaf52080929e32c5dd5eaf2bafba0e', 'f2a9f3c80876424da8cee335cb0e0467caa5f3ca', '5ba4a7a9733a497625971981764184cb75618b81', 'a659d867e198efa85e02b90d5e78d2f6a6e60fb7', '36c34f4ffa8815711beea7d2fda86eea047b8802', 'a4b00d5247eef69b5d51cab1f1883da314211366', 'cca91bf7af4db82293421776f5299457dce34909', 'e248a8e2416dddfa8899f0781b967429232063b3', 'e266b3daac6d9e72e637e8f83db97621c5beafd0', '9f2dbe8953dd5b1d2b0f2f748c51bfccbe72906e', 'a2b66e4376258cd41604d654a395f7540d2e8514', '2edc424a6d80e2e10a46b1e8b52f14c481cc1daa', '0cdf69eb6b6860142724e940cf9f75d93907227f', '34ad340fa41e205b95b37b00e8ccbc38afb3e68f', '117444537cbffcb807dc04565f39dca46f7d2cef', 'ecb7f439cc992286b8933b117bb6c498bd133bcd', 'b6ee1b3428dda9063461deefc0086c2d66279d0f', '42d88bafeb5f838a0be02c3eb97fe12f5df3d92f', '4c976ed4cb92068d476b1c17753715948e39c62f', 'a5fffe339cda4c8e002d992ab93888559107f3ab', 'd6fc70d27119a3705b96ace6b20b9fd2f3cfcbca', '89fed7685538cd358e611932653eea931d7b057f', '5effc218f677590dbc9037e196549b5341242933', 'b8a47e9569e9d0919638f5bed6f13e565f84e855', '35c590581dcd2a417101f2ef80f63f69cdfe4030', 'f99b61fb576e893ffbd2e6d6f494b9dd0fbf8941', '5dd71e881a79e27363e2f73c3afa80b8cc3e5a64', '64b3b703816b40851bd4b7c0255df5834e136611', 'cf5e6722047569c81b635be96ef0b07cb04eed73', 'ffd4fd3ed5e3d498d6135fc93ae6c9170d10611c', '159ab1d0f729f77e86a6a77bf43d0291d069c66c', 'e0a3acedc34d92569ce5f6032d504c35fbf30720', '0e5130d172cdaaa2afcb51585f4aa0580b049431', 'a776fa2caa0fa9cac0ce5bf71d2bf44eb7a7346a', '1027d076dbb423b90447f6f3f8315610aefd682c', '0322c7a3366d45134e8ba78c7f369d2f2cd14176', '0db1a9abd0524d51270531e3a80d36afaa7550fe', '0d29ae06dd015e141646c3b03671901c1b8465c4', 'e2ef75518e69947f79acb9202516689b6c869e92', '16bf321c82f6ffe7f20479a12a9e432685f2d91b', 'c37431a19d8433f20447858d1c810b7b77804473', '77685c1f281a3e7472b51f6619d7d54c6bc0c717', '6d76062fb07e8a37609bbd527934a9219929560b', '083b6c3239f969ae12491f14fc09b1f17d396983', '1afd2df29d4e642f20130a231d27004216667fe1', '8749719d4fb9a14d833d39cde0b6e07985bee823', '43959f19ee64571fead0661415d4e13c54d71ee1']\n"
      ],
      "metadata": {
        "id": "Pfu4nRwLOK5W"
      },
      "execution_count": null,
      "outputs": []
    },
    {
      "cell_type": "code",
      "source": [
        "len(P)"
      ],
      "metadata": {
        "colab": {
          "base_uri": "https://localhost:8080/"
        },
        "id": "d2dHW0u_eMTH",
        "outputId": "da1ced4c-d3d3-43b1-8cf8-9de1af4ae8ab"
      },
      "execution_count": null,
      "outputs": [
        {
          "output_type": "execute_result",
          "data": {
            "text/plain": [
              "229"
            ]
          },
          "metadata": {},
          "execution_count": 64
        }
      ]
    },
    {
      "cell_type": "code",
      "source": [
        "dfllm.head()"
      ],
      "metadata": {
        "colab": {
          "base_uri": "https://localhost:8080/",
          "height": 710
        },
        "id": "8tdMPojZMvgg",
        "outputId": "9e6ca0db-e4e0-49f3-b035-22471a719388"
      },
      "execution_count": null,
      "outputs": [
        {
          "output_type": "execute_result",
          "data": {
            "text/plain": [
              "                                 Article ID  \\\n",
              "0  517a2943ee6fab9e6a81bd5cd259e5801682d190   \n",
              "1  e66247c8e4f0f7907e9c040bf7064782dfcb3323   \n",
              "2  907fe50dbe4dc0fb84b0683fab578806536dba28   \n",
              "3  41a572feb1c9f4651b9b1e78f1482b92e16a63b1   \n",
              "4  bb4019681e575f38978b27b51ccdc3ee07946e2c   \n",
              "\n",
              "                                         LLM Summary   llmR1-R   llmR1-P  \\\n",
              "0  Jack Grealish is a 19-year-old academy graduat...  0.172414  0.078125   \n",
              "1  Memories Gourmet Pizza in Nichols, Wisconsin w...  0.200000  0.166667   \n",
              "2  Shay Given will start for Aston Villa against ...  0.527778  0.395833   \n",
              "3  Amir Khan believes Kell Brook has called him o...  0.317460  0.170940   \n",
              "4  Andros Townsend scored a superb equaliser for ...  0.444444  0.149533   \n",
              "\n",
              "    llmR1-F   llmR2-R   llmR2-P   llmR2-F   llmRL-R   llmRL-P   llmRL-F  \n",
              "0  0.107527  0.000000  0.000000  0.000000  0.137931  0.062500  0.086022  \n",
              "1  0.181818  0.050000  0.041667  0.045455  0.171429  0.142857  0.155844  \n",
              "2  0.452381  0.225000  0.163636  0.189474  0.527778  0.395833  0.452381  \n",
              "3  0.222222  0.047619  0.021164  0.029304  0.317460  0.170940  0.222222  \n",
              "4  0.223776  0.139535  0.035928  0.057143  0.444444  0.149533  0.223776  "
            ],
            "text/html": [
              "\n",
              "\n",
              "  <div id=\"df-bc73c21c-f294-4a7d-b431-d4360274cfd8\">\n",
              "    <div class=\"colab-df-container\">\n",
              "      <div>\n",
              "<style scoped>\n",
              "    .dataframe tbody tr th:only-of-type {\n",
              "        vertical-align: middle;\n",
              "    }\n",
              "\n",
              "    .dataframe tbody tr th {\n",
              "        vertical-align: top;\n",
              "    }\n",
              "\n",
              "    .dataframe thead th {\n",
              "        text-align: right;\n",
              "    }\n",
              "</style>\n",
              "<table border=\"1\" class=\"dataframe\">\n",
              "  <thead>\n",
              "    <tr style=\"text-align: right;\">\n",
              "      <th></th>\n",
              "      <th>Article ID</th>\n",
              "      <th>LLM Summary</th>\n",
              "      <th>llmR1-R</th>\n",
              "      <th>llmR1-P</th>\n",
              "      <th>llmR1-F</th>\n",
              "      <th>llmR2-R</th>\n",
              "      <th>llmR2-P</th>\n",
              "      <th>llmR2-F</th>\n",
              "      <th>llmRL-R</th>\n",
              "      <th>llmRL-P</th>\n",
              "      <th>llmRL-F</th>\n",
              "    </tr>\n",
              "  </thead>\n",
              "  <tbody>\n",
              "    <tr>\n",
              "      <th>0</th>\n",
              "      <td>517a2943ee6fab9e6a81bd5cd259e5801682d190</td>\n",
              "      <td>Jack Grealish is a 19-year-old academy graduat...</td>\n",
              "      <td>0.172414</td>\n",
              "      <td>0.078125</td>\n",
              "      <td>0.107527</td>\n",
              "      <td>0.000000</td>\n",
              "      <td>0.000000</td>\n",
              "      <td>0.000000</td>\n",
              "      <td>0.137931</td>\n",
              "      <td>0.062500</td>\n",
              "      <td>0.086022</td>\n",
              "    </tr>\n",
              "    <tr>\n",
              "      <th>1</th>\n",
              "      <td>e66247c8e4f0f7907e9c040bf7064782dfcb3323</td>\n",
              "      <td>Memories Gourmet Pizza in Nichols, Wisconsin w...</td>\n",
              "      <td>0.200000</td>\n",
              "      <td>0.166667</td>\n",
              "      <td>0.181818</td>\n",
              "      <td>0.050000</td>\n",
              "      <td>0.041667</td>\n",
              "      <td>0.045455</td>\n",
              "      <td>0.171429</td>\n",
              "      <td>0.142857</td>\n",
              "      <td>0.155844</td>\n",
              "    </tr>\n",
              "    <tr>\n",
              "      <th>2</th>\n",
              "      <td>907fe50dbe4dc0fb84b0683fab578806536dba28</td>\n",
              "      <td>Shay Given will start for Aston Villa against ...</td>\n",
              "      <td>0.527778</td>\n",
              "      <td>0.395833</td>\n",
              "      <td>0.452381</td>\n",
              "      <td>0.225000</td>\n",
              "      <td>0.163636</td>\n",
              "      <td>0.189474</td>\n",
              "      <td>0.527778</td>\n",
              "      <td>0.395833</td>\n",
              "      <td>0.452381</td>\n",
              "    </tr>\n",
              "    <tr>\n",
              "      <th>3</th>\n",
              "      <td>41a572feb1c9f4651b9b1e78f1482b92e16a63b1</td>\n",
              "      <td>Amir Khan believes Kell Brook has called him o...</td>\n",
              "      <td>0.317460</td>\n",
              "      <td>0.170940</td>\n",
              "      <td>0.222222</td>\n",
              "      <td>0.047619</td>\n",
              "      <td>0.021164</td>\n",
              "      <td>0.029304</td>\n",
              "      <td>0.317460</td>\n",
              "      <td>0.170940</td>\n",
              "      <td>0.222222</td>\n",
              "    </tr>\n",
              "    <tr>\n",
              "      <th>4</th>\n",
              "      <td>bb4019681e575f38978b27b51ccdc3ee07946e2c</td>\n",
              "      <td>Andros Townsend scored a superb equaliser for ...</td>\n",
              "      <td>0.444444</td>\n",
              "      <td>0.149533</td>\n",
              "      <td>0.223776</td>\n",
              "      <td>0.139535</td>\n",
              "      <td>0.035928</td>\n",
              "      <td>0.057143</td>\n",
              "      <td>0.444444</td>\n",
              "      <td>0.149533</td>\n",
              "      <td>0.223776</td>\n",
              "    </tr>\n",
              "  </tbody>\n",
              "</table>\n",
              "</div>\n",
              "      <button class=\"colab-df-convert\" onclick=\"convertToInteractive('df-bc73c21c-f294-4a7d-b431-d4360274cfd8')\"\n",
              "              title=\"Convert this dataframe to an interactive table.\"\n",
              "              style=\"display:none;\">\n",
              "\n",
              "  <svg xmlns=\"http://www.w3.org/2000/svg\" height=\"24px\"viewBox=\"0 0 24 24\"\n",
              "       width=\"24px\">\n",
              "    <path d=\"M0 0h24v24H0V0z\" fill=\"none\"/>\n",
              "    <path d=\"M18.56 5.44l.94 2.06.94-2.06 2.06-.94-2.06-.94-.94-2.06-.94 2.06-2.06.94zm-11 1L8.5 8.5l.94-2.06 2.06-.94-2.06-.94L8.5 2.5l-.94 2.06-2.06.94zm10 10l.94 2.06.94-2.06 2.06-.94-2.06-.94-.94-2.06-.94 2.06-2.06.94z\"/><path d=\"M17.41 7.96l-1.37-1.37c-.4-.4-.92-.59-1.43-.59-.52 0-1.04.2-1.43.59L10.3 9.45l-7.72 7.72c-.78.78-.78 2.05 0 2.83L4 21.41c.39.39.9.59 1.41.59.51 0 1.02-.2 1.41-.59l7.78-7.78 2.81-2.81c.8-.78.8-2.07 0-2.86zM5.41 20L4 18.59l7.72-7.72 1.47 1.35L5.41 20z\"/>\n",
              "  </svg>\n",
              "      </button>\n",
              "\n",
              "\n",
              "\n",
              "    <div id=\"df-dc8bdfe2-7cd3-4166-932e-684511e6c823\">\n",
              "      <button class=\"colab-df-quickchart\" onclick=\"quickchart('df-dc8bdfe2-7cd3-4166-932e-684511e6c823')\"\n",
              "              title=\"Suggest charts.\"\n",
              "              style=\"display:none;\">\n",
              "\n",
              "<svg xmlns=\"http://www.w3.org/2000/svg\" height=\"24px\"viewBox=\"0 0 24 24\"\n",
              "     width=\"24px\">\n",
              "    <g>\n",
              "        <path d=\"M19 3H5c-1.1 0-2 .9-2 2v14c0 1.1.9 2 2 2h14c1.1 0 2-.9 2-2V5c0-1.1-.9-2-2-2zM9 17H7v-7h2v7zm4 0h-2V7h2v10zm4 0h-2v-4h2v4z\"/>\n",
              "    </g>\n",
              "</svg>\n",
              "      </button>\n",
              "    </div>\n",
              "\n",
              "<style>\n",
              "  .colab-df-quickchart {\n",
              "    background-color: #E8F0FE;\n",
              "    border: none;\n",
              "    border-radius: 50%;\n",
              "    cursor: pointer;\n",
              "    display: none;\n",
              "    fill: #1967D2;\n",
              "    height: 32px;\n",
              "    padding: 0 0 0 0;\n",
              "    width: 32px;\n",
              "  }\n",
              "\n",
              "  .colab-df-quickchart:hover {\n",
              "    background-color: #E2EBFA;\n",
              "    box-shadow: 0px 1px 2px rgba(60, 64, 67, 0.3), 0px 1px 3px 1px rgba(60, 64, 67, 0.15);\n",
              "    fill: #174EA6;\n",
              "  }\n",
              "\n",
              "  [theme=dark] .colab-df-quickchart {\n",
              "    background-color: #3B4455;\n",
              "    fill: #D2E3FC;\n",
              "  }\n",
              "\n",
              "  [theme=dark] .colab-df-quickchart:hover {\n",
              "    background-color: #434B5C;\n",
              "    box-shadow: 0px 1px 3px 1px rgba(0, 0, 0, 0.15);\n",
              "    filter: drop-shadow(0px 1px 2px rgba(0, 0, 0, 0.3));\n",
              "    fill: #FFFFFF;\n",
              "  }\n",
              "</style>\n",
              "\n",
              "    <script>\n",
              "      async function quickchart(key) {\n",
              "        const containerElement = document.querySelector('#' + key);\n",
              "        const charts = await google.colab.kernel.invokeFunction(\n",
              "            'suggestCharts', [key], {});\n",
              "      }\n",
              "    </script>\n",
              "\n",
              "      <script>\n",
              "\n",
              "function displayQuickchartButton(domScope) {\n",
              "  let quickchartButtonEl =\n",
              "    domScope.querySelector('#df-dc8bdfe2-7cd3-4166-932e-684511e6c823 button.colab-df-quickchart');\n",
              "  quickchartButtonEl.style.display =\n",
              "    google.colab.kernel.accessAllowed ? 'block' : 'none';\n",
              "}\n",
              "\n",
              "        displayQuickchartButton(document);\n",
              "      </script>\n",
              "      <style>\n",
              "    .colab-df-container {\n",
              "      display:flex;\n",
              "      flex-wrap:wrap;\n",
              "      gap: 12px;\n",
              "    }\n",
              "\n",
              "    .colab-df-convert {\n",
              "      background-color: #E8F0FE;\n",
              "      border: none;\n",
              "      border-radius: 50%;\n",
              "      cursor: pointer;\n",
              "      display: none;\n",
              "      fill: #1967D2;\n",
              "      height: 32px;\n",
              "      padding: 0 0 0 0;\n",
              "      width: 32px;\n",
              "    }\n",
              "\n",
              "    .colab-df-convert:hover {\n",
              "      background-color: #E2EBFA;\n",
              "      box-shadow: 0px 1px 2px rgba(60, 64, 67, 0.3), 0px 1px 3px 1px rgba(60, 64, 67, 0.15);\n",
              "      fill: #174EA6;\n",
              "    }\n",
              "\n",
              "    [theme=dark] .colab-df-convert {\n",
              "      background-color: #3B4455;\n",
              "      fill: #D2E3FC;\n",
              "    }\n",
              "\n",
              "    [theme=dark] .colab-df-convert:hover {\n",
              "      background-color: #434B5C;\n",
              "      box-shadow: 0px 1px 3px 1px rgba(0, 0, 0, 0.15);\n",
              "      filter: drop-shadow(0px 1px 2px rgba(0, 0, 0, 0.3));\n",
              "      fill: #FFFFFF;\n",
              "    }\n",
              "  </style>\n",
              "\n",
              "      <script>\n",
              "        const buttonEl =\n",
              "          document.querySelector('#df-bc73c21c-f294-4a7d-b431-d4360274cfd8 button.colab-df-convert');\n",
              "        buttonEl.style.display =\n",
              "          google.colab.kernel.accessAllowed ? 'block' : 'none';\n",
              "\n",
              "        async function convertToInteractive(key) {\n",
              "          const element = document.querySelector('#df-bc73c21c-f294-4a7d-b431-d4360274cfd8');\n",
              "          const dataTable =\n",
              "            await google.colab.kernel.invokeFunction('convertToInteractive',\n",
              "                                                     [key], {});\n",
              "          if (!dataTable) return;\n",
              "\n",
              "          const docLinkHtml = 'Like what you see? Visit the ' +\n",
              "            '<a target=\"_blank\" href=https://colab.research.google.com/notebooks/data_table.ipynb>data table notebook</a>'\n",
              "            + ' to learn more about interactive tables.';\n",
              "          element.innerHTML = '';\n",
              "          dataTable['output_type'] = 'display_data';\n",
              "          await google.colab.output.renderOutput(dataTable, element);\n",
              "          const docLink = document.createElement('div');\n",
              "          docLink.innerHTML = docLinkHtml;\n",
              "          element.appendChild(docLink);\n",
              "        }\n",
              "      </script>\n",
              "    </div>\n",
              "  </div>\n"
            ]
          },
          "metadata": {},
          "execution_count": 38
        }
      ]
    },
    {
      "cell_type": "code",
      "source": [
        "template = \"\"\"Write a concise summary for the following: \"{a}.\" \"\"\"\n",
        "prompt = PromptTemplate(template=template, input_variables=[\"a\"])\n",
        "\n",
        "def get_summary(a, retries):\n",
        "    llm = VertexAI(\n",
        "        project='ucr-ursa-major-maverics-lab',\n",
        "        model_name=\"text-bison@001\",\n",
        "        temperature=0.2,\n",
        "        max_output_tokens=1024,\n",
        "        top_p=0.8,\n",
        "        top_k=40\n",
        "    )\n",
        "    if retries < 0:\n",
        "        return None\n",
        "    llm_chain = LLMChain(prompt=prompt, llm=llm)\n",
        "    b = llm_chain.run(a)\n",
        "    if 'article' in b or b == '' or b is None:\n",
        "        return get_summary(a, retries-1)\n",
        "    else:\n",
        "        return b\n",
        "\n",
        "\n",
        "def generate_summary_for_one(article_id, article_content):\n",
        "    summary = get_summary(article_content, 10)\n",
        "    if summary is None:\n",
        "        return None\n",
        "    return summary\n",
        "\n",
        "def generate_csv_for_articles(df):\n",
        "    results_df = pd.DataFrame(columns=['Article ID', 'LLM Summary'])\n",
        "    summaries_generated = 0\n",
        "\n",
        "    for index, row in df.iterrows():\n",
        "        if summaries_generated >= 229:\n",
        "            break\n",
        "        article_id = row['Article ID']\n",
        "        article_content = row['Original Article']\n",
        "        summary = generate_summary_for_one(article_id, article_content)\n",
        "        if summary is not None:\n",
        "            results_df = results_df.append({'Article ID': article_id, 'LLM Summary': summary}, ignore_index=True)\n",
        "            summaries_generated += 1\n",
        "            print(f\"Generated {summaries_generated} summaries so far.\")\n",
        "    results_df.to_csv('llm_summaries.csv', index=False)\n",
        "\n",
        "generate_csv_for_articles(dftrain)\n",
        "\n"
      ],
      "metadata": {
        "colab": {
          "base_uri": "https://localhost:8080/"
        },
        "id": "clTH0Xpm-J-3",
        "outputId": "61447f43-3bee-4137-afd8-a3b176f18535"
      },
      "execution_count": null,
      "outputs": [
        {
          "output_type": "stream",
          "name": "stderr",
          "text": [
            "<ipython-input-39-078aecbbcd33>:40: FutureWarning: The frame.append method is deprecated and will be removed from pandas in a future version. Use pandas.concat instead.\n",
            "  results_df = results_df.append({'Article ID': article_id, 'LLM Summary': summary}, ignore_index=True)\n"
          ]
        },
        {
          "output_type": "stream",
          "name": "stdout",
          "text": [
            "Generated 1 summaries so far.\n"
          ]
        },
        {
          "output_type": "stream",
          "name": "stderr",
          "text": [
            "<ipython-input-39-078aecbbcd33>:40: FutureWarning: The frame.append method is deprecated and will be removed from pandas in a future version. Use pandas.concat instead.\n",
            "  results_df = results_df.append({'Article ID': article_id, 'LLM Summary': summary}, ignore_index=True)\n"
          ]
        },
        {
          "output_type": "stream",
          "name": "stdout",
          "text": [
            "Generated 2 summaries so far.\n"
          ]
        },
        {
          "output_type": "stream",
          "name": "stderr",
          "text": [
            "<ipython-input-39-078aecbbcd33>:40: FutureWarning: The frame.append method is deprecated and will be removed from pandas in a future version. Use pandas.concat instead.\n",
            "  results_df = results_df.append({'Article ID': article_id, 'LLM Summary': summary}, ignore_index=True)\n"
          ]
        },
        {
          "output_type": "stream",
          "name": "stdout",
          "text": [
            "Generated 3 summaries so far.\n"
          ]
        },
        {
          "output_type": "stream",
          "name": "stderr",
          "text": [
            "<ipython-input-39-078aecbbcd33>:40: FutureWarning: The frame.append method is deprecated and will be removed from pandas in a future version. Use pandas.concat instead.\n",
            "  results_df = results_df.append({'Article ID': article_id, 'LLM Summary': summary}, ignore_index=True)\n"
          ]
        },
        {
          "output_type": "stream",
          "name": "stdout",
          "text": [
            "Generated 4 summaries so far.\n"
          ]
        },
        {
          "output_type": "stream",
          "name": "stderr",
          "text": [
            "<ipython-input-39-078aecbbcd33>:40: FutureWarning: The frame.append method is deprecated and will be removed from pandas in a future version. Use pandas.concat instead.\n",
            "  results_df = results_df.append({'Article ID': article_id, 'LLM Summary': summary}, ignore_index=True)\n"
          ]
        },
        {
          "output_type": "stream",
          "name": "stdout",
          "text": [
            "Generated 5 summaries so far.\n"
          ]
        },
        {
          "output_type": "stream",
          "name": "stderr",
          "text": [
            "<ipython-input-39-078aecbbcd33>:40: FutureWarning: The frame.append method is deprecated and will be removed from pandas in a future version. Use pandas.concat instead.\n",
            "  results_df = results_df.append({'Article ID': article_id, 'LLM Summary': summary}, ignore_index=True)\n"
          ]
        },
        {
          "output_type": "stream",
          "name": "stdout",
          "text": [
            "Generated 6 summaries so far.\n"
          ]
        },
        {
          "output_type": "stream",
          "name": "stderr",
          "text": [
            "<ipython-input-39-078aecbbcd33>:40: FutureWarning: The frame.append method is deprecated and will be removed from pandas in a future version. Use pandas.concat instead.\n",
            "  results_df = results_df.append({'Article ID': article_id, 'LLM Summary': summary}, ignore_index=True)\n"
          ]
        },
        {
          "output_type": "stream",
          "name": "stdout",
          "text": [
            "Generated 7 summaries so far.\n"
          ]
        },
        {
          "output_type": "stream",
          "name": "stderr",
          "text": [
            "<ipython-input-39-078aecbbcd33>:40: FutureWarning: The frame.append method is deprecated and will be removed from pandas in a future version. Use pandas.concat instead.\n",
            "  results_df = results_df.append({'Article ID': article_id, 'LLM Summary': summary}, ignore_index=True)\n"
          ]
        },
        {
          "output_type": "stream",
          "name": "stdout",
          "text": [
            "Generated 8 summaries so far.\n"
          ]
        },
        {
          "output_type": "stream",
          "name": "stderr",
          "text": [
            "<ipython-input-39-078aecbbcd33>:40: FutureWarning: The frame.append method is deprecated and will be removed from pandas in a future version. Use pandas.concat instead.\n",
            "  results_df = results_df.append({'Article ID': article_id, 'LLM Summary': summary}, ignore_index=True)\n"
          ]
        },
        {
          "output_type": "stream",
          "name": "stdout",
          "text": [
            "Generated 9 summaries so far.\n"
          ]
        },
        {
          "output_type": "stream",
          "name": "stderr",
          "text": [
            "<ipython-input-39-078aecbbcd33>:40: FutureWarning: The frame.append method is deprecated and will be removed from pandas in a future version. Use pandas.concat instead.\n",
            "  results_df = results_df.append({'Article ID': article_id, 'LLM Summary': summary}, ignore_index=True)\n"
          ]
        },
        {
          "output_type": "stream",
          "name": "stdout",
          "text": [
            "Generated 10 summaries so far.\n"
          ]
        },
        {
          "output_type": "stream",
          "name": "stderr",
          "text": [
            "<ipython-input-39-078aecbbcd33>:40: FutureWarning: The frame.append method is deprecated and will be removed from pandas in a future version. Use pandas.concat instead.\n",
            "  results_df = results_df.append({'Article ID': article_id, 'LLM Summary': summary}, ignore_index=True)\n"
          ]
        },
        {
          "output_type": "stream",
          "name": "stdout",
          "text": [
            "Generated 11 summaries so far.\n"
          ]
        },
        {
          "output_type": "stream",
          "name": "stderr",
          "text": [
            "<ipython-input-39-078aecbbcd33>:40: FutureWarning: The frame.append method is deprecated and will be removed from pandas in a future version. Use pandas.concat instead.\n",
            "  results_df = results_df.append({'Article ID': article_id, 'LLM Summary': summary}, ignore_index=True)\n"
          ]
        },
        {
          "output_type": "stream",
          "name": "stdout",
          "text": [
            "Generated 12 summaries so far.\n"
          ]
        },
        {
          "output_type": "stream",
          "name": "stderr",
          "text": [
            "<ipython-input-39-078aecbbcd33>:40: FutureWarning: The frame.append method is deprecated and will be removed from pandas in a future version. Use pandas.concat instead.\n",
            "  results_df = results_df.append({'Article ID': article_id, 'LLM Summary': summary}, ignore_index=True)\n"
          ]
        },
        {
          "output_type": "stream",
          "name": "stdout",
          "text": [
            "Generated 13 summaries so far.\n"
          ]
        },
        {
          "output_type": "stream",
          "name": "stderr",
          "text": [
            "<ipython-input-39-078aecbbcd33>:40: FutureWarning: The frame.append method is deprecated and will be removed from pandas in a future version. Use pandas.concat instead.\n",
            "  results_df = results_df.append({'Article ID': article_id, 'LLM Summary': summary}, ignore_index=True)\n"
          ]
        },
        {
          "output_type": "stream",
          "name": "stdout",
          "text": [
            "Generated 14 summaries so far.\n"
          ]
        },
        {
          "output_type": "stream",
          "name": "stderr",
          "text": [
            "<ipython-input-39-078aecbbcd33>:40: FutureWarning: The frame.append method is deprecated and will be removed from pandas in a future version. Use pandas.concat instead.\n",
            "  results_df = results_df.append({'Article ID': article_id, 'LLM Summary': summary}, ignore_index=True)\n"
          ]
        },
        {
          "output_type": "stream",
          "name": "stdout",
          "text": [
            "Generated 15 summaries so far.\n"
          ]
        },
        {
          "output_type": "stream",
          "name": "stderr",
          "text": [
            "<ipython-input-39-078aecbbcd33>:40: FutureWarning: The frame.append method is deprecated and will be removed from pandas in a future version. Use pandas.concat instead.\n",
            "  results_df = results_df.append({'Article ID': article_id, 'LLM Summary': summary}, ignore_index=True)\n"
          ]
        },
        {
          "output_type": "stream",
          "name": "stdout",
          "text": [
            "Generated 16 summaries so far.\n"
          ]
        },
        {
          "output_type": "stream",
          "name": "stderr",
          "text": [
            "<ipython-input-39-078aecbbcd33>:40: FutureWarning: The frame.append method is deprecated and will be removed from pandas in a future version. Use pandas.concat instead.\n",
            "  results_df = results_df.append({'Article ID': article_id, 'LLM Summary': summary}, ignore_index=True)\n"
          ]
        },
        {
          "output_type": "stream",
          "name": "stdout",
          "text": [
            "Generated 17 summaries so far.\n"
          ]
        },
        {
          "output_type": "stream",
          "name": "stderr",
          "text": [
            "<ipython-input-39-078aecbbcd33>:40: FutureWarning: The frame.append method is deprecated and will be removed from pandas in a future version. Use pandas.concat instead.\n",
            "  results_df = results_df.append({'Article ID': article_id, 'LLM Summary': summary}, ignore_index=True)\n"
          ]
        },
        {
          "output_type": "stream",
          "name": "stdout",
          "text": [
            "Generated 18 summaries so far.\n"
          ]
        },
        {
          "output_type": "stream",
          "name": "stderr",
          "text": [
            "<ipython-input-39-078aecbbcd33>:40: FutureWarning: The frame.append method is deprecated and will be removed from pandas in a future version. Use pandas.concat instead.\n",
            "  results_df = results_df.append({'Article ID': article_id, 'LLM Summary': summary}, ignore_index=True)\n"
          ]
        },
        {
          "output_type": "stream",
          "name": "stdout",
          "text": [
            "Generated 19 summaries so far.\n"
          ]
        },
        {
          "output_type": "stream",
          "name": "stderr",
          "text": [
            "<ipython-input-39-078aecbbcd33>:40: FutureWarning: The frame.append method is deprecated and will be removed from pandas in a future version. Use pandas.concat instead.\n",
            "  results_df = results_df.append({'Article ID': article_id, 'LLM Summary': summary}, ignore_index=True)\n"
          ]
        },
        {
          "output_type": "stream",
          "name": "stdout",
          "text": [
            "Generated 20 summaries so far.\n"
          ]
        },
        {
          "output_type": "stream",
          "name": "stderr",
          "text": [
            "<ipython-input-39-078aecbbcd33>:40: FutureWarning: The frame.append method is deprecated and will be removed from pandas in a future version. Use pandas.concat instead.\n",
            "  results_df = results_df.append({'Article ID': article_id, 'LLM Summary': summary}, ignore_index=True)\n"
          ]
        },
        {
          "output_type": "stream",
          "name": "stdout",
          "text": [
            "Generated 21 summaries so far.\n"
          ]
        },
        {
          "output_type": "stream",
          "name": "stderr",
          "text": [
            "<ipython-input-39-078aecbbcd33>:40: FutureWarning: The frame.append method is deprecated and will be removed from pandas in a future version. Use pandas.concat instead.\n",
            "  results_df = results_df.append({'Article ID': article_id, 'LLM Summary': summary}, ignore_index=True)\n"
          ]
        },
        {
          "output_type": "stream",
          "name": "stdout",
          "text": [
            "Generated 22 summaries so far.\n"
          ]
        },
        {
          "output_type": "stream",
          "name": "stderr",
          "text": [
            "<ipython-input-39-078aecbbcd33>:40: FutureWarning: The frame.append method is deprecated and will be removed from pandas in a future version. Use pandas.concat instead.\n",
            "  results_df = results_df.append({'Article ID': article_id, 'LLM Summary': summary}, ignore_index=True)\n"
          ]
        },
        {
          "output_type": "stream",
          "name": "stdout",
          "text": [
            "Generated 23 summaries so far.\n"
          ]
        },
        {
          "output_type": "stream",
          "name": "stderr",
          "text": [
            "<ipython-input-39-078aecbbcd33>:40: FutureWarning: The frame.append method is deprecated and will be removed from pandas in a future version. Use pandas.concat instead.\n",
            "  results_df = results_df.append({'Article ID': article_id, 'LLM Summary': summary}, ignore_index=True)\n"
          ]
        },
        {
          "output_type": "stream",
          "name": "stdout",
          "text": [
            "Generated 24 summaries so far.\n"
          ]
        },
        {
          "output_type": "stream",
          "name": "stderr",
          "text": [
            "<ipython-input-39-078aecbbcd33>:40: FutureWarning: The frame.append method is deprecated and will be removed from pandas in a future version. Use pandas.concat instead.\n",
            "  results_df = results_df.append({'Article ID': article_id, 'LLM Summary': summary}, ignore_index=True)\n"
          ]
        },
        {
          "output_type": "stream",
          "name": "stdout",
          "text": [
            "Generated 25 summaries so far.\n"
          ]
        },
        {
          "output_type": "stream",
          "name": "stderr",
          "text": [
            "<ipython-input-39-078aecbbcd33>:40: FutureWarning: The frame.append method is deprecated and will be removed from pandas in a future version. Use pandas.concat instead.\n",
            "  results_df = results_df.append({'Article ID': article_id, 'LLM Summary': summary}, ignore_index=True)\n"
          ]
        },
        {
          "output_type": "stream",
          "name": "stdout",
          "text": [
            "Generated 26 summaries so far.\n"
          ]
        },
        {
          "output_type": "stream",
          "name": "stderr",
          "text": [
            "<ipython-input-39-078aecbbcd33>:40: FutureWarning: The frame.append method is deprecated and will be removed from pandas in a future version. Use pandas.concat instead.\n",
            "  results_df = results_df.append({'Article ID': article_id, 'LLM Summary': summary}, ignore_index=True)\n"
          ]
        },
        {
          "output_type": "stream",
          "name": "stdout",
          "text": [
            "Generated 27 summaries so far.\n"
          ]
        },
        {
          "output_type": "stream",
          "name": "stderr",
          "text": [
            "<ipython-input-39-078aecbbcd33>:40: FutureWarning: The frame.append method is deprecated and will be removed from pandas in a future version. Use pandas.concat instead.\n",
            "  results_df = results_df.append({'Article ID': article_id, 'LLM Summary': summary}, ignore_index=True)\n"
          ]
        },
        {
          "output_type": "stream",
          "name": "stdout",
          "text": [
            "Generated 28 summaries so far.\n"
          ]
        },
        {
          "output_type": "stream",
          "name": "stderr",
          "text": [
            "<ipython-input-39-078aecbbcd33>:40: FutureWarning: The frame.append method is deprecated and will be removed from pandas in a future version. Use pandas.concat instead.\n",
            "  results_df = results_df.append({'Article ID': article_id, 'LLM Summary': summary}, ignore_index=True)\n"
          ]
        },
        {
          "output_type": "stream",
          "name": "stdout",
          "text": [
            "Generated 29 summaries so far.\n"
          ]
        },
        {
          "output_type": "stream",
          "name": "stderr",
          "text": [
            "<ipython-input-39-078aecbbcd33>:40: FutureWarning: The frame.append method is deprecated and will be removed from pandas in a future version. Use pandas.concat instead.\n",
            "  results_df = results_df.append({'Article ID': article_id, 'LLM Summary': summary}, ignore_index=True)\n"
          ]
        },
        {
          "output_type": "stream",
          "name": "stdout",
          "text": [
            "Generated 30 summaries so far.\n"
          ]
        },
        {
          "output_type": "stream",
          "name": "stderr",
          "text": [
            "<ipython-input-39-078aecbbcd33>:40: FutureWarning: The frame.append method is deprecated and will be removed from pandas in a future version. Use pandas.concat instead.\n",
            "  results_df = results_df.append({'Article ID': article_id, 'LLM Summary': summary}, ignore_index=True)\n"
          ]
        },
        {
          "output_type": "stream",
          "name": "stdout",
          "text": [
            "Generated 31 summaries so far.\n"
          ]
        },
        {
          "output_type": "stream",
          "name": "stderr",
          "text": [
            "<ipython-input-39-078aecbbcd33>:40: FutureWarning: The frame.append method is deprecated and will be removed from pandas in a future version. Use pandas.concat instead.\n",
            "  results_df = results_df.append({'Article ID': article_id, 'LLM Summary': summary}, ignore_index=True)\n"
          ]
        },
        {
          "output_type": "stream",
          "name": "stdout",
          "text": [
            "Generated 32 summaries so far.\n"
          ]
        },
        {
          "output_type": "stream",
          "name": "stderr",
          "text": [
            "<ipython-input-39-078aecbbcd33>:40: FutureWarning: The frame.append method is deprecated and will be removed from pandas in a future version. Use pandas.concat instead.\n",
            "  results_df = results_df.append({'Article ID': article_id, 'LLM Summary': summary}, ignore_index=True)\n"
          ]
        },
        {
          "output_type": "stream",
          "name": "stdout",
          "text": [
            "Generated 33 summaries so far.\n"
          ]
        },
        {
          "output_type": "stream",
          "name": "stderr",
          "text": [
            "<ipython-input-39-078aecbbcd33>:40: FutureWarning: The frame.append method is deprecated and will be removed from pandas in a future version. Use pandas.concat instead.\n",
            "  results_df = results_df.append({'Article ID': article_id, 'LLM Summary': summary}, ignore_index=True)\n"
          ]
        },
        {
          "output_type": "stream",
          "name": "stdout",
          "text": [
            "Generated 34 summaries so far.\n"
          ]
        },
        {
          "output_type": "stream",
          "name": "stderr",
          "text": [
            "<ipython-input-39-078aecbbcd33>:40: FutureWarning: The frame.append method is deprecated and will be removed from pandas in a future version. Use pandas.concat instead.\n",
            "  results_df = results_df.append({'Article ID': article_id, 'LLM Summary': summary}, ignore_index=True)\n"
          ]
        },
        {
          "output_type": "stream",
          "name": "stdout",
          "text": [
            "Generated 35 summaries so far.\n"
          ]
        },
        {
          "output_type": "stream",
          "name": "stderr",
          "text": [
            "<ipython-input-39-078aecbbcd33>:40: FutureWarning: The frame.append method is deprecated and will be removed from pandas in a future version. Use pandas.concat instead.\n",
            "  results_df = results_df.append({'Article ID': article_id, 'LLM Summary': summary}, ignore_index=True)\n"
          ]
        },
        {
          "output_type": "stream",
          "name": "stdout",
          "text": [
            "Generated 36 summaries so far.\n"
          ]
        },
        {
          "output_type": "stream",
          "name": "stderr",
          "text": [
            "<ipython-input-39-078aecbbcd33>:40: FutureWarning: The frame.append method is deprecated and will be removed from pandas in a future version. Use pandas.concat instead.\n",
            "  results_df = results_df.append({'Article ID': article_id, 'LLM Summary': summary}, ignore_index=True)\n"
          ]
        },
        {
          "output_type": "stream",
          "name": "stdout",
          "text": [
            "Generated 37 summaries so far.\n"
          ]
        },
        {
          "output_type": "stream",
          "name": "stderr",
          "text": [
            "<ipython-input-39-078aecbbcd33>:40: FutureWarning: The frame.append method is deprecated and will be removed from pandas in a future version. Use pandas.concat instead.\n",
            "  results_df = results_df.append({'Article ID': article_id, 'LLM Summary': summary}, ignore_index=True)\n"
          ]
        },
        {
          "output_type": "stream",
          "name": "stdout",
          "text": [
            "Generated 38 summaries so far.\n"
          ]
        },
        {
          "output_type": "stream",
          "name": "stderr",
          "text": [
            "<ipython-input-39-078aecbbcd33>:40: FutureWarning: The frame.append method is deprecated and will be removed from pandas in a future version. Use pandas.concat instead.\n",
            "  results_df = results_df.append({'Article ID': article_id, 'LLM Summary': summary}, ignore_index=True)\n"
          ]
        },
        {
          "output_type": "stream",
          "name": "stdout",
          "text": [
            "Generated 39 summaries so far.\n"
          ]
        },
        {
          "output_type": "stream",
          "name": "stderr",
          "text": [
            "<ipython-input-39-078aecbbcd33>:40: FutureWarning: The frame.append method is deprecated and will be removed from pandas in a future version. Use pandas.concat instead.\n",
            "  results_df = results_df.append({'Article ID': article_id, 'LLM Summary': summary}, ignore_index=True)\n"
          ]
        },
        {
          "output_type": "stream",
          "name": "stdout",
          "text": [
            "Generated 40 summaries so far.\n"
          ]
        },
        {
          "output_type": "stream",
          "name": "stderr",
          "text": [
            "<ipython-input-39-078aecbbcd33>:40: FutureWarning: The frame.append method is deprecated and will be removed from pandas in a future version. Use pandas.concat instead.\n",
            "  results_df = results_df.append({'Article ID': article_id, 'LLM Summary': summary}, ignore_index=True)\n"
          ]
        },
        {
          "output_type": "stream",
          "name": "stdout",
          "text": [
            "Generated 41 summaries so far.\n"
          ]
        },
        {
          "output_type": "stream",
          "name": "stderr",
          "text": [
            "<ipython-input-39-078aecbbcd33>:40: FutureWarning: The frame.append method is deprecated and will be removed from pandas in a future version. Use pandas.concat instead.\n",
            "  results_df = results_df.append({'Article ID': article_id, 'LLM Summary': summary}, ignore_index=True)\n"
          ]
        },
        {
          "output_type": "stream",
          "name": "stdout",
          "text": [
            "Generated 42 summaries so far.\n"
          ]
        },
        {
          "output_type": "stream",
          "name": "stderr",
          "text": [
            "<ipython-input-39-078aecbbcd33>:40: FutureWarning: The frame.append method is deprecated and will be removed from pandas in a future version. Use pandas.concat instead.\n",
            "  results_df = results_df.append({'Article ID': article_id, 'LLM Summary': summary}, ignore_index=True)\n"
          ]
        },
        {
          "output_type": "stream",
          "name": "stdout",
          "text": [
            "Generated 43 summaries so far.\n"
          ]
        },
        {
          "output_type": "stream",
          "name": "stderr",
          "text": [
            "<ipython-input-39-078aecbbcd33>:40: FutureWarning: The frame.append method is deprecated and will be removed from pandas in a future version. Use pandas.concat instead.\n",
            "  results_df = results_df.append({'Article ID': article_id, 'LLM Summary': summary}, ignore_index=True)\n"
          ]
        },
        {
          "output_type": "stream",
          "name": "stdout",
          "text": [
            "Generated 44 summaries so far.\n"
          ]
        },
        {
          "output_type": "stream",
          "name": "stderr",
          "text": [
            "<ipython-input-39-078aecbbcd33>:40: FutureWarning: The frame.append method is deprecated and will be removed from pandas in a future version. Use pandas.concat instead.\n",
            "  results_df = results_df.append({'Article ID': article_id, 'LLM Summary': summary}, ignore_index=True)\n"
          ]
        },
        {
          "output_type": "stream",
          "name": "stdout",
          "text": [
            "Generated 45 summaries so far.\n"
          ]
        },
        {
          "output_type": "stream",
          "name": "stderr",
          "text": [
            "<ipython-input-39-078aecbbcd33>:40: FutureWarning: The frame.append method is deprecated and will be removed from pandas in a future version. Use pandas.concat instead.\n",
            "  results_df = results_df.append({'Article ID': article_id, 'LLM Summary': summary}, ignore_index=True)\n"
          ]
        },
        {
          "output_type": "stream",
          "name": "stdout",
          "text": [
            "Generated 46 summaries so far.\n"
          ]
        },
        {
          "output_type": "stream",
          "name": "stderr",
          "text": [
            "<ipython-input-39-078aecbbcd33>:40: FutureWarning: The frame.append method is deprecated and will be removed from pandas in a future version. Use pandas.concat instead.\n",
            "  results_df = results_df.append({'Article ID': article_id, 'LLM Summary': summary}, ignore_index=True)\n"
          ]
        },
        {
          "output_type": "stream",
          "name": "stdout",
          "text": [
            "Generated 47 summaries so far.\n"
          ]
        },
        {
          "output_type": "stream",
          "name": "stderr",
          "text": [
            "<ipython-input-39-078aecbbcd33>:40: FutureWarning: The frame.append method is deprecated and will be removed from pandas in a future version. Use pandas.concat instead.\n",
            "  results_df = results_df.append({'Article ID': article_id, 'LLM Summary': summary}, ignore_index=True)\n"
          ]
        },
        {
          "output_type": "stream",
          "name": "stdout",
          "text": [
            "Generated 48 summaries so far.\n"
          ]
        },
        {
          "output_type": "stream",
          "name": "stderr",
          "text": [
            "<ipython-input-39-078aecbbcd33>:40: FutureWarning: The frame.append method is deprecated and will be removed from pandas in a future version. Use pandas.concat instead.\n",
            "  results_df = results_df.append({'Article ID': article_id, 'LLM Summary': summary}, ignore_index=True)\n"
          ]
        },
        {
          "output_type": "stream",
          "name": "stdout",
          "text": [
            "Generated 49 summaries so far.\n"
          ]
        },
        {
          "output_type": "stream",
          "name": "stderr",
          "text": [
            "<ipython-input-39-078aecbbcd33>:40: FutureWarning: The frame.append method is deprecated and will be removed from pandas in a future version. Use pandas.concat instead.\n",
            "  results_df = results_df.append({'Article ID': article_id, 'LLM Summary': summary}, ignore_index=True)\n"
          ]
        },
        {
          "output_type": "stream",
          "name": "stdout",
          "text": [
            "Generated 50 summaries so far.\n"
          ]
        },
        {
          "output_type": "stream",
          "name": "stderr",
          "text": [
            "<ipython-input-39-078aecbbcd33>:40: FutureWarning: The frame.append method is deprecated and will be removed from pandas in a future version. Use pandas.concat instead.\n",
            "  results_df = results_df.append({'Article ID': article_id, 'LLM Summary': summary}, ignore_index=True)\n"
          ]
        },
        {
          "output_type": "stream",
          "name": "stdout",
          "text": [
            "Generated 51 summaries so far.\n"
          ]
        },
        {
          "output_type": "stream",
          "name": "stderr",
          "text": [
            "<ipython-input-39-078aecbbcd33>:40: FutureWarning: The frame.append method is deprecated and will be removed from pandas in a future version. Use pandas.concat instead.\n",
            "  results_df = results_df.append({'Article ID': article_id, 'LLM Summary': summary}, ignore_index=True)\n"
          ]
        },
        {
          "output_type": "stream",
          "name": "stdout",
          "text": [
            "Generated 52 summaries so far.\n"
          ]
        },
        {
          "output_type": "stream",
          "name": "stderr",
          "text": [
            "<ipython-input-39-078aecbbcd33>:40: FutureWarning: The frame.append method is deprecated and will be removed from pandas in a future version. Use pandas.concat instead.\n",
            "  results_df = results_df.append({'Article ID': article_id, 'LLM Summary': summary}, ignore_index=True)\n"
          ]
        },
        {
          "output_type": "stream",
          "name": "stdout",
          "text": [
            "Generated 53 summaries so far.\n"
          ]
        },
        {
          "output_type": "stream",
          "name": "stderr",
          "text": [
            "<ipython-input-39-078aecbbcd33>:40: FutureWarning: The frame.append method is deprecated and will be removed from pandas in a future version. Use pandas.concat instead.\n",
            "  results_df = results_df.append({'Article ID': article_id, 'LLM Summary': summary}, ignore_index=True)\n"
          ]
        },
        {
          "output_type": "stream",
          "name": "stdout",
          "text": [
            "Generated 54 summaries so far.\n"
          ]
        },
        {
          "output_type": "stream",
          "name": "stderr",
          "text": [
            "<ipython-input-39-078aecbbcd33>:40: FutureWarning: The frame.append method is deprecated and will be removed from pandas in a future version. Use pandas.concat instead.\n",
            "  results_df = results_df.append({'Article ID': article_id, 'LLM Summary': summary}, ignore_index=True)\n"
          ]
        },
        {
          "output_type": "stream",
          "name": "stdout",
          "text": [
            "Generated 55 summaries so far.\n"
          ]
        },
        {
          "output_type": "stream",
          "name": "stderr",
          "text": [
            "<ipython-input-39-078aecbbcd33>:40: FutureWarning: The frame.append method is deprecated and will be removed from pandas in a future version. Use pandas.concat instead.\n",
            "  results_df = results_df.append({'Article ID': article_id, 'LLM Summary': summary}, ignore_index=True)\n"
          ]
        },
        {
          "output_type": "stream",
          "name": "stdout",
          "text": [
            "Generated 56 summaries so far.\n"
          ]
        },
        {
          "output_type": "stream",
          "name": "stderr",
          "text": [
            "<ipython-input-39-078aecbbcd33>:40: FutureWarning: The frame.append method is deprecated and will be removed from pandas in a future version. Use pandas.concat instead.\n",
            "  results_df = results_df.append({'Article ID': article_id, 'LLM Summary': summary}, ignore_index=True)\n"
          ]
        },
        {
          "output_type": "stream",
          "name": "stdout",
          "text": [
            "Generated 57 summaries so far.\n"
          ]
        },
        {
          "output_type": "stream",
          "name": "stderr",
          "text": [
            "<ipython-input-39-078aecbbcd33>:40: FutureWarning: The frame.append method is deprecated and will be removed from pandas in a future version. Use pandas.concat instead.\n",
            "  results_df = results_df.append({'Article ID': article_id, 'LLM Summary': summary}, ignore_index=True)\n"
          ]
        },
        {
          "output_type": "stream",
          "name": "stdout",
          "text": [
            "Generated 58 summaries so far.\n"
          ]
        },
        {
          "output_type": "stream",
          "name": "stderr",
          "text": [
            "<ipython-input-39-078aecbbcd33>:40: FutureWarning: The frame.append method is deprecated and will be removed from pandas in a future version. Use pandas.concat instead.\n",
            "  results_df = results_df.append({'Article ID': article_id, 'LLM Summary': summary}, ignore_index=True)\n"
          ]
        },
        {
          "output_type": "stream",
          "name": "stdout",
          "text": [
            "Generated 59 summaries so far.\n"
          ]
        },
        {
          "output_type": "stream",
          "name": "stderr",
          "text": [
            "<ipython-input-39-078aecbbcd33>:40: FutureWarning: The frame.append method is deprecated and will be removed from pandas in a future version. Use pandas.concat instead.\n",
            "  results_df = results_df.append({'Article ID': article_id, 'LLM Summary': summary}, ignore_index=True)\n"
          ]
        },
        {
          "output_type": "stream",
          "name": "stdout",
          "text": [
            "Generated 60 summaries so far.\n"
          ]
        },
        {
          "output_type": "stream",
          "name": "stderr",
          "text": [
            "<ipython-input-39-078aecbbcd33>:40: FutureWarning: The frame.append method is deprecated and will be removed from pandas in a future version. Use pandas.concat instead.\n",
            "  results_df = results_df.append({'Article ID': article_id, 'LLM Summary': summary}, ignore_index=True)\n"
          ]
        },
        {
          "output_type": "stream",
          "name": "stdout",
          "text": [
            "Generated 61 summaries so far.\n"
          ]
        },
        {
          "output_type": "stream",
          "name": "stderr",
          "text": [
            "<ipython-input-39-078aecbbcd33>:40: FutureWarning: The frame.append method is deprecated and will be removed from pandas in a future version. Use pandas.concat instead.\n",
            "  results_df = results_df.append({'Article ID': article_id, 'LLM Summary': summary}, ignore_index=True)\n"
          ]
        },
        {
          "output_type": "stream",
          "name": "stdout",
          "text": [
            "Generated 62 summaries so far.\n"
          ]
        },
        {
          "output_type": "stream",
          "name": "stderr",
          "text": [
            "<ipython-input-39-078aecbbcd33>:40: FutureWarning: The frame.append method is deprecated and will be removed from pandas in a future version. Use pandas.concat instead.\n",
            "  results_df = results_df.append({'Article ID': article_id, 'LLM Summary': summary}, ignore_index=True)\n"
          ]
        },
        {
          "output_type": "stream",
          "name": "stdout",
          "text": [
            "Generated 63 summaries so far.\n"
          ]
        },
        {
          "output_type": "stream",
          "name": "stderr",
          "text": [
            "<ipython-input-39-078aecbbcd33>:40: FutureWarning: The frame.append method is deprecated and will be removed from pandas in a future version. Use pandas.concat instead.\n",
            "  results_df = results_df.append({'Article ID': article_id, 'LLM Summary': summary}, ignore_index=True)\n"
          ]
        },
        {
          "output_type": "stream",
          "name": "stdout",
          "text": [
            "Generated 64 summaries so far.\n"
          ]
        },
        {
          "output_type": "stream",
          "name": "stderr",
          "text": [
            "<ipython-input-39-078aecbbcd33>:40: FutureWarning: The frame.append method is deprecated and will be removed from pandas in a future version. Use pandas.concat instead.\n",
            "  results_df = results_df.append({'Article ID': article_id, 'LLM Summary': summary}, ignore_index=True)\n"
          ]
        },
        {
          "output_type": "stream",
          "name": "stdout",
          "text": [
            "Generated 65 summaries so far.\n"
          ]
        },
        {
          "output_type": "stream",
          "name": "stderr",
          "text": [
            "<ipython-input-39-078aecbbcd33>:40: FutureWarning: The frame.append method is deprecated and will be removed from pandas in a future version. Use pandas.concat instead.\n",
            "  results_df = results_df.append({'Article ID': article_id, 'LLM Summary': summary}, ignore_index=True)\n"
          ]
        },
        {
          "output_type": "stream",
          "name": "stdout",
          "text": [
            "Generated 66 summaries so far.\n"
          ]
        },
        {
          "output_type": "stream",
          "name": "stderr",
          "text": [
            "<ipython-input-39-078aecbbcd33>:40: FutureWarning: The frame.append method is deprecated and will be removed from pandas in a future version. Use pandas.concat instead.\n",
            "  results_df = results_df.append({'Article ID': article_id, 'LLM Summary': summary}, ignore_index=True)\n"
          ]
        },
        {
          "output_type": "stream",
          "name": "stdout",
          "text": [
            "Generated 67 summaries so far.\n"
          ]
        },
        {
          "output_type": "stream",
          "name": "stderr",
          "text": [
            "<ipython-input-39-078aecbbcd33>:40: FutureWarning: The frame.append method is deprecated and will be removed from pandas in a future version. Use pandas.concat instead.\n",
            "  results_df = results_df.append({'Article ID': article_id, 'LLM Summary': summary}, ignore_index=True)\n"
          ]
        },
        {
          "output_type": "stream",
          "name": "stdout",
          "text": [
            "Generated 68 summaries so far.\n"
          ]
        },
        {
          "output_type": "stream",
          "name": "stderr",
          "text": [
            "<ipython-input-39-078aecbbcd33>:40: FutureWarning: The frame.append method is deprecated and will be removed from pandas in a future version. Use pandas.concat instead.\n",
            "  results_df = results_df.append({'Article ID': article_id, 'LLM Summary': summary}, ignore_index=True)\n"
          ]
        },
        {
          "output_type": "stream",
          "name": "stdout",
          "text": [
            "Generated 69 summaries so far.\n"
          ]
        },
        {
          "output_type": "stream",
          "name": "stderr",
          "text": [
            "<ipython-input-39-078aecbbcd33>:40: FutureWarning: The frame.append method is deprecated and will be removed from pandas in a future version. Use pandas.concat instead.\n",
            "  results_df = results_df.append({'Article ID': article_id, 'LLM Summary': summary}, ignore_index=True)\n"
          ]
        },
        {
          "output_type": "stream",
          "name": "stdout",
          "text": [
            "Generated 70 summaries so far.\n"
          ]
        },
        {
          "output_type": "stream",
          "name": "stderr",
          "text": [
            "<ipython-input-39-078aecbbcd33>:40: FutureWarning: The frame.append method is deprecated and will be removed from pandas in a future version. Use pandas.concat instead.\n",
            "  results_df = results_df.append({'Article ID': article_id, 'LLM Summary': summary}, ignore_index=True)\n"
          ]
        },
        {
          "output_type": "stream",
          "name": "stdout",
          "text": [
            "Generated 71 summaries so far.\n"
          ]
        },
        {
          "output_type": "stream",
          "name": "stderr",
          "text": [
            "<ipython-input-39-078aecbbcd33>:40: FutureWarning: The frame.append method is deprecated and will be removed from pandas in a future version. Use pandas.concat instead.\n",
            "  results_df = results_df.append({'Article ID': article_id, 'LLM Summary': summary}, ignore_index=True)\n"
          ]
        },
        {
          "output_type": "stream",
          "name": "stdout",
          "text": [
            "Generated 72 summaries so far.\n"
          ]
        },
        {
          "output_type": "stream",
          "name": "stderr",
          "text": [
            "<ipython-input-39-078aecbbcd33>:40: FutureWarning: The frame.append method is deprecated and will be removed from pandas in a future version. Use pandas.concat instead.\n",
            "  results_df = results_df.append({'Article ID': article_id, 'LLM Summary': summary}, ignore_index=True)\n"
          ]
        },
        {
          "output_type": "stream",
          "name": "stdout",
          "text": [
            "Generated 73 summaries so far.\n"
          ]
        },
        {
          "output_type": "stream",
          "name": "stderr",
          "text": [
            "<ipython-input-39-078aecbbcd33>:40: FutureWarning: The frame.append method is deprecated and will be removed from pandas in a future version. Use pandas.concat instead.\n",
            "  results_df = results_df.append({'Article ID': article_id, 'LLM Summary': summary}, ignore_index=True)\n"
          ]
        },
        {
          "output_type": "stream",
          "name": "stdout",
          "text": [
            "Generated 74 summaries so far.\n"
          ]
        },
        {
          "output_type": "stream",
          "name": "stderr",
          "text": [
            "<ipython-input-39-078aecbbcd33>:40: FutureWarning: The frame.append method is deprecated and will be removed from pandas in a future version. Use pandas.concat instead.\n",
            "  results_df = results_df.append({'Article ID': article_id, 'LLM Summary': summary}, ignore_index=True)\n"
          ]
        },
        {
          "output_type": "stream",
          "name": "stdout",
          "text": [
            "Generated 75 summaries so far.\n"
          ]
        },
        {
          "output_type": "stream",
          "name": "stderr",
          "text": [
            "<ipython-input-39-078aecbbcd33>:40: FutureWarning: The frame.append method is deprecated and will be removed from pandas in a future version. Use pandas.concat instead.\n",
            "  results_df = results_df.append({'Article ID': article_id, 'LLM Summary': summary}, ignore_index=True)\n"
          ]
        },
        {
          "output_type": "stream",
          "name": "stdout",
          "text": [
            "Generated 76 summaries so far.\n"
          ]
        },
        {
          "output_type": "stream",
          "name": "stderr",
          "text": [
            "<ipython-input-39-078aecbbcd33>:40: FutureWarning: The frame.append method is deprecated and will be removed from pandas in a future version. Use pandas.concat instead.\n",
            "  results_df = results_df.append({'Article ID': article_id, 'LLM Summary': summary}, ignore_index=True)\n"
          ]
        },
        {
          "output_type": "stream",
          "name": "stdout",
          "text": [
            "Generated 77 summaries so far.\n"
          ]
        },
        {
          "output_type": "stream",
          "name": "stderr",
          "text": [
            "<ipython-input-39-078aecbbcd33>:40: FutureWarning: The frame.append method is deprecated and will be removed from pandas in a future version. Use pandas.concat instead.\n",
            "  results_df = results_df.append({'Article ID': article_id, 'LLM Summary': summary}, ignore_index=True)\n"
          ]
        },
        {
          "output_type": "stream",
          "name": "stdout",
          "text": [
            "Generated 78 summaries so far.\n"
          ]
        },
        {
          "output_type": "stream",
          "name": "stderr",
          "text": [
            "<ipython-input-39-078aecbbcd33>:40: FutureWarning: The frame.append method is deprecated and will be removed from pandas in a future version. Use pandas.concat instead.\n",
            "  results_df = results_df.append({'Article ID': article_id, 'LLM Summary': summary}, ignore_index=True)\n"
          ]
        },
        {
          "output_type": "stream",
          "name": "stdout",
          "text": [
            "Generated 79 summaries so far.\n"
          ]
        },
        {
          "output_type": "stream",
          "name": "stderr",
          "text": [
            "<ipython-input-39-078aecbbcd33>:40: FutureWarning: The frame.append method is deprecated and will be removed from pandas in a future version. Use pandas.concat instead.\n",
            "  results_df = results_df.append({'Article ID': article_id, 'LLM Summary': summary}, ignore_index=True)\n"
          ]
        },
        {
          "output_type": "stream",
          "name": "stdout",
          "text": [
            "Generated 80 summaries so far.\n"
          ]
        },
        {
          "output_type": "stream",
          "name": "stderr",
          "text": [
            "<ipython-input-39-078aecbbcd33>:40: FutureWarning: The frame.append method is deprecated and will be removed from pandas in a future version. Use pandas.concat instead.\n",
            "  results_df = results_df.append({'Article ID': article_id, 'LLM Summary': summary}, ignore_index=True)\n"
          ]
        },
        {
          "output_type": "stream",
          "name": "stdout",
          "text": [
            "Generated 81 summaries so far.\n"
          ]
        },
        {
          "output_type": "stream",
          "name": "stderr",
          "text": [
            "<ipython-input-39-078aecbbcd33>:40: FutureWarning: The frame.append method is deprecated and will be removed from pandas in a future version. Use pandas.concat instead.\n",
            "  results_df = results_df.append({'Article ID': article_id, 'LLM Summary': summary}, ignore_index=True)\n"
          ]
        },
        {
          "output_type": "stream",
          "name": "stdout",
          "text": [
            "Generated 82 summaries so far.\n"
          ]
        },
        {
          "output_type": "stream",
          "name": "stderr",
          "text": [
            "<ipython-input-39-078aecbbcd33>:40: FutureWarning: The frame.append method is deprecated and will be removed from pandas in a future version. Use pandas.concat instead.\n",
            "  results_df = results_df.append({'Article ID': article_id, 'LLM Summary': summary}, ignore_index=True)\n"
          ]
        },
        {
          "output_type": "stream",
          "name": "stdout",
          "text": [
            "Generated 83 summaries so far.\n"
          ]
        },
        {
          "output_type": "stream",
          "name": "stderr",
          "text": [
            "<ipython-input-39-078aecbbcd33>:40: FutureWarning: The frame.append method is deprecated and will be removed from pandas in a future version. Use pandas.concat instead.\n",
            "  results_df = results_df.append({'Article ID': article_id, 'LLM Summary': summary}, ignore_index=True)\n"
          ]
        },
        {
          "output_type": "stream",
          "name": "stdout",
          "text": [
            "Generated 84 summaries so far.\n"
          ]
        },
        {
          "output_type": "stream",
          "name": "stderr",
          "text": [
            "<ipython-input-39-078aecbbcd33>:40: FutureWarning: The frame.append method is deprecated and will be removed from pandas in a future version. Use pandas.concat instead.\n",
            "  results_df = results_df.append({'Article ID': article_id, 'LLM Summary': summary}, ignore_index=True)\n"
          ]
        },
        {
          "output_type": "stream",
          "name": "stdout",
          "text": [
            "Generated 85 summaries so far.\n"
          ]
        },
        {
          "output_type": "stream",
          "name": "stderr",
          "text": [
            "<ipython-input-39-078aecbbcd33>:40: FutureWarning: The frame.append method is deprecated and will be removed from pandas in a future version. Use pandas.concat instead.\n",
            "  results_df = results_df.append({'Article ID': article_id, 'LLM Summary': summary}, ignore_index=True)\n"
          ]
        },
        {
          "output_type": "stream",
          "name": "stdout",
          "text": [
            "Generated 86 summaries so far.\n"
          ]
        },
        {
          "output_type": "stream",
          "name": "stderr",
          "text": [
            "<ipython-input-39-078aecbbcd33>:40: FutureWarning: The frame.append method is deprecated and will be removed from pandas in a future version. Use pandas.concat instead.\n",
            "  results_df = results_df.append({'Article ID': article_id, 'LLM Summary': summary}, ignore_index=True)\n"
          ]
        },
        {
          "output_type": "stream",
          "name": "stdout",
          "text": [
            "Generated 87 summaries so far.\n"
          ]
        },
        {
          "output_type": "stream",
          "name": "stderr",
          "text": [
            "<ipython-input-39-078aecbbcd33>:40: FutureWarning: The frame.append method is deprecated and will be removed from pandas in a future version. Use pandas.concat instead.\n",
            "  results_df = results_df.append({'Article ID': article_id, 'LLM Summary': summary}, ignore_index=True)\n"
          ]
        },
        {
          "output_type": "stream",
          "name": "stdout",
          "text": [
            "Generated 88 summaries so far.\n"
          ]
        },
        {
          "output_type": "stream",
          "name": "stderr",
          "text": [
            "<ipython-input-39-078aecbbcd33>:40: FutureWarning: The frame.append method is deprecated and will be removed from pandas in a future version. Use pandas.concat instead.\n",
            "  results_df = results_df.append({'Article ID': article_id, 'LLM Summary': summary}, ignore_index=True)\n"
          ]
        },
        {
          "output_type": "stream",
          "name": "stdout",
          "text": [
            "Generated 89 summaries so far.\n"
          ]
        },
        {
          "output_type": "stream",
          "name": "stderr",
          "text": [
            "<ipython-input-39-078aecbbcd33>:40: FutureWarning: The frame.append method is deprecated and will be removed from pandas in a future version. Use pandas.concat instead.\n",
            "  results_df = results_df.append({'Article ID': article_id, 'LLM Summary': summary}, ignore_index=True)\n"
          ]
        },
        {
          "output_type": "stream",
          "name": "stdout",
          "text": [
            "Generated 90 summaries so far.\n"
          ]
        },
        {
          "output_type": "stream",
          "name": "stderr",
          "text": [
            "<ipython-input-39-078aecbbcd33>:40: FutureWarning: The frame.append method is deprecated and will be removed from pandas in a future version. Use pandas.concat instead.\n",
            "  results_df = results_df.append({'Article ID': article_id, 'LLM Summary': summary}, ignore_index=True)\n"
          ]
        },
        {
          "output_type": "stream",
          "name": "stdout",
          "text": [
            "Generated 91 summaries so far.\n"
          ]
        },
        {
          "output_type": "stream",
          "name": "stderr",
          "text": [
            "<ipython-input-39-078aecbbcd33>:40: FutureWarning: The frame.append method is deprecated and will be removed from pandas in a future version. Use pandas.concat instead.\n",
            "  results_df = results_df.append({'Article ID': article_id, 'LLM Summary': summary}, ignore_index=True)\n"
          ]
        },
        {
          "output_type": "stream",
          "name": "stdout",
          "text": [
            "Generated 92 summaries so far.\n"
          ]
        },
        {
          "output_type": "stream",
          "name": "stderr",
          "text": [
            "<ipython-input-39-078aecbbcd33>:40: FutureWarning: The frame.append method is deprecated and will be removed from pandas in a future version. Use pandas.concat instead.\n",
            "  results_df = results_df.append({'Article ID': article_id, 'LLM Summary': summary}, ignore_index=True)\n"
          ]
        },
        {
          "output_type": "stream",
          "name": "stdout",
          "text": [
            "Generated 93 summaries so far.\n"
          ]
        },
        {
          "output_type": "stream",
          "name": "stderr",
          "text": [
            "<ipython-input-39-078aecbbcd33>:40: FutureWarning: The frame.append method is deprecated and will be removed from pandas in a future version. Use pandas.concat instead.\n",
            "  results_df = results_df.append({'Article ID': article_id, 'LLM Summary': summary}, ignore_index=True)\n"
          ]
        },
        {
          "output_type": "stream",
          "name": "stdout",
          "text": [
            "Generated 94 summaries so far.\n"
          ]
        },
        {
          "output_type": "stream",
          "name": "stderr",
          "text": [
            "<ipython-input-39-078aecbbcd33>:40: FutureWarning: The frame.append method is deprecated and will be removed from pandas in a future version. Use pandas.concat instead.\n",
            "  results_df = results_df.append({'Article ID': article_id, 'LLM Summary': summary}, ignore_index=True)\n"
          ]
        },
        {
          "output_type": "stream",
          "name": "stdout",
          "text": [
            "Generated 95 summaries so far.\n"
          ]
        },
        {
          "output_type": "stream",
          "name": "stderr",
          "text": [
            "<ipython-input-39-078aecbbcd33>:40: FutureWarning: The frame.append method is deprecated and will be removed from pandas in a future version. Use pandas.concat instead.\n",
            "  results_df = results_df.append({'Article ID': article_id, 'LLM Summary': summary}, ignore_index=True)\n"
          ]
        },
        {
          "output_type": "stream",
          "name": "stdout",
          "text": [
            "Generated 96 summaries so far.\n"
          ]
        },
        {
          "output_type": "stream",
          "name": "stderr",
          "text": [
            "<ipython-input-39-078aecbbcd33>:40: FutureWarning: The frame.append method is deprecated and will be removed from pandas in a future version. Use pandas.concat instead.\n",
            "  results_df = results_df.append({'Article ID': article_id, 'LLM Summary': summary}, ignore_index=True)\n"
          ]
        },
        {
          "output_type": "stream",
          "name": "stdout",
          "text": [
            "Generated 97 summaries so far.\n"
          ]
        },
        {
          "output_type": "stream",
          "name": "stderr",
          "text": [
            "<ipython-input-39-078aecbbcd33>:40: FutureWarning: The frame.append method is deprecated and will be removed from pandas in a future version. Use pandas.concat instead.\n",
            "  results_df = results_df.append({'Article ID': article_id, 'LLM Summary': summary}, ignore_index=True)\n"
          ]
        },
        {
          "output_type": "stream",
          "name": "stdout",
          "text": [
            "Generated 98 summaries so far.\n"
          ]
        },
        {
          "output_type": "stream",
          "name": "stderr",
          "text": [
            "<ipython-input-39-078aecbbcd33>:40: FutureWarning: The frame.append method is deprecated and will be removed from pandas in a future version. Use pandas.concat instead.\n",
            "  results_df = results_df.append({'Article ID': article_id, 'LLM Summary': summary}, ignore_index=True)\n"
          ]
        },
        {
          "output_type": "stream",
          "name": "stdout",
          "text": [
            "Generated 99 summaries so far.\n"
          ]
        },
        {
          "output_type": "stream",
          "name": "stderr",
          "text": [
            "<ipython-input-39-078aecbbcd33>:40: FutureWarning: The frame.append method is deprecated and will be removed from pandas in a future version. Use pandas.concat instead.\n",
            "  results_df = results_df.append({'Article ID': article_id, 'LLM Summary': summary}, ignore_index=True)\n"
          ]
        },
        {
          "output_type": "stream",
          "name": "stdout",
          "text": [
            "Generated 100 summaries so far.\n"
          ]
        },
        {
          "output_type": "stream",
          "name": "stderr",
          "text": [
            "<ipython-input-39-078aecbbcd33>:40: FutureWarning: The frame.append method is deprecated and will be removed from pandas in a future version. Use pandas.concat instead.\n",
            "  results_df = results_df.append({'Article ID': article_id, 'LLM Summary': summary}, ignore_index=True)\n"
          ]
        },
        {
          "output_type": "stream",
          "name": "stdout",
          "text": [
            "Generated 101 summaries so far.\n"
          ]
        },
        {
          "output_type": "stream",
          "name": "stderr",
          "text": [
            "<ipython-input-39-078aecbbcd33>:40: FutureWarning: The frame.append method is deprecated and will be removed from pandas in a future version. Use pandas.concat instead.\n",
            "  results_df = results_df.append({'Article ID': article_id, 'LLM Summary': summary}, ignore_index=True)\n"
          ]
        },
        {
          "output_type": "stream",
          "name": "stdout",
          "text": [
            "Generated 102 summaries so far.\n"
          ]
        },
        {
          "output_type": "stream",
          "name": "stderr",
          "text": [
            "<ipython-input-39-078aecbbcd33>:40: FutureWarning: The frame.append method is deprecated and will be removed from pandas in a future version. Use pandas.concat instead.\n",
            "  results_df = results_df.append({'Article ID': article_id, 'LLM Summary': summary}, ignore_index=True)\n"
          ]
        },
        {
          "output_type": "stream",
          "name": "stdout",
          "text": [
            "Generated 103 summaries so far.\n"
          ]
        },
        {
          "output_type": "stream",
          "name": "stderr",
          "text": [
            "<ipython-input-39-078aecbbcd33>:40: FutureWarning: The frame.append method is deprecated and will be removed from pandas in a future version. Use pandas.concat instead.\n",
            "  results_df = results_df.append({'Article ID': article_id, 'LLM Summary': summary}, ignore_index=True)\n"
          ]
        },
        {
          "output_type": "stream",
          "name": "stdout",
          "text": [
            "Generated 104 summaries so far.\n"
          ]
        },
        {
          "output_type": "stream",
          "name": "stderr",
          "text": [
            "<ipython-input-39-078aecbbcd33>:40: FutureWarning: The frame.append method is deprecated and will be removed from pandas in a future version. Use pandas.concat instead.\n",
            "  results_df = results_df.append({'Article ID': article_id, 'LLM Summary': summary}, ignore_index=True)\n"
          ]
        },
        {
          "output_type": "stream",
          "name": "stdout",
          "text": [
            "Generated 105 summaries so far.\n"
          ]
        },
        {
          "output_type": "stream",
          "name": "stderr",
          "text": [
            "<ipython-input-39-078aecbbcd33>:40: FutureWarning: The frame.append method is deprecated and will be removed from pandas in a future version. Use pandas.concat instead.\n",
            "  results_df = results_df.append({'Article ID': article_id, 'LLM Summary': summary}, ignore_index=True)\n"
          ]
        },
        {
          "output_type": "stream",
          "name": "stdout",
          "text": [
            "Generated 106 summaries so far.\n"
          ]
        },
        {
          "output_type": "stream",
          "name": "stderr",
          "text": [
            "<ipython-input-39-078aecbbcd33>:40: FutureWarning: The frame.append method is deprecated and will be removed from pandas in a future version. Use pandas.concat instead.\n",
            "  results_df = results_df.append({'Article ID': article_id, 'LLM Summary': summary}, ignore_index=True)\n"
          ]
        },
        {
          "output_type": "stream",
          "name": "stdout",
          "text": [
            "Generated 107 summaries so far.\n"
          ]
        },
        {
          "output_type": "stream",
          "name": "stderr",
          "text": [
            "<ipython-input-39-078aecbbcd33>:40: FutureWarning: The frame.append method is deprecated and will be removed from pandas in a future version. Use pandas.concat instead.\n",
            "  results_df = results_df.append({'Article ID': article_id, 'LLM Summary': summary}, ignore_index=True)\n"
          ]
        },
        {
          "output_type": "stream",
          "name": "stdout",
          "text": [
            "Generated 108 summaries so far.\n"
          ]
        },
        {
          "output_type": "stream",
          "name": "stderr",
          "text": [
            "<ipython-input-39-078aecbbcd33>:40: FutureWarning: The frame.append method is deprecated and will be removed from pandas in a future version. Use pandas.concat instead.\n",
            "  results_df = results_df.append({'Article ID': article_id, 'LLM Summary': summary}, ignore_index=True)\n"
          ]
        },
        {
          "output_type": "stream",
          "name": "stdout",
          "text": [
            "Generated 109 summaries so far.\n"
          ]
        },
        {
          "output_type": "stream",
          "name": "stderr",
          "text": [
            "<ipython-input-39-078aecbbcd33>:40: FutureWarning: The frame.append method is deprecated and will be removed from pandas in a future version. Use pandas.concat instead.\n",
            "  results_df = results_df.append({'Article ID': article_id, 'LLM Summary': summary}, ignore_index=True)\n"
          ]
        },
        {
          "output_type": "stream",
          "name": "stdout",
          "text": [
            "Generated 110 summaries so far.\n"
          ]
        },
        {
          "output_type": "stream",
          "name": "stderr",
          "text": [
            "<ipython-input-39-078aecbbcd33>:40: FutureWarning: The frame.append method is deprecated and will be removed from pandas in a future version. Use pandas.concat instead.\n",
            "  results_df = results_df.append({'Article ID': article_id, 'LLM Summary': summary}, ignore_index=True)\n"
          ]
        },
        {
          "output_type": "stream",
          "name": "stdout",
          "text": [
            "Generated 111 summaries so far.\n"
          ]
        },
        {
          "output_type": "stream",
          "name": "stderr",
          "text": [
            "<ipython-input-39-078aecbbcd33>:40: FutureWarning: The frame.append method is deprecated and will be removed from pandas in a future version. Use pandas.concat instead.\n",
            "  results_df = results_df.append({'Article ID': article_id, 'LLM Summary': summary}, ignore_index=True)\n"
          ]
        },
        {
          "output_type": "stream",
          "name": "stdout",
          "text": [
            "Generated 112 summaries so far.\n"
          ]
        },
        {
          "output_type": "stream",
          "name": "stderr",
          "text": [
            "<ipython-input-39-078aecbbcd33>:40: FutureWarning: The frame.append method is deprecated and will be removed from pandas in a future version. Use pandas.concat instead.\n",
            "  results_df = results_df.append({'Article ID': article_id, 'LLM Summary': summary}, ignore_index=True)\n"
          ]
        },
        {
          "output_type": "stream",
          "name": "stdout",
          "text": [
            "Generated 113 summaries so far.\n"
          ]
        },
        {
          "output_type": "stream",
          "name": "stderr",
          "text": [
            "<ipython-input-39-078aecbbcd33>:40: FutureWarning: The frame.append method is deprecated and will be removed from pandas in a future version. Use pandas.concat instead.\n",
            "  results_df = results_df.append({'Article ID': article_id, 'LLM Summary': summary}, ignore_index=True)\n"
          ]
        },
        {
          "output_type": "stream",
          "name": "stdout",
          "text": [
            "Generated 114 summaries so far.\n"
          ]
        },
        {
          "output_type": "stream",
          "name": "stderr",
          "text": [
            "<ipython-input-39-078aecbbcd33>:40: FutureWarning: The frame.append method is deprecated and will be removed from pandas in a future version. Use pandas.concat instead.\n",
            "  results_df = results_df.append({'Article ID': article_id, 'LLM Summary': summary}, ignore_index=True)\n"
          ]
        },
        {
          "output_type": "stream",
          "name": "stdout",
          "text": [
            "Generated 115 summaries so far.\n"
          ]
        },
        {
          "output_type": "stream",
          "name": "stderr",
          "text": [
            "<ipython-input-39-078aecbbcd33>:40: FutureWarning: The frame.append method is deprecated and will be removed from pandas in a future version. Use pandas.concat instead.\n",
            "  results_df = results_df.append({'Article ID': article_id, 'LLM Summary': summary}, ignore_index=True)\n"
          ]
        },
        {
          "output_type": "stream",
          "name": "stdout",
          "text": [
            "Generated 116 summaries so far.\n"
          ]
        },
        {
          "output_type": "stream",
          "name": "stderr",
          "text": [
            "<ipython-input-39-078aecbbcd33>:40: FutureWarning: The frame.append method is deprecated and will be removed from pandas in a future version. Use pandas.concat instead.\n",
            "  results_df = results_df.append({'Article ID': article_id, 'LLM Summary': summary}, ignore_index=True)\n"
          ]
        },
        {
          "output_type": "stream",
          "name": "stdout",
          "text": [
            "Generated 117 summaries so far.\n"
          ]
        },
        {
          "output_type": "stream",
          "name": "stderr",
          "text": [
            "<ipython-input-39-078aecbbcd33>:40: FutureWarning: The frame.append method is deprecated and will be removed from pandas in a future version. Use pandas.concat instead.\n",
            "  results_df = results_df.append({'Article ID': article_id, 'LLM Summary': summary}, ignore_index=True)\n"
          ]
        },
        {
          "output_type": "stream",
          "name": "stdout",
          "text": [
            "Generated 118 summaries so far.\n"
          ]
        },
        {
          "output_type": "stream",
          "name": "stderr",
          "text": [
            "<ipython-input-39-078aecbbcd33>:40: FutureWarning: The frame.append method is deprecated and will be removed from pandas in a future version. Use pandas.concat instead.\n",
            "  results_df = results_df.append({'Article ID': article_id, 'LLM Summary': summary}, ignore_index=True)\n"
          ]
        },
        {
          "output_type": "stream",
          "name": "stdout",
          "text": [
            "Generated 119 summaries so far.\n"
          ]
        },
        {
          "output_type": "stream",
          "name": "stderr",
          "text": [
            "<ipython-input-39-078aecbbcd33>:40: FutureWarning: The frame.append method is deprecated and will be removed from pandas in a future version. Use pandas.concat instead.\n",
            "  results_df = results_df.append({'Article ID': article_id, 'LLM Summary': summary}, ignore_index=True)\n"
          ]
        },
        {
          "output_type": "stream",
          "name": "stdout",
          "text": [
            "Generated 120 summaries so far.\n"
          ]
        },
        {
          "output_type": "stream",
          "name": "stderr",
          "text": [
            "<ipython-input-39-078aecbbcd33>:40: FutureWarning: The frame.append method is deprecated and will be removed from pandas in a future version. Use pandas.concat instead.\n",
            "  results_df = results_df.append({'Article ID': article_id, 'LLM Summary': summary}, ignore_index=True)\n"
          ]
        },
        {
          "output_type": "stream",
          "name": "stdout",
          "text": [
            "Generated 121 summaries so far.\n"
          ]
        },
        {
          "output_type": "stream",
          "name": "stderr",
          "text": [
            "<ipython-input-39-078aecbbcd33>:40: FutureWarning: The frame.append method is deprecated and will be removed from pandas in a future version. Use pandas.concat instead.\n",
            "  results_df = results_df.append({'Article ID': article_id, 'LLM Summary': summary}, ignore_index=True)\n"
          ]
        },
        {
          "output_type": "stream",
          "name": "stdout",
          "text": [
            "Generated 122 summaries so far.\n"
          ]
        },
        {
          "output_type": "stream",
          "name": "stderr",
          "text": [
            "<ipython-input-39-078aecbbcd33>:40: FutureWarning: The frame.append method is deprecated and will be removed from pandas in a future version. Use pandas.concat instead.\n",
            "  results_df = results_df.append({'Article ID': article_id, 'LLM Summary': summary}, ignore_index=True)\n"
          ]
        },
        {
          "output_type": "stream",
          "name": "stdout",
          "text": [
            "Generated 123 summaries so far.\n"
          ]
        },
        {
          "output_type": "stream",
          "name": "stderr",
          "text": [
            "<ipython-input-39-078aecbbcd33>:40: FutureWarning: The frame.append method is deprecated and will be removed from pandas in a future version. Use pandas.concat instead.\n",
            "  results_df = results_df.append({'Article ID': article_id, 'LLM Summary': summary}, ignore_index=True)\n"
          ]
        },
        {
          "output_type": "stream",
          "name": "stdout",
          "text": [
            "Generated 124 summaries so far.\n"
          ]
        },
        {
          "output_type": "stream",
          "name": "stderr",
          "text": [
            "<ipython-input-39-078aecbbcd33>:40: FutureWarning: The frame.append method is deprecated and will be removed from pandas in a future version. Use pandas.concat instead.\n",
            "  results_df = results_df.append({'Article ID': article_id, 'LLM Summary': summary}, ignore_index=True)\n"
          ]
        },
        {
          "output_type": "stream",
          "name": "stdout",
          "text": [
            "Generated 125 summaries so far.\n"
          ]
        },
        {
          "output_type": "stream",
          "name": "stderr",
          "text": [
            "<ipython-input-39-078aecbbcd33>:40: FutureWarning: The frame.append method is deprecated and will be removed from pandas in a future version. Use pandas.concat instead.\n",
            "  results_df = results_df.append({'Article ID': article_id, 'LLM Summary': summary}, ignore_index=True)\n"
          ]
        },
        {
          "output_type": "stream",
          "name": "stdout",
          "text": [
            "Generated 126 summaries so far.\n"
          ]
        },
        {
          "output_type": "stream",
          "name": "stderr",
          "text": [
            "<ipython-input-39-078aecbbcd33>:40: FutureWarning: The frame.append method is deprecated and will be removed from pandas in a future version. Use pandas.concat instead.\n",
            "  results_df = results_df.append({'Article ID': article_id, 'LLM Summary': summary}, ignore_index=True)\n"
          ]
        },
        {
          "output_type": "stream",
          "name": "stdout",
          "text": [
            "Generated 127 summaries so far.\n"
          ]
        },
        {
          "output_type": "stream",
          "name": "stderr",
          "text": [
            "<ipython-input-39-078aecbbcd33>:40: FutureWarning: The frame.append method is deprecated and will be removed from pandas in a future version. Use pandas.concat instead.\n",
            "  results_df = results_df.append({'Article ID': article_id, 'LLM Summary': summary}, ignore_index=True)\n"
          ]
        },
        {
          "output_type": "stream",
          "name": "stdout",
          "text": [
            "Generated 128 summaries so far.\n"
          ]
        },
        {
          "output_type": "stream",
          "name": "stderr",
          "text": [
            "<ipython-input-39-078aecbbcd33>:40: FutureWarning: The frame.append method is deprecated and will be removed from pandas in a future version. Use pandas.concat instead.\n",
            "  results_df = results_df.append({'Article ID': article_id, 'LLM Summary': summary}, ignore_index=True)\n"
          ]
        },
        {
          "output_type": "stream",
          "name": "stdout",
          "text": [
            "Generated 129 summaries so far.\n"
          ]
        },
        {
          "output_type": "stream",
          "name": "stderr",
          "text": [
            "<ipython-input-39-078aecbbcd33>:40: FutureWarning: The frame.append method is deprecated and will be removed from pandas in a future version. Use pandas.concat instead.\n",
            "  results_df = results_df.append({'Article ID': article_id, 'LLM Summary': summary}, ignore_index=True)\n"
          ]
        },
        {
          "output_type": "stream",
          "name": "stdout",
          "text": [
            "Generated 130 summaries so far.\n"
          ]
        },
        {
          "output_type": "stream",
          "name": "stderr",
          "text": [
            "<ipython-input-39-078aecbbcd33>:40: FutureWarning: The frame.append method is deprecated and will be removed from pandas in a future version. Use pandas.concat instead.\n",
            "  results_df = results_df.append({'Article ID': article_id, 'LLM Summary': summary}, ignore_index=True)\n"
          ]
        },
        {
          "output_type": "stream",
          "name": "stdout",
          "text": [
            "Generated 131 summaries so far.\n"
          ]
        },
        {
          "output_type": "stream",
          "name": "stderr",
          "text": [
            "<ipython-input-39-078aecbbcd33>:40: FutureWarning: The frame.append method is deprecated and will be removed from pandas in a future version. Use pandas.concat instead.\n",
            "  results_df = results_df.append({'Article ID': article_id, 'LLM Summary': summary}, ignore_index=True)\n"
          ]
        },
        {
          "output_type": "stream",
          "name": "stdout",
          "text": [
            "Generated 132 summaries so far.\n"
          ]
        },
        {
          "output_type": "stream",
          "name": "stderr",
          "text": [
            "<ipython-input-39-078aecbbcd33>:40: FutureWarning: The frame.append method is deprecated and will be removed from pandas in a future version. Use pandas.concat instead.\n",
            "  results_df = results_df.append({'Article ID': article_id, 'LLM Summary': summary}, ignore_index=True)\n"
          ]
        },
        {
          "output_type": "stream",
          "name": "stdout",
          "text": [
            "Generated 133 summaries so far.\n"
          ]
        },
        {
          "output_type": "stream",
          "name": "stderr",
          "text": [
            "<ipython-input-39-078aecbbcd33>:40: FutureWarning: The frame.append method is deprecated and will be removed from pandas in a future version. Use pandas.concat instead.\n",
            "  results_df = results_df.append({'Article ID': article_id, 'LLM Summary': summary}, ignore_index=True)\n"
          ]
        },
        {
          "output_type": "stream",
          "name": "stdout",
          "text": [
            "Generated 134 summaries so far.\n"
          ]
        },
        {
          "output_type": "stream",
          "name": "stderr",
          "text": [
            "<ipython-input-39-078aecbbcd33>:40: FutureWarning: The frame.append method is deprecated and will be removed from pandas in a future version. Use pandas.concat instead.\n",
            "  results_df = results_df.append({'Article ID': article_id, 'LLM Summary': summary}, ignore_index=True)\n"
          ]
        },
        {
          "output_type": "stream",
          "name": "stdout",
          "text": [
            "Generated 135 summaries so far.\n"
          ]
        },
        {
          "output_type": "stream",
          "name": "stderr",
          "text": [
            "<ipython-input-39-078aecbbcd33>:40: FutureWarning: The frame.append method is deprecated and will be removed from pandas in a future version. Use pandas.concat instead.\n",
            "  results_df = results_df.append({'Article ID': article_id, 'LLM Summary': summary}, ignore_index=True)\n"
          ]
        },
        {
          "output_type": "stream",
          "name": "stdout",
          "text": [
            "Generated 136 summaries so far.\n"
          ]
        },
        {
          "output_type": "stream",
          "name": "stderr",
          "text": [
            "<ipython-input-39-078aecbbcd33>:40: FutureWarning: The frame.append method is deprecated and will be removed from pandas in a future version. Use pandas.concat instead.\n",
            "  results_df = results_df.append({'Article ID': article_id, 'LLM Summary': summary}, ignore_index=True)\n"
          ]
        },
        {
          "output_type": "stream",
          "name": "stdout",
          "text": [
            "Generated 137 summaries so far.\n"
          ]
        },
        {
          "output_type": "stream",
          "name": "stderr",
          "text": [
            "<ipython-input-39-078aecbbcd33>:40: FutureWarning: The frame.append method is deprecated and will be removed from pandas in a future version. Use pandas.concat instead.\n",
            "  results_df = results_df.append({'Article ID': article_id, 'LLM Summary': summary}, ignore_index=True)\n"
          ]
        },
        {
          "output_type": "stream",
          "name": "stdout",
          "text": [
            "Generated 138 summaries so far.\n"
          ]
        },
        {
          "output_type": "stream",
          "name": "stderr",
          "text": [
            "<ipython-input-39-078aecbbcd33>:40: FutureWarning: The frame.append method is deprecated and will be removed from pandas in a future version. Use pandas.concat instead.\n",
            "  results_df = results_df.append({'Article ID': article_id, 'LLM Summary': summary}, ignore_index=True)\n"
          ]
        },
        {
          "output_type": "stream",
          "name": "stdout",
          "text": [
            "Generated 139 summaries so far.\n"
          ]
        },
        {
          "output_type": "stream",
          "name": "stderr",
          "text": [
            "<ipython-input-39-078aecbbcd33>:40: FutureWarning: The frame.append method is deprecated and will be removed from pandas in a future version. Use pandas.concat instead.\n",
            "  results_df = results_df.append({'Article ID': article_id, 'LLM Summary': summary}, ignore_index=True)\n"
          ]
        },
        {
          "output_type": "stream",
          "name": "stdout",
          "text": [
            "Generated 140 summaries so far.\n"
          ]
        },
        {
          "output_type": "stream",
          "name": "stderr",
          "text": [
            "<ipython-input-39-078aecbbcd33>:40: FutureWarning: The frame.append method is deprecated and will be removed from pandas in a future version. Use pandas.concat instead.\n",
            "  results_df = results_df.append({'Article ID': article_id, 'LLM Summary': summary}, ignore_index=True)\n"
          ]
        },
        {
          "output_type": "stream",
          "name": "stdout",
          "text": [
            "Generated 141 summaries so far.\n"
          ]
        },
        {
          "output_type": "stream",
          "name": "stderr",
          "text": [
            "<ipython-input-39-078aecbbcd33>:40: FutureWarning: The frame.append method is deprecated and will be removed from pandas in a future version. Use pandas.concat instead.\n",
            "  results_df = results_df.append({'Article ID': article_id, 'LLM Summary': summary}, ignore_index=True)\n"
          ]
        },
        {
          "output_type": "stream",
          "name": "stdout",
          "text": [
            "Generated 142 summaries so far.\n"
          ]
        },
        {
          "output_type": "stream",
          "name": "stderr",
          "text": [
            "<ipython-input-39-078aecbbcd33>:40: FutureWarning: The frame.append method is deprecated and will be removed from pandas in a future version. Use pandas.concat instead.\n",
            "  results_df = results_df.append({'Article ID': article_id, 'LLM Summary': summary}, ignore_index=True)\n"
          ]
        },
        {
          "output_type": "stream",
          "name": "stdout",
          "text": [
            "Generated 143 summaries so far.\n"
          ]
        },
        {
          "output_type": "stream",
          "name": "stderr",
          "text": [
            "<ipython-input-39-078aecbbcd33>:40: FutureWarning: The frame.append method is deprecated and will be removed from pandas in a future version. Use pandas.concat instead.\n",
            "  results_df = results_df.append({'Article ID': article_id, 'LLM Summary': summary}, ignore_index=True)\n"
          ]
        },
        {
          "output_type": "stream",
          "name": "stdout",
          "text": [
            "Generated 144 summaries so far.\n"
          ]
        },
        {
          "output_type": "stream",
          "name": "stderr",
          "text": [
            "<ipython-input-39-078aecbbcd33>:40: FutureWarning: The frame.append method is deprecated and will be removed from pandas in a future version. Use pandas.concat instead.\n",
            "  results_df = results_df.append({'Article ID': article_id, 'LLM Summary': summary}, ignore_index=True)\n"
          ]
        },
        {
          "output_type": "stream",
          "name": "stdout",
          "text": [
            "Generated 145 summaries so far.\n"
          ]
        },
        {
          "output_type": "stream",
          "name": "stderr",
          "text": [
            "<ipython-input-39-078aecbbcd33>:40: FutureWarning: The frame.append method is deprecated and will be removed from pandas in a future version. Use pandas.concat instead.\n",
            "  results_df = results_df.append({'Article ID': article_id, 'LLM Summary': summary}, ignore_index=True)\n"
          ]
        },
        {
          "output_type": "stream",
          "name": "stdout",
          "text": [
            "Generated 146 summaries so far.\n"
          ]
        },
        {
          "output_type": "stream",
          "name": "stderr",
          "text": [
            "<ipython-input-39-078aecbbcd33>:40: FutureWarning: The frame.append method is deprecated and will be removed from pandas in a future version. Use pandas.concat instead.\n",
            "  results_df = results_df.append({'Article ID': article_id, 'LLM Summary': summary}, ignore_index=True)\n"
          ]
        },
        {
          "output_type": "stream",
          "name": "stdout",
          "text": [
            "Generated 147 summaries so far.\n"
          ]
        },
        {
          "output_type": "stream",
          "name": "stderr",
          "text": [
            "<ipython-input-39-078aecbbcd33>:40: FutureWarning: The frame.append method is deprecated and will be removed from pandas in a future version. Use pandas.concat instead.\n",
            "  results_df = results_df.append({'Article ID': article_id, 'LLM Summary': summary}, ignore_index=True)\n"
          ]
        },
        {
          "output_type": "stream",
          "name": "stdout",
          "text": [
            "Generated 148 summaries so far.\n"
          ]
        },
        {
          "output_type": "stream",
          "name": "stderr",
          "text": [
            "<ipython-input-39-078aecbbcd33>:40: FutureWarning: The frame.append method is deprecated and will be removed from pandas in a future version. Use pandas.concat instead.\n",
            "  results_df = results_df.append({'Article ID': article_id, 'LLM Summary': summary}, ignore_index=True)\n"
          ]
        },
        {
          "output_type": "stream",
          "name": "stdout",
          "text": [
            "Generated 149 summaries so far.\n"
          ]
        },
        {
          "output_type": "stream",
          "name": "stderr",
          "text": [
            "<ipython-input-39-078aecbbcd33>:40: FutureWarning: The frame.append method is deprecated and will be removed from pandas in a future version. Use pandas.concat instead.\n",
            "  results_df = results_df.append({'Article ID': article_id, 'LLM Summary': summary}, ignore_index=True)\n"
          ]
        },
        {
          "output_type": "stream",
          "name": "stdout",
          "text": [
            "Generated 150 summaries so far.\n"
          ]
        },
        {
          "output_type": "stream",
          "name": "stderr",
          "text": [
            "<ipython-input-39-078aecbbcd33>:40: FutureWarning: The frame.append method is deprecated and will be removed from pandas in a future version. Use pandas.concat instead.\n",
            "  results_df = results_df.append({'Article ID': article_id, 'LLM Summary': summary}, ignore_index=True)\n"
          ]
        },
        {
          "output_type": "stream",
          "name": "stdout",
          "text": [
            "Generated 151 summaries so far.\n"
          ]
        },
        {
          "output_type": "stream",
          "name": "stderr",
          "text": [
            "<ipython-input-39-078aecbbcd33>:40: FutureWarning: The frame.append method is deprecated and will be removed from pandas in a future version. Use pandas.concat instead.\n",
            "  results_df = results_df.append({'Article ID': article_id, 'LLM Summary': summary}, ignore_index=True)\n"
          ]
        },
        {
          "output_type": "stream",
          "name": "stdout",
          "text": [
            "Generated 152 summaries so far.\n"
          ]
        },
        {
          "output_type": "stream",
          "name": "stderr",
          "text": [
            "<ipython-input-39-078aecbbcd33>:40: FutureWarning: The frame.append method is deprecated and will be removed from pandas in a future version. Use pandas.concat instead.\n",
            "  results_df = results_df.append({'Article ID': article_id, 'LLM Summary': summary}, ignore_index=True)\n"
          ]
        },
        {
          "output_type": "stream",
          "name": "stdout",
          "text": [
            "Generated 153 summaries so far.\n"
          ]
        },
        {
          "output_type": "stream",
          "name": "stderr",
          "text": [
            "<ipython-input-39-078aecbbcd33>:40: FutureWarning: The frame.append method is deprecated and will be removed from pandas in a future version. Use pandas.concat instead.\n",
            "  results_df = results_df.append({'Article ID': article_id, 'LLM Summary': summary}, ignore_index=True)\n"
          ]
        },
        {
          "output_type": "stream",
          "name": "stdout",
          "text": [
            "Generated 154 summaries so far.\n"
          ]
        },
        {
          "output_type": "stream",
          "name": "stderr",
          "text": [
            "<ipython-input-39-078aecbbcd33>:40: FutureWarning: The frame.append method is deprecated and will be removed from pandas in a future version. Use pandas.concat instead.\n",
            "  results_df = results_df.append({'Article ID': article_id, 'LLM Summary': summary}, ignore_index=True)\n"
          ]
        },
        {
          "output_type": "stream",
          "name": "stdout",
          "text": [
            "Generated 155 summaries so far.\n"
          ]
        },
        {
          "output_type": "stream",
          "name": "stderr",
          "text": [
            "<ipython-input-39-078aecbbcd33>:40: FutureWarning: The frame.append method is deprecated and will be removed from pandas in a future version. Use pandas.concat instead.\n",
            "  results_df = results_df.append({'Article ID': article_id, 'LLM Summary': summary}, ignore_index=True)\n"
          ]
        },
        {
          "output_type": "stream",
          "name": "stdout",
          "text": [
            "Generated 156 summaries so far.\n"
          ]
        },
        {
          "output_type": "stream",
          "name": "stderr",
          "text": [
            "<ipython-input-39-078aecbbcd33>:40: FutureWarning: The frame.append method is deprecated and will be removed from pandas in a future version. Use pandas.concat instead.\n",
            "  results_df = results_df.append({'Article ID': article_id, 'LLM Summary': summary}, ignore_index=True)\n"
          ]
        },
        {
          "output_type": "stream",
          "name": "stdout",
          "text": [
            "Generated 157 summaries so far.\n"
          ]
        },
        {
          "output_type": "stream",
          "name": "stderr",
          "text": [
            "<ipython-input-39-078aecbbcd33>:40: FutureWarning: The frame.append method is deprecated and will be removed from pandas in a future version. Use pandas.concat instead.\n",
            "  results_df = results_df.append({'Article ID': article_id, 'LLM Summary': summary}, ignore_index=True)\n"
          ]
        },
        {
          "output_type": "stream",
          "name": "stdout",
          "text": [
            "Generated 158 summaries so far.\n"
          ]
        },
        {
          "output_type": "stream",
          "name": "stderr",
          "text": [
            "<ipython-input-39-078aecbbcd33>:40: FutureWarning: The frame.append method is deprecated and will be removed from pandas in a future version. Use pandas.concat instead.\n",
            "  results_df = results_df.append({'Article ID': article_id, 'LLM Summary': summary}, ignore_index=True)\n"
          ]
        },
        {
          "output_type": "stream",
          "name": "stdout",
          "text": [
            "Generated 159 summaries so far.\n"
          ]
        },
        {
          "output_type": "stream",
          "name": "stderr",
          "text": [
            "<ipython-input-39-078aecbbcd33>:40: FutureWarning: The frame.append method is deprecated and will be removed from pandas in a future version. Use pandas.concat instead.\n",
            "  results_df = results_df.append({'Article ID': article_id, 'LLM Summary': summary}, ignore_index=True)\n"
          ]
        },
        {
          "output_type": "stream",
          "name": "stdout",
          "text": [
            "Generated 160 summaries so far.\n"
          ]
        },
        {
          "output_type": "stream",
          "name": "stderr",
          "text": [
            "<ipython-input-39-078aecbbcd33>:40: FutureWarning: The frame.append method is deprecated and will be removed from pandas in a future version. Use pandas.concat instead.\n",
            "  results_df = results_df.append({'Article ID': article_id, 'LLM Summary': summary}, ignore_index=True)\n"
          ]
        },
        {
          "output_type": "stream",
          "name": "stdout",
          "text": [
            "Generated 161 summaries so far.\n"
          ]
        },
        {
          "output_type": "stream",
          "name": "stderr",
          "text": [
            "<ipython-input-39-078aecbbcd33>:40: FutureWarning: The frame.append method is deprecated and will be removed from pandas in a future version. Use pandas.concat instead.\n",
            "  results_df = results_df.append({'Article ID': article_id, 'LLM Summary': summary}, ignore_index=True)\n"
          ]
        },
        {
          "output_type": "stream",
          "name": "stdout",
          "text": [
            "Generated 162 summaries so far.\n"
          ]
        },
        {
          "output_type": "stream",
          "name": "stderr",
          "text": [
            "<ipython-input-39-078aecbbcd33>:40: FutureWarning: The frame.append method is deprecated and will be removed from pandas in a future version. Use pandas.concat instead.\n",
            "  results_df = results_df.append({'Article ID': article_id, 'LLM Summary': summary}, ignore_index=True)\n"
          ]
        },
        {
          "output_type": "stream",
          "name": "stdout",
          "text": [
            "Generated 163 summaries so far.\n"
          ]
        },
        {
          "output_type": "stream",
          "name": "stderr",
          "text": [
            "<ipython-input-39-078aecbbcd33>:40: FutureWarning: The frame.append method is deprecated and will be removed from pandas in a future version. Use pandas.concat instead.\n",
            "  results_df = results_df.append({'Article ID': article_id, 'LLM Summary': summary}, ignore_index=True)\n"
          ]
        },
        {
          "output_type": "stream",
          "name": "stdout",
          "text": [
            "Generated 164 summaries so far.\n"
          ]
        },
        {
          "output_type": "stream",
          "name": "stderr",
          "text": [
            "<ipython-input-39-078aecbbcd33>:40: FutureWarning: The frame.append method is deprecated and will be removed from pandas in a future version. Use pandas.concat instead.\n",
            "  results_df = results_df.append({'Article ID': article_id, 'LLM Summary': summary}, ignore_index=True)\n"
          ]
        },
        {
          "output_type": "stream",
          "name": "stdout",
          "text": [
            "Generated 165 summaries so far.\n"
          ]
        },
        {
          "output_type": "stream",
          "name": "stderr",
          "text": [
            "<ipython-input-39-078aecbbcd33>:40: FutureWarning: The frame.append method is deprecated and will be removed from pandas in a future version. Use pandas.concat instead.\n",
            "  results_df = results_df.append({'Article ID': article_id, 'LLM Summary': summary}, ignore_index=True)\n"
          ]
        },
        {
          "output_type": "stream",
          "name": "stdout",
          "text": [
            "Generated 166 summaries so far.\n"
          ]
        },
        {
          "output_type": "stream",
          "name": "stderr",
          "text": [
            "<ipython-input-39-078aecbbcd33>:40: FutureWarning: The frame.append method is deprecated and will be removed from pandas in a future version. Use pandas.concat instead.\n",
            "  results_df = results_df.append({'Article ID': article_id, 'LLM Summary': summary}, ignore_index=True)\n"
          ]
        },
        {
          "output_type": "stream",
          "name": "stdout",
          "text": [
            "Generated 167 summaries so far.\n"
          ]
        },
        {
          "output_type": "stream",
          "name": "stderr",
          "text": [
            "<ipython-input-39-078aecbbcd33>:40: FutureWarning: The frame.append method is deprecated and will be removed from pandas in a future version. Use pandas.concat instead.\n",
            "  results_df = results_df.append({'Article ID': article_id, 'LLM Summary': summary}, ignore_index=True)\n"
          ]
        },
        {
          "output_type": "stream",
          "name": "stdout",
          "text": [
            "Generated 168 summaries so far.\n"
          ]
        },
        {
          "output_type": "stream",
          "name": "stderr",
          "text": [
            "<ipython-input-39-078aecbbcd33>:40: FutureWarning: The frame.append method is deprecated and will be removed from pandas in a future version. Use pandas.concat instead.\n",
            "  results_df = results_df.append({'Article ID': article_id, 'LLM Summary': summary}, ignore_index=True)\n"
          ]
        },
        {
          "output_type": "stream",
          "name": "stdout",
          "text": [
            "Generated 169 summaries so far.\n"
          ]
        },
        {
          "output_type": "stream",
          "name": "stderr",
          "text": [
            "<ipython-input-39-078aecbbcd33>:40: FutureWarning: The frame.append method is deprecated and will be removed from pandas in a future version. Use pandas.concat instead.\n",
            "  results_df = results_df.append({'Article ID': article_id, 'LLM Summary': summary}, ignore_index=True)\n"
          ]
        },
        {
          "output_type": "stream",
          "name": "stdout",
          "text": [
            "Generated 170 summaries so far.\n"
          ]
        },
        {
          "output_type": "stream",
          "name": "stderr",
          "text": [
            "<ipython-input-39-078aecbbcd33>:40: FutureWarning: The frame.append method is deprecated and will be removed from pandas in a future version. Use pandas.concat instead.\n",
            "  results_df = results_df.append({'Article ID': article_id, 'LLM Summary': summary}, ignore_index=True)\n"
          ]
        },
        {
          "output_type": "stream",
          "name": "stdout",
          "text": [
            "Generated 171 summaries so far.\n"
          ]
        },
        {
          "output_type": "stream",
          "name": "stderr",
          "text": [
            "<ipython-input-39-078aecbbcd33>:40: FutureWarning: The frame.append method is deprecated and will be removed from pandas in a future version. Use pandas.concat instead.\n",
            "  results_df = results_df.append({'Article ID': article_id, 'LLM Summary': summary}, ignore_index=True)\n"
          ]
        },
        {
          "output_type": "stream",
          "name": "stdout",
          "text": [
            "Generated 172 summaries so far.\n"
          ]
        },
        {
          "output_type": "stream",
          "name": "stderr",
          "text": [
            "<ipython-input-39-078aecbbcd33>:40: FutureWarning: The frame.append method is deprecated and will be removed from pandas in a future version. Use pandas.concat instead.\n",
            "  results_df = results_df.append({'Article ID': article_id, 'LLM Summary': summary}, ignore_index=True)\n"
          ]
        },
        {
          "output_type": "stream",
          "name": "stdout",
          "text": [
            "Generated 173 summaries so far.\n"
          ]
        },
        {
          "output_type": "stream",
          "name": "stderr",
          "text": [
            "<ipython-input-39-078aecbbcd33>:40: FutureWarning: The frame.append method is deprecated and will be removed from pandas in a future version. Use pandas.concat instead.\n",
            "  results_df = results_df.append({'Article ID': article_id, 'LLM Summary': summary}, ignore_index=True)\n"
          ]
        },
        {
          "output_type": "stream",
          "name": "stdout",
          "text": [
            "Generated 174 summaries so far.\n"
          ]
        },
        {
          "output_type": "stream",
          "name": "stderr",
          "text": [
            "<ipython-input-39-078aecbbcd33>:40: FutureWarning: The frame.append method is deprecated and will be removed from pandas in a future version. Use pandas.concat instead.\n",
            "  results_df = results_df.append({'Article ID': article_id, 'LLM Summary': summary}, ignore_index=True)\n"
          ]
        },
        {
          "output_type": "stream",
          "name": "stdout",
          "text": [
            "Generated 175 summaries so far.\n"
          ]
        },
        {
          "output_type": "stream",
          "name": "stderr",
          "text": [
            "<ipython-input-39-078aecbbcd33>:40: FutureWarning: The frame.append method is deprecated and will be removed from pandas in a future version. Use pandas.concat instead.\n",
            "  results_df = results_df.append({'Article ID': article_id, 'LLM Summary': summary}, ignore_index=True)\n"
          ]
        },
        {
          "output_type": "stream",
          "name": "stdout",
          "text": [
            "Generated 176 summaries so far.\n"
          ]
        },
        {
          "output_type": "stream",
          "name": "stderr",
          "text": [
            "<ipython-input-39-078aecbbcd33>:40: FutureWarning: The frame.append method is deprecated and will be removed from pandas in a future version. Use pandas.concat instead.\n",
            "  results_df = results_df.append({'Article ID': article_id, 'LLM Summary': summary}, ignore_index=True)\n"
          ]
        },
        {
          "output_type": "stream",
          "name": "stdout",
          "text": [
            "Generated 177 summaries so far.\n"
          ]
        },
        {
          "output_type": "stream",
          "name": "stderr",
          "text": [
            "<ipython-input-39-078aecbbcd33>:40: FutureWarning: The frame.append method is deprecated and will be removed from pandas in a future version. Use pandas.concat instead.\n",
            "  results_df = results_df.append({'Article ID': article_id, 'LLM Summary': summary}, ignore_index=True)\n"
          ]
        },
        {
          "output_type": "stream",
          "name": "stdout",
          "text": [
            "Generated 178 summaries so far.\n"
          ]
        },
        {
          "output_type": "stream",
          "name": "stderr",
          "text": [
            "<ipython-input-39-078aecbbcd33>:40: FutureWarning: The frame.append method is deprecated and will be removed from pandas in a future version. Use pandas.concat instead.\n",
            "  results_df = results_df.append({'Article ID': article_id, 'LLM Summary': summary}, ignore_index=True)\n"
          ]
        },
        {
          "output_type": "stream",
          "name": "stdout",
          "text": [
            "Generated 179 summaries so far.\n"
          ]
        },
        {
          "output_type": "stream",
          "name": "stderr",
          "text": [
            "<ipython-input-39-078aecbbcd33>:40: FutureWarning: The frame.append method is deprecated and will be removed from pandas in a future version. Use pandas.concat instead.\n",
            "  results_df = results_df.append({'Article ID': article_id, 'LLM Summary': summary}, ignore_index=True)\n"
          ]
        },
        {
          "output_type": "stream",
          "name": "stdout",
          "text": [
            "Generated 180 summaries so far.\n"
          ]
        },
        {
          "output_type": "stream",
          "name": "stderr",
          "text": [
            "<ipython-input-39-078aecbbcd33>:40: FutureWarning: The frame.append method is deprecated and will be removed from pandas in a future version. Use pandas.concat instead.\n",
            "  results_df = results_df.append({'Article ID': article_id, 'LLM Summary': summary}, ignore_index=True)\n"
          ]
        },
        {
          "output_type": "stream",
          "name": "stdout",
          "text": [
            "Generated 181 summaries so far.\n"
          ]
        },
        {
          "output_type": "stream",
          "name": "stderr",
          "text": [
            "<ipython-input-39-078aecbbcd33>:40: FutureWarning: The frame.append method is deprecated and will be removed from pandas in a future version. Use pandas.concat instead.\n",
            "  results_df = results_df.append({'Article ID': article_id, 'LLM Summary': summary}, ignore_index=True)\n"
          ]
        },
        {
          "output_type": "stream",
          "name": "stdout",
          "text": [
            "Generated 182 summaries so far.\n"
          ]
        },
        {
          "output_type": "stream",
          "name": "stderr",
          "text": [
            "<ipython-input-39-078aecbbcd33>:40: FutureWarning: The frame.append method is deprecated and will be removed from pandas in a future version. Use pandas.concat instead.\n",
            "  results_df = results_df.append({'Article ID': article_id, 'LLM Summary': summary}, ignore_index=True)\n"
          ]
        },
        {
          "output_type": "stream",
          "name": "stdout",
          "text": [
            "Generated 183 summaries so far.\n"
          ]
        },
        {
          "output_type": "stream",
          "name": "stderr",
          "text": [
            "<ipython-input-39-078aecbbcd33>:40: FutureWarning: The frame.append method is deprecated and will be removed from pandas in a future version. Use pandas.concat instead.\n",
            "  results_df = results_df.append({'Article ID': article_id, 'LLM Summary': summary}, ignore_index=True)\n"
          ]
        },
        {
          "output_type": "stream",
          "name": "stdout",
          "text": [
            "Generated 184 summaries so far.\n"
          ]
        },
        {
          "output_type": "stream",
          "name": "stderr",
          "text": [
            "<ipython-input-39-078aecbbcd33>:40: FutureWarning: The frame.append method is deprecated and will be removed from pandas in a future version. Use pandas.concat instead.\n",
            "  results_df = results_df.append({'Article ID': article_id, 'LLM Summary': summary}, ignore_index=True)\n"
          ]
        },
        {
          "output_type": "stream",
          "name": "stdout",
          "text": [
            "Generated 185 summaries so far.\n"
          ]
        },
        {
          "output_type": "stream",
          "name": "stderr",
          "text": [
            "<ipython-input-39-078aecbbcd33>:40: FutureWarning: The frame.append method is deprecated and will be removed from pandas in a future version. Use pandas.concat instead.\n",
            "  results_df = results_df.append({'Article ID': article_id, 'LLM Summary': summary}, ignore_index=True)\n"
          ]
        },
        {
          "output_type": "stream",
          "name": "stdout",
          "text": [
            "Generated 186 summaries so far.\n"
          ]
        },
        {
          "output_type": "stream",
          "name": "stderr",
          "text": [
            "<ipython-input-39-078aecbbcd33>:40: FutureWarning: The frame.append method is deprecated and will be removed from pandas in a future version. Use pandas.concat instead.\n",
            "  results_df = results_df.append({'Article ID': article_id, 'LLM Summary': summary}, ignore_index=True)\n"
          ]
        },
        {
          "output_type": "stream",
          "name": "stdout",
          "text": [
            "Generated 187 summaries so far.\n"
          ]
        },
        {
          "output_type": "stream",
          "name": "stderr",
          "text": [
            "<ipython-input-39-078aecbbcd33>:40: FutureWarning: The frame.append method is deprecated and will be removed from pandas in a future version. Use pandas.concat instead.\n",
            "  results_df = results_df.append({'Article ID': article_id, 'LLM Summary': summary}, ignore_index=True)\n"
          ]
        },
        {
          "output_type": "stream",
          "name": "stdout",
          "text": [
            "Generated 188 summaries so far.\n"
          ]
        },
        {
          "output_type": "stream",
          "name": "stderr",
          "text": [
            "<ipython-input-39-078aecbbcd33>:40: FutureWarning: The frame.append method is deprecated and will be removed from pandas in a future version. Use pandas.concat instead.\n",
            "  results_df = results_df.append({'Article ID': article_id, 'LLM Summary': summary}, ignore_index=True)\n"
          ]
        },
        {
          "output_type": "stream",
          "name": "stdout",
          "text": [
            "Generated 189 summaries so far.\n"
          ]
        },
        {
          "output_type": "stream",
          "name": "stderr",
          "text": [
            "<ipython-input-39-078aecbbcd33>:40: FutureWarning: The frame.append method is deprecated and will be removed from pandas in a future version. Use pandas.concat instead.\n",
            "  results_df = results_df.append({'Article ID': article_id, 'LLM Summary': summary}, ignore_index=True)\n"
          ]
        },
        {
          "output_type": "stream",
          "name": "stdout",
          "text": [
            "Generated 190 summaries so far.\n"
          ]
        },
        {
          "output_type": "stream",
          "name": "stderr",
          "text": [
            "<ipython-input-39-078aecbbcd33>:40: FutureWarning: The frame.append method is deprecated and will be removed from pandas in a future version. Use pandas.concat instead.\n",
            "  results_df = results_df.append({'Article ID': article_id, 'LLM Summary': summary}, ignore_index=True)\n"
          ]
        },
        {
          "output_type": "stream",
          "name": "stdout",
          "text": [
            "Generated 191 summaries so far.\n"
          ]
        },
        {
          "output_type": "stream",
          "name": "stderr",
          "text": [
            "<ipython-input-39-078aecbbcd33>:40: FutureWarning: The frame.append method is deprecated and will be removed from pandas in a future version. Use pandas.concat instead.\n",
            "  results_df = results_df.append({'Article ID': article_id, 'LLM Summary': summary}, ignore_index=True)\n"
          ]
        },
        {
          "output_type": "stream",
          "name": "stdout",
          "text": [
            "Generated 192 summaries so far.\n"
          ]
        },
        {
          "output_type": "stream",
          "name": "stderr",
          "text": [
            "<ipython-input-39-078aecbbcd33>:40: FutureWarning: The frame.append method is deprecated and will be removed from pandas in a future version. Use pandas.concat instead.\n",
            "  results_df = results_df.append({'Article ID': article_id, 'LLM Summary': summary}, ignore_index=True)\n"
          ]
        },
        {
          "output_type": "stream",
          "name": "stdout",
          "text": [
            "Generated 193 summaries so far.\n"
          ]
        },
        {
          "output_type": "stream",
          "name": "stderr",
          "text": [
            "<ipython-input-39-078aecbbcd33>:40: FutureWarning: The frame.append method is deprecated and will be removed from pandas in a future version. Use pandas.concat instead.\n",
            "  results_df = results_df.append({'Article ID': article_id, 'LLM Summary': summary}, ignore_index=True)\n"
          ]
        },
        {
          "output_type": "stream",
          "name": "stdout",
          "text": [
            "Generated 194 summaries so far.\n"
          ]
        },
        {
          "output_type": "stream",
          "name": "stderr",
          "text": [
            "<ipython-input-39-078aecbbcd33>:40: FutureWarning: The frame.append method is deprecated and will be removed from pandas in a future version. Use pandas.concat instead.\n",
            "  results_df = results_df.append({'Article ID': article_id, 'LLM Summary': summary}, ignore_index=True)\n"
          ]
        },
        {
          "output_type": "stream",
          "name": "stdout",
          "text": [
            "Generated 195 summaries so far.\n"
          ]
        },
        {
          "output_type": "stream",
          "name": "stderr",
          "text": [
            "<ipython-input-39-078aecbbcd33>:40: FutureWarning: The frame.append method is deprecated and will be removed from pandas in a future version. Use pandas.concat instead.\n",
            "  results_df = results_df.append({'Article ID': article_id, 'LLM Summary': summary}, ignore_index=True)\n"
          ]
        },
        {
          "output_type": "stream",
          "name": "stdout",
          "text": [
            "Generated 196 summaries so far.\n"
          ]
        },
        {
          "output_type": "stream",
          "name": "stderr",
          "text": [
            "<ipython-input-39-078aecbbcd33>:40: FutureWarning: The frame.append method is deprecated and will be removed from pandas in a future version. Use pandas.concat instead.\n",
            "  results_df = results_df.append({'Article ID': article_id, 'LLM Summary': summary}, ignore_index=True)\n"
          ]
        },
        {
          "output_type": "stream",
          "name": "stdout",
          "text": [
            "Generated 197 summaries so far.\n"
          ]
        },
        {
          "output_type": "stream",
          "name": "stderr",
          "text": [
            "<ipython-input-39-078aecbbcd33>:40: FutureWarning: The frame.append method is deprecated and will be removed from pandas in a future version. Use pandas.concat instead.\n",
            "  results_df = results_df.append({'Article ID': article_id, 'LLM Summary': summary}, ignore_index=True)\n"
          ]
        },
        {
          "output_type": "stream",
          "name": "stdout",
          "text": [
            "Generated 198 summaries so far.\n"
          ]
        },
        {
          "output_type": "stream",
          "name": "stderr",
          "text": [
            "<ipython-input-39-078aecbbcd33>:40: FutureWarning: The frame.append method is deprecated and will be removed from pandas in a future version. Use pandas.concat instead.\n",
            "  results_df = results_df.append({'Article ID': article_id, 'LLM Summary': summary}, ignore_index=True)\n"
          ]
        },
        {
          "output_type": "stream",
          "name": "stdout",
          "text": [
            "Generated 199 summaries so far.\n"
          ]
        },
        {
          "output_type": "stream",
          "name": "stderr",
          "text": [
            "<ipython-input-39-078aecbbcd33>:40: FutureWarning: The frame.append method is deprecated and will be removed from pandas in a future version. Use pandas.concat instead.\n",
            "  results_df = results_df.append({'Article ID': article_id, 'LLM Summary': summary}, ignore_index=True)\n"
          ]
        },
        {
          "output_type": "stream",
          "name": "stdout",
          "text": [
            "Generated 200 summaries so far.\n"
          ]
        },
        {
          "output_type": "stream",
          "name": "stderr",
          "text": [
            "<ipython-input-39-078aecbbcd33>:40: FutureWarning: The frame.append method is deprecated and will be removed from pandas in a future version. Use pandas.concat instead.\n",
            "  results_df = results_df.append({'Article ID': article_id, 'LLM Summary': summary}, ignore_index=True)\n"
          ]
        },
        {
          "output_type": "stream",
          "name": "stdout",
          "text": [
            "Generated 201 summaries so far.\n"
          ]
        },
        {
          "output_type": "stream",
          "name": "stderr",
          "text": [
            "<ipython-input-39-078aecbbcd33>:40: FutureWarning: The frame.append method is deprecated and will be removed from pandas in a future version. Use pandas.concat instead.\n",
            "  results_df = results_df.append({'Article ID': article_id, 'LLM Summary': summary}, ignore_index=True)\n"
          ]
        },
        {
          "output_type": "stream",
          "name": "stdout",
          "text": [
            "Generated 202 summaries so far.\n"
          ]
        },
        {
          "output_type": "stream",
          "name": "stderr",
          "text": [
            "<ipython-input-39-078aecbbcd33>:40: FutureWarning: The frame.append method is deprecated and will be removed from pandas in a future version. Use pandas.concat instead.\n",
            "  results_df = results_df.append({'Article ID': article_id, 'LLM Summary': summary}, ignore_index=True)\n"
          ]
        },
        {
          "output_type": "stream",
          "name": "stdout",
          "text": [
            "Generated 203 summaries so far.\n"
          ]
        },
        {
          "output_type": "stream",
          "name": "stderr",
          "text": [
            "<ipython-input-39-078aecbbcd33>:40: FutureWarning: The frame.append method is deprecated and will be removed from pandas in a future version. Use pandas.concat instead.\n",
            "  results_df = results_df.append({'Article ID': article_id, 'LLM Summary': summary}, ignore_index=True)\n"
          ]
        },
        {
          "output_type": "stream",
          "name": "stdout",
          "text": [
            "Generated 204 summaries so far.\n"
          ]
        },
        {
          "output_type": "stream",
          "name": "stderr",
          "text": [
            "<ipython-input-39-078aecbbcd33>:40: FutureWarning: The frame.append method is deprecated and will be removed from pandas in a future version. Use pandas.concat instead.\n",
            "  results_df = results_df.append({'Article ID': article_id, 'LLM Summary': summary}, ignore_index=True)\n"
          ]
        },
        {
          "output_type": "stream",
          "name": "stdout",
          "text": [
            "Generated 205 summaries so far.\n"
          ]
        },
        {
          "output_type": "stream",
          "name": "stderr",
          "text": [
            "<ipython-input-39-078aecbbcd33>:40: FutureWarning: The frame.append method is deprecated and will be removed from pandas in a future version. Use pandas.concat instead.\n",
            "  results_df = results_df.append({'Article ID': article_id, 'LLM Summary': summary}, ignore_index=True)\n"
          ]
        },
        {
          "output_type": "stream",
          "name": "stdout",
          "text": [
            "Generated 206 summaries so far.\n"
          ]
        },
        {
          "output_type": "stream",
          "name": "stderr",
          "text": [
            "<ipython-input-39-078aecbbcd33>:40: FutureWarning: The frame.append method is deprecated and will be removed from pandas in a future version. Use pandas.concat instead.\n",
            "  results_df = results_df.append({'Article ID': article_id, 'LLM Summary': summary}, ignore_index=True)\n"
          ]
        },
        {
          "output_type": "stream",
          "name": "stdout",
          "text": [
            "Generated 207 summaries so far.\n"
          ]
        },
        {
          "output_type": "stream",
          "name": "stderr",
          "text": [
            "<ipython-input-39-078aecbbcd33>:40: FutureWarning: The frame.append method is deprecated and will be removed from pandas in a future version. Use pandas.concat instead.\n",
            "  results_df = results_df.append({'Article ID': article_id, 'LLM Summary': summary}, ignore_index=True)\n"
          ]
        },
        {
          "output_type": "stream",
          "name": "stdout",
          "text": [
            "Generated 208 summaries so far.\n"
          ]
        },
        {
          "output_type": "stream",
          "name": "stderr",
          "text": [
            "<ipython-input-39-078aecbbcd33>:40: FutureWarning: The frame.append method is deprecated and will be removed from pandas in a future version. Use pandas.concat instead.\n",
            "  results_df = results_df.append({'Article ID': article_id, 'LLM Summary': summary}, ignore_index=True)\n"
          ]
        },
        {
          "output_type": "stream",
          "name": "stdout",
          "text": [
            "Generated 209 summaries so far.\n"
          ]
        },
        {
          "output_type": "stream",
          "name": "stderr",
          "text": [
            "<ipython-input-39-078aecbbcd33>:40: FutureWarning: The frame.append method is deprecated and will be removed from pandas in a future version. Use pandas.concat instead.\n",
            "  results_df = results_df.append({'Article ID': article_id, 'LLM Summary': summary}, ignore_index=True)\n"
          ]
        },
        {
          "output_type": "stream",
          "name": "stdout",
          "text": [
            "Generated 210 summaries so far.\n"
          ]
        },
        {
          "output_type": "stream",
          "name": "stderr",
          "text": [
            "<ipython-input-39-078aecbbcd33>:40: FutureWarning: The frame.append method is deprecated and will be removed from pandas in a future version. Use pandas.concat instead.\n",
            "  results_df = results_df.append({'Article ID': article_id, 'LLM Summary': summary}, ignore_index=True)\n"
          ]
        },
        {
          "output_type": "stream",
          "name": "stdout",
          "text": [
            "Generated 211 summaries so far.\n"
          ]
        },
        {
          "output_type": "stream",
          "name": "stderr",
          "text": [
            "<ipython-input-39-078aecbbcd33>:40: FutureWarning: The frame.append method is deprecated and will be removed from pandas in a future version. Use pandas.concat instead.\n",
            "  results_df = results_df.append({'Article ID': article_id, 'LLM Summary': summary}, ignore_index=True)\n"
          ]
        },
        {
          "output_type": "stream",
          "name": "stdout",
          "text": [
            "Generated 212 summaries so far.\n"
          ]
        },
        {
          "output_type": "stream",
          "name": "stderr",
          "text": [
            "<ipython-input-39-078aecbbcd33>:40: FutureWarning: The frame.append method is deprecated and will be removed from pandas in a future version. Use pandas.concat instead.\n",
            "  results_df = results_df.append({'Article ID': article_id, 'LLM Summary': summary}, ignore_index=True)\n"
          ]
        },
        {
          "output_type": "stream",
          "name": "stdout",
          "text": [
            "Generated 213 summaries so far.\n"
          ]
        },
        {
          "output_type": "stream",
          "name": "stderr",
          "text": [
            "<ipython-input-39-078aecbbcd33>:40: FutureWarning: The frame.append method is deprecated and will be removed from pandas in a future version. Use pandas.concat instead.\n",
            "  results_df = results_df.append({'Article ID': article_id, 'LLM Summary': summary}, ignore_index=True)\n"
          ]
        },
        {
          "output_type": "stream",
          "name": "stdout",
          "text": [
            "Generated 214 summaries so far.\n"
          ]
        },
        {
          "output_type": "stream",
          "name": "stderr",
          "text": [
            "<ipython-input-39-078aecbbcd33>:40: FutureWarning: The frame.append method is deprecated and will be removed from pandas in a future version. Use pandas.concat instead.\n",
            "  results_df = results_df.append({'Article ID': article_id, 'LLM Summary': summary}, ignore_index=True)\n"
          ]
        },
        {
          "output_type": "stream",
          "name": "stdout",
          "text": [
            "Generated 215 summaries so far.\n"
          ]
        },
        {
          "output_type": "stream",
          "name": "stderr",
          "text": [
            "<ipython-input-39-078aecbbcd33>:40: FutureWarning: The frame.append method is deprecated and will be removed from pandas in a future version. Use pandas.concat instead.\n",
            "  results_df = results_df.append({'Article ID': article_id, 'LLM Summary': summary}, ignore_index=True)\n"
          ]
        },
        {
          "output_type": "stream",
          "name": "stdout",
          "text": [
            "Generated 216 summaries so far.\n"
          ]
        },
        {
          "output_type": "stream",
          "name": "stderr",
          "text": [
            "<ipython-input-39-078aecbbcd33>:40: FutureWarning: The frame.append method is deprecated and will be removed from pandas in a future version. Use pandas.concat instead.\n",
            "  results_df = results_df.append({'Article ID': article_id, 'LLM Summary': summary}, ignore_index=True)\n"
          ]
        },
        {
          "output_type": "stream",
          "name": "stdout",
          "text": [
            "Generated 217 summaries so far.\n"
          ]
        },
        {
          "output_type": "stream",
          "name": "stderr",
          "text": [
            "<ipython-input-39-078aecbbcd33>:40: FutureWarning: The frame.append method is deprecated and will be removed from pandas in a future version. Use pandas.concat instead.\n",
            "  results_df = results_df.append({'Article ID': article_id, 'LLM Summary': summary}, ignore_index=True)\n"
          ]
        },
        {
          "output_type": "stream",
          "name": "stdout",
          "text": [
            "Generated 218 summaries so far.\n"
          ]
        },
        {
          "output_type": "stream",
          "name": "stderr",
          "text": [
            "<ipython-input-39-078aecbbcd33>:40: FutureWarning: The frame.append method is deprecated and will be removed from pandas in a future version. Use pandas.concat instead.\n",
            "  results_df = results_df.append({'Article ID': article_id, 'LLM Summary': summary}, ignore_index=True)\n"
          ]
        },
        {
          "output_type": "stream",
          "name": "stdout",
          "text": [
            "Generated 219 summaries so far.\n"
          ]
        },
        {
          "output_type": "stream",
          "name": "stderr",
          "text": [
            "<ipython-input-39-078aecbbcd33>:40: FutureWarning: The frame.append method is deprecated and will be removed from pandas in a future version. Use pandas.concat instead.\n",
            "  results_df = results_df.append({'Article ID': article_id, 'LLM Summary': summary}, ignore_index=True)\n"
          ]
        },
        {
          "output_type": "stream",
          "name": "stdout",
          "text": [
            "Generated 220 summaries so far.\n"
          ]
        },
        {
          "output_type": "stream",
          "name": "stderr",
          "text": [
            "<ipython-input-39-078aecbbcd33>:40: FutureWarning: The frame.append method is deprecated and will be removed from pandas in a future version. Use pandas.concat instead.\n",
            "  results_df = results_df.append({'Article ID': article_id, 'LLM Summary': summary}, ignore_index=True)\n"
          ]
        },
        {
          "output_type": "stream",
          "name": "stdout",
          "text": [
            "Generated 221 summaries so far.\n"
          ]
        },
        {
          "output_type": "stream",
          "name": "stderr",
          "text": [
            "WARNING:langchain.llms.base:Retrying langchain.llms.vertexai.completion_with_retry.<locals>._completion_with_retry in 4.0 seconds as it raised ResourceExhausted: 429 Quota exceeded for aiplatform.googleapis.com/online_prediction_requests_per_base_model with base model: text-bison. Please submit a quota increase request. https://cloud.google.com/vertex-ai/docs/quotas..\n",
            "<ipython-input-39-078aecbbcd33>:40: FutureWarning: The frame.append method is deprecated and will be removed from pandas in a future version. Use pandas.concat instead.\n",
            "  results_df = results_df.append({'Article ID': article_id, 'LLM Summary': summary}, ignore_index=True)\n"
          ]
        },
        {
          "output_type": "stream",
          "name": "stdout",
          "text": [
            "Generated 222 summaries so far.\n"
          ]
        },
        {
          "output_type": "stream",
          "name": "stderr",
          "text": [
            "<ipython-input-39-078aecbbcd33>:40: FutureWarning: The frame.append method is deprecated and will be removed from pandas in a future version. Use pandas.concat instead.\n",
            "  results_df = results_df.append({'Article ID': article_id, 'LLM Summary': summary}, ignore_index=True)\n"
          ]
        },
        {
          "output_type": "stream",
          "name": "stdout",
          "text": [
            "Generated 223 summaries so far.\n"
          ]
        },
        {
          "output_type": "stream",
          "name": "stderr",
          "text": [
            "<ipython-input-39-078aecbbcd33>:40: FutureWarning: The frame.append method is deprecated and will be removed from pandas in a future version. Use pandas.concat instead.\n",
            "  results_df = results_df.append({'Article ID': article_id, 'LLM Summary': summary}, ignore_index=True)\n"
          ]
        },
        {
          "output_type": "stream",
          "name": "stdout",
          "text": [
            "Generated 224 summaries so far.\n"
          ]
        },
        {
          "output_type": "stream",
          "name": "stderr",
          "text": [
            "<ipython-input-39-078aecbbcd33>:40: FutureWarning: The frame.append method is deprecated and will be removed from pandas in a future version. Use pandas.concat instead.\n",
            "  results_df = results_df.append({'Article ID': article_id, 'LLM Summary': summary}, ignore_index=True)\n"
          ]
        },
        {
          "output_type": "stream",
          "name": "stdout",
          "text": [
            "Generated 225 summaries so far.\n"
          ]
        },
        {
          "output_type": "stream",
          "name": "stderr",
          "text": [
            "<ipython-input-39-078aecbbcd33>:40: FutureWarning: The frame.append method is deprecated and will be removed from pandas in a future version. Use pandas.concat instead.\n",
            "  results_df = results_df.append({'Article ID': article_id, 'LLM Summary': summary}, ignore_index=True)\n"
          ]
        },
        {
          "output_type": "stream",
          "name": "stdout",
          "text": [
            "Generated 226 summaries so far.\n"
          ]
        },
        {
          "output_type": "stream",
          "name": "stderr",
          "text": [
            "<ipython-input-39-078aecbbcd33>:40: FutureWarning: The frame.append method is deprecated and will be removed from pandas in a future version. Use pandas.concat instead.\n",
            "  results_df = results_df.append({'Article ID': article_id, 'LLM Summary': summary}, ignore_index=True)\n"
          ]
        },
        {
          "output_type": "stream",
          "name": "stdout",
          "text": [
            "Generated 227 summaries so far.\n"
          ]
        },
        {
          "output_type": "stream",
          "name": "stderr",
          "text": [
            "<ipython-input-39-078aecbbcd33>:40: FutureWarning: The frame.append method is deprecated and will be removed from pandas in a future version. Use pandas.concat instead.\n",
            "  results_df = results_df.append({'Article ID': article_id, 'LLM Summary': summary}, ignore_index=True)\n"
          ]
        },
        {
          "output_type": "stream",
          "name": "stdout",
          "text": [
            "Generated 228 summaries so far.\n",
            "Generated 229 summaries so far.\n"
          ]
        },
        {
          "output_type": "stream",
          "name": "stderr",
          "text": [
            "<ipython-input-39-078aecbbcd33>:40: FutureWarning: The frame.append method is deprecated and will be removed from pandas in a future version. Use pandas.concat instead.\n",
            "  results_df = results_df.append({'Article ID': article_id, 'LLM Summary': summary}, ignore_index=True)\n"
          ]
        }
      ]
    },
    {
      "cell_type": "code",
      "source": [
        "rest=pd.read_csv(\"/content/rest.csv\")"
      ],
      "metadata": {
        "id": "x_uIxRYTEl6D"
      },
      "execution_count": null,
      "outputs": []
    },
    {
      "cell_type": "code",
      "source": [
        "!pip install rouge"
      ],
      "metadata": {
        "colab": {
          "base_uri": "https://localhost:8080/"
        },
        "id": "xknVmK5aa4qw",
        "outputId": "5189ec74-344b-4bb4-de6b-1911b5477626"
      },
      "execution_count": null,
      "outputs": [
        {
          "output_type": "stream",
          "name": "stdout",
          "text": [
            "Collecting rouge\n",
            "  Downloading rouge-1.0.1-py3-none-any.whl (13 kB)\n",
            "Requirement already satisfied: six in /usr/local/lib/python3.10/dist-packages (from rouge) (1.16.0)\n",
            "Installing collected packages: rouge\n",
            "Successfully installed rouge-1.0.1\n"
          ]
        }
      ]
    },
    {
      "cell_type": "code",
      "source": [
        "# Import necessary libraries\n",
        "import pandas as pd\n",
        "from rouge import Rouge\n",
        "\n",
        "# Define the calculate_rouge function\n",
        "def calculate_rouge(hypothesis, reference):\n",
        "    rouge = Rouge()\n",
        "    scores = rouge.get_scores(hypothesis, reference, avg=True)\n",
        "\n",
        "    # Extract scores and format them into the desired dictionary format\n",
        "    formatted_scores = {\n",
        "        'llmR1-R': scores['rouge-1']['r'],\n",
        "        'llmR1-P': scores['rouge-1']['p'],\n",
        "        'llmR1-F': scores['rouge-1']['f'],\n",
        "        'llmR2-R': scores['rouge-2']['r'],\n",
        "        'llmR2-P': scores['rouge-2']['p'],\n",
        "        'llmR2-F': scores['rouge-2']['f'],\n",
        "        'llmRL-R': scores['rouge-l']['r'],\n",
        "        'llmRL-P': scores['rouge-l']['p'],\n",
        "        'llmRL-F': scores['rouge-l']['f']\n",
        "    }\n",
        "    return formatted_scores\n",
        "\n",
        "# Read the llm_summaries.csv file into a DataFrame\n",
        "results_df = pd.read_csv(\"rest.csv\")\n",
        "\n",
        "# Assuming df contains the reference summaries and is already loaded\n",
        "# Calculate ROUGE scores and split them into separate columns\n",
        "rouge_scores = results_df.apply(lambda row: calculate_rouge(row['LLM Summary'], dftrain[dftrain['Article ID'] == row['Article ID']]['Highlight'].values[0]), axis=1, result_type='expand')\n",
        "\n",
        "# Concatenate the original DataFrame with the new ROUGE score columns\n",
        "results_df = pd.concat([results_df, rouge_scores], axis=1)\n",
        "\n",
        "# Set the display options to show the full content\n",
        "pd.set_option('display.max_columns', None)\n",
        "\n",
        "# Print the DataFrame with the new ROUGE score columns\n",
        "results_df\n"
      ],
      "metadata": {
        "colab": {
          "base_uri": "https://localhost:8080/",
          "height": 1000
        },
        "id": "EH-P2mGCa70w",
        "outputId": "cc5c81a5-ec94-4293-ba3b-0e026e6fda60"
      },
      "execution_count": null,
      "outputs": [
        {
          "output_type": "execute_result",
          "data": {
            "text/plain": [
              "                                   Article ID  \\\n",
              "0    f001ec5c4704938247d27a44948eebb37ae98d01   \n",
              "1    88e7dac40f3e6c159e4edc0747d0cc0f50886fbb   \n",
              "2    4495ba8f3a340d97a9df1476f8a35502bcce1f69   \n",
              "3    2bd8ada1de6a7b02f59430cc82045eb8d29cf033   \n",
              "4    1b2cc634e2bfc6f2595260e7ed9b42f77ecbb0ce   \n",
              "..                                        ...   \n",
              "224  788c4a340d6aa99163bb63e2c58ffae12ee4824b   \n",
              "225  daa7e67d12ba72cd573f0e484e8980f884f00177   \n",
              "226  ae4c185040457dae1d6a9fe4b9f9cc8a3997bcc6   \n",
              "227  ccb37f6eba3568f515734a47646183b3fb27c998   \n",
              "228  a09e4db7b16a0e201e7f7ecb0f19f48a42bf4943   \n",
              "\n",
              "                                           LLM Summary   llmR1-R   llmR1-P  \\\n",
              "0    The Palestinian Authority has officially becom...  0.451613  0.237288   \n",
              "1    Robert H. Schuller, the founder of the Crystal...  0.535714  0.114504   \n",
              "2    Mohammad Javad Zarif is the Iranian Foreign Mi...  0.551724  0.134454   \n",
              "3    Bob Barker returned to host \"The Price is Righ...  0.300000  0.171429   \n",
              "4    A high school basketball player asked a freshm...  0.478261  0.224490   \n",
              "..                                                 ...       ...       ...   \n",
              "224  The Food and Drug Administration is considerin...  0.387097  0.200000   \n",
              "225  America has the highest incarceration rate in ...  0.296296  0.216216   \n",
              "226  2 people from different generations and politi...  0.263158  0.169492   \n",
              "227  cnn reports on a skywest airlines flight that ...  0.421053  0.235294   \n",
              "228  North Korean leader Kim Jong-un will visit Mos...  0.250000  0.170213   \n",
              "\n",
              "      llmR1-F   llmR2-R   llmR2-P   llmR2-F   llmRL-R   llmRL-P   llmRL-F  \n",
              "0    0.311111  0.235294  0.108108  0.148148  0.419355  0.220339  0.288889  \n",
              "1    0.188679  0.218750  0.035000  0.060345  0.535714  0.114504  0.188679  \n",
              "2    0.216216  0.281250  0.049724  0.084507  0.517241  0.126050  0.202703  \n",
              "3    0.218182  0.090909  0.052632  0.066667  0.300000  0.171429  0.218182  \n",
              "4    0.305556  0.173913  0.056338  0.085106  0.478261  0.224490  0.305556  \n",
              "..        ...       ...       ...       ...       ...       ...       ...  \n",
              "224  0.263736  0.090909  0.038462  0.054054  0.322581  0.166667  0.219780  \n",
              "225  0.250000  0.241379  0.170732  0.200000  0.296296  0.216216  0.250000  \n",
              "226  0.206186  0.051282  0.028571  0.036697  0.236842  0.152542  0.185567  \n",
              "227  0.301887  0.000000  0.000000  0.000000  0.368421  0.205882  0.264151  \n",
              "228  0.202532  0.057143  0.036364  0.044444  0.250000  0.170213  0.202532  \n",
              "\n",
              "[229 rows x 11 columns]"
            ],
            "text/html": [
              "\n",
              "\n",
              "  <div id=\"df-44cebb40-4840-4111-8b43-556bcb85ec7d\">\n",
              "    <div class=\"colab-df-container\">\n",
              "      <div>\n",
              "<style scoped>\n",
              "    .dataframe tbody tr th:only-of-type {\n",
              "        vertical-align: middle;\n",
              "    }\n",
              "\n",
              "    .dataframe tbody tr th {\n",
              "        vertical-align: top;\n",
              "    }\n",
              "\n",
              "    .dataframe thead th {\n",
              "        text-align: right;\n",
              "    }\n",
              "</style>\n",
              "<table border=\"1\" class=\"dataframe\">\n",
              "  <thead>\n",
              "    <tr style=\"text-align: right;\">\n",
              "      <th></th>\n",
              "      <th>Article ID</th>\n",
              "      <th>LLM Summary</th>\n",
              "      <th>llmR1-R</th>\n",
              "      <th>llmR1-P</th>\n",
              "      <th>llmR1-F</th>\n",
              "      <th>llmR2-R</th>\n",
              "      <th>llmR2-P</th>\n",
              "      <th>llmR2-F</th>\n",
              "      <th>llmRL-R</th>\n",
              "      <th>llmRL-P</th>\n",
              "      <th>llmRL-F</th>\n",
              "    </tr>\n",
              "  </thead>\n",
              "  <tbody>\n",
              "    <tr>\n",
              "      <th>0</th>\n",
              "      <td>f001ec5c4704938247d27a44948eebb37ae98d01</td>\n",
              "      <td>The Palestinian Authority has officially becom...</td>\n",
              "      <td>0.451613</td>\n",
              "      <td>0.237288</td>\n",
              "      <td>0.311111</td>\n",
              "      <td>0.235294</td>\n",
              "      <td>0.108108</td>\n",
              "      <td>0.148148</td>\n",
              "      <td>0.419355</td>\n",
              "      <td>0.220339</td>\n",
              "      <td>0.288889</td>\n",
              "    </tr>\n",
              "    <tr>\n",
              "      <th>1</th>\n",
              "      <td>88e7dac40f3e6c159e4edc0747d0cc0f50886fbb</td>\n",
              "      <td>Robert H. Schuller, the founder of the Crystal...</td>\n",
              "      <td>0.535714</td>\n",
              "      <td>0.114504</td>\n",
              "      <td>0.188679</td>\n",
              "      <td>0.218750</td>\n",
              "      <td>0.035000</td>\n",
              "      <td>0.060345</td>\n",
              "      <td>0.535714</td>\n",
              "      <td>0.114504</td>\n",
              "      <td>0.188679</td>\n",
              "    </tr>\n",
              "    <tr>\n",
              "      <th>2</th>\n",
              "      <td>4495ba8f3a340d97a9df1476f8a35502bcce1f69</td>\n",
              "      <td>Mohammad Javad Zarif is the Iranian Foreign Mi...</td>\n",
              "      <td>0.551724</td>\n",
              "      <td>0.134454</td>\n",
              "      <td>0.216216</td>\n",
              "      <td>0.281250</td>\n",
              "      <td>0.049724</td>\n",
              "      <td>0.084507</td>\n",
              "      <td>0.517241</td>\n",
              "      <td>0.126050</td>\n",
              "      <td>0.202703</td>\n",
              "    </tr>\n",
              "    <tr>\n",
              "      <th>3</th>\n",
              "      <td>2bd8ada1de6a7b02f59430cc82045eb8d29cf033</td>\n",
              "      <td>Bob Barker returned to host \"The Price is Righ...</td>\n",
              "      <td>0.300000</td>\n",
              "      <td>0.171429</td>\n",
              "      <td>0.218182</td>\n",
              "      <td>0.090909</td>\n",
              "      <td>0.052632</td>\n",
              "      <td>0.066667</td>\n",
              "      <td>0.300000</td>\n",
              "      <td>0.171429</td>\n",
              "      <td>0.218182</td>\n",
              "    </tr>\n",
              "    <tr>\n",
              "      <th>4</th>\n",
              "      <td>1b2cc634e2bfc6f2595260e7ed9b42f77ecbb0ce</td>\n",
              "      <td>A high school basketball player asked a freshm...</td>\n",
              "      <td>0.478261</td>\n",
              "      <td>0.224490</td>\n",
              "      <td>0.305556</td>\n",
              "      <td>0.173913</td>\n",
              "      <td>0.056338</td>\n",
              "      <td>0.085106</td>\n",
              "      <td>0.478261</td>\n",
              "      <td>0.224490</td>\n",
              "      <td>0.305556</td>\n",
              "    </tr>\n",
              "    <tr>\n",
              "      <th>...</th>\n",
              "      <td>...</td>\n",
              "      <td>...</td>\n",
              "      <td>...</td>\n",
              "      <td>...</td>\n",
              "      <td>...</td>\n",
              "      <td>...</td>\n",
              "      <td>...</td>\n",
              "      <td>...</td>\n",
              "      <td>...</td>\n",
              "      <td>...</td>\n",
              "      <td>...</td>\n",
              "    </tr>\n",
              "    <tr>\n",
              "      <th>224</th>\n",
              "      <td>788c4a340d6aa99163bb63e2c58ffae12ee4824b</td>\n",
              "      <td>The Food and Drug Administration is considerin...</td>\n",
              "      <td>0.387097</td>\n",
              "      <td>0.200000</td>\n",
              "      <td>0.263736</td>\n",
              "      <td>0.090909</td>\n",
              "      <td>0.038462</td>\n",
              "      <td>0.054054</td>\n",
              "      <td>0.322581</td>\n",
              "      <td>0.166667</td>\n",
              "      <td>0.219780</td>\n",
              "    </tr>\n",
              "    <tr>\n",
              "      <th>225</th>\n",
              "      <td>daa7e67d12ba72cd573f0e484e8980f884f00177</td>\n",
              "      <td>America has the highest incarceration rate in ...</td>\n",
              "      <td>0.296296</td>\n",
              "      <td>0.216216</td>\n",
              "      <td>0.250000</td>\n",
              "      <td>0.241379</td>\n",
              "      <td>0.170732</td>\n",
              "      <td>0.200000</td>\n",
              "      <td>0.296296</td>\n",
              "      <td>0.216216</td>\n",
              "      <td>0.250000</td>\n",
              "    </tr>\n",
              "    <tr>\n",
              "      <th>226</th>\n",
              "      <td>ae4c185040457dae1d6a9fe4b9f9cc8a3997bcc6</td>\n",
              "      <td>2 people from different generations and politi...</td>\n",
              "      <td>0.263158</td>\n",
              "      <td>0.169492</td>\n",
              "      <td>0.206186</td>\n",
              "      <td>0.051282</td>\n",
              "      <td>0.028571</td>\n",
              "      <td>0.036697</td>\n",
              "      <td>0.236842</td>\n",
              "      <td>0.152542</td>\n",
              "      <td>0.185567</td>\n",
              "    </tr>\n",
              "    <tr>\n",
              "      <th>227</th>\n",
              "      <td>ccb37f6eba3568f515734a47646183b3fb27c998</td>\n",
              "      <td>cnn reports on a skywest airlines flight that ...</td>\n",
              "      <td>0.421053</td>\n",
              "      <td>0.235294</td>\n",
              "      <td>0.301887</td>\n",
              "      <td>0.000000</td>\n",
              "      <td>0.000000</td>\n",
              "      <td>0.000000</td>\n",
              "      <td>0.368421</td>\n",
              "      <td>0.205882</td>\n",
              "      <td>0.264151</td>\n",
              "    </tr>\n",
              "    <tr>\n",
              "      <th>228</th>\n",
              "      <td>a09e4db7b16a0e201e7f7ecb0f19f48a42bf4943</td>\n",
              "      <td>North Korean leader Kim Jong-un will visit Mos...</td>\n",
              "      <td>0.250000</td>\n",
              "      <td>0.170213</td>\n",
              "      <td>0.202532</td>\n",
              "      <td>0.057143</td>\n",
              "      <td>0.036364</td>\n",
              "      <td>0.044444</td>\n",
              "      <td>0.250000</td>\n",
              "      <td>0.170213</td>\n",
              "      <td>0.202532</td>\n",
              "    </tr>\n",
              "  </tbody>\n",
              "</table>\n",
              "<p>229 rows × 11 columns</p>\n",
              "</div>\n",
              "      <button class=\"colab-df-convert\" onclick=\"convertToInteractive('df-44cebb40-4840-4111-8b43-556bcb85ec7d')\"\n",
              "              title=\"Convert this dataframe to an interactive table.\"\n",
              "              style=\"display:none;\">\n",
              "\n",
              "  <svg xmlns=\"http://www.w3.org/2000/svg\" height=\"24px\"viewBox=\"0 0 24 24\"\n",
              "       width=\"24px\">\n",
              "    <path d=\"M0 0h24v24H0V0z\" fill=\"none\"/>\n",
              "    <path d=\"M18.56 5.44l.94 2.06.94-2.06 2.06-.94-2.06-.94-.94-2.06-.94 2.06-2.06.94zm-11 1L8.5 8.5l.94-2.06 2.06-.94-2.06-.94L8.5 2.5l-.94 2.06-2.06.94zm10 10l.94 2.06.94-2.06 2.06-.94-2.06-.94-.94-2.06-.94 2.06-2.06.94z\"/><path d=\"M17.41 7.96l-1.37-1.37c-.4-.4-.92-.59-1.43-.59-.52 0-1.04.2-1.43.59L10.3 9.45l-7.72 7.72c-.78.78-.78 2.05 0 2.83L4 21.41c.39.39.9.59 1.41.59.51 0 1.02-.2 1.41-.59l7.78-7.78 2.81-2.81c.8-.78.8-2.07 0-2.86zM5.41 20L4 18.59l7.72-7.72 1.47 1.35L5.41 20z\"/>\n",
              "  </svg>\n",
              "      </button>\n",
              "\n",
              "\n",
              "\n",
              "    <div id=\"df-2f6306d2-6ae5-47d1-b8d9-51d088dfb280\">\n",
              "      <button class=\"colab-df-quickchart\" onclick=\"quickchart('df-2f6306d2-6ae5-47d1-b8d9-51d088dfb280')\"\n",
              "              title=\"Suggest charts.\"\n",
              "              style=\"display:none;\">\n",
              "\n",
              "<svg xmlns=\"http://www.w3.org/2000/svg\" height=\"24px\"viewBox=\"0 0 24 24\"\n",
              "     width=\"24px\">\n",
              "    <g>\n",
              "        <path d=\"M19 3H5c-1.1 0-2 .9-2 2v14c0 1.1.9 2 2 2h14c1.1 0 2-.9 2-2V5c0-1.1-.9-2-2-2zM9 17H7v-7h2v7zm4 0h-2V7h2v10zm4 0h-2v-4h2v4z\"/>\n",
              "    </g>\n",
              "</svg>\n",
              "      </button>\n",
              "    </div>\n",
              "\n",
              "<style>\n",
              "  .colab-df-quickchart {\n",
              "    background-color: #E8F0FE;\n",
              "    border: none;\n",
              "    border-radius: 50%;\n",
              "    cursor: pointer;\n",
              "    display: none;\n",
              "    fill: #1967D2;\n",
              "    height: 32px;\n",
              "    padding: 0 0 0 0;\n",
              "    width: 32px;\n",
              "  }\n",
              "\n",
              "  .colab-df-quickchart:hover {\n",
              "    background-color: #E2EBFA;\n",
              "    box-shadow: 0px 1px 2px rgba(60, 64, 67, 0.3), 0px 1px 3px 1px rgba(60, 64, 67, 0.15);\n",
              "    fill: #174EA6;\n",
              "  }\n",
              "\n",
              "  [theme=dark] .colab-df-quickchart {\n",
              "    background-color: #3B4455;\n",
              "    fill: #D2E3FC;\n",
              "  }\n",
              "\n",
              "  [theme=dark] .colab-df-quickchart:hover {\n",
              "    background-color: #434B5C;\n",
              "    box-shadow: 0px 1px 3px 1px rgba(0, 0, 0, 0.15);\n",
              "    filter: drop-shadow(0px 1px 2px rgba(0, 0, 0, 0.3));\n",
              "    fill: #FFFFFF;\n",
              "  }\n",
              "</style>\n",
              "\n",
              "    <script>\n",
              "      async function quickchart(key) {\n",
              "        const containerElement = document.querySelector('#' + key);\n",
              "        const charts = await google.colab.kernel.invokeFunction(\n",
              "            'suggestCharts', [key], {});\n",
              "      }\n",
              "    </script>\n",
              "\n",
              "      <script>\n",
              "\n",
              "function displayQuickchartButton(domScope) {\n",
              "  let quickchartButtonEl =\n",
              "    domScope.querySelector('#df-2f6306d2-6ae5-47d1-b8d9-51d088dfb280 button.colab-df-quickchart');\n",
              "  quickchartButtonEl.style.display =\n",
              "    google.colab.kernel.accessAllowed ? 'block' : 'none';\n",
              "}\n",
              "\n",
              "        displayQuickchartButton(document);\n",
              "      </script>\n",
              "      <style>\n",
              "    .colab-df-container {\n",
              "      display:flex;\n",
              "      flex-wrap:wrap;\n",
              "      gap: 12px;\n",
              "    }\n",
              "\n",
              "    .colab-df-convert {\n",
              "      background-color: #E8F0FE;\n",
              "      border: none;\n",
              "      border-radius: 50%;\n",
              "      cursor: pointer;\n",
              "      display: none;\n",
              "      fill: #1967D2;\n",
              "      height: 32px;\n",
              "      padding: 0 0 0 0;\n",
              "      width: 32px;\n",
              "    }\n",
              "\n",
              "    .colab-df-convert:hover {\n",
              "      background-color: #E2EBFA;\n",
              "      box-shadow: 0px 1px 2px rgba(60, 64, 67, 0.3), 0px 1px 3px 1px rgba(60, 64, 67, 0.15);\n",
              "      fill: #174EA6;\n",
              "    }\n",
              "\n",
              "    [theme=dark] .colab-df-convert {\n",
              "      background-color: #3B4455;\n",
              "      fill: #D2E3FC;\n",
              "    }\n",
              "\n",
              "    [theme=dark] .colab-df-convert:hover {\n",
              "      background-color: #434B5C;\n",
              "      box-shadow: 0px 1px 3px 1px rgba(0, 0, 0, 0.15);\n",
              "      filter: drop-shadow(0px 1px 2px rgba(0, 0, 0, 0.3));\n",
              "      fill: #FFFFFF;\n",
              "    }\n",
              "  </style>\n",
              "\n",
              "      <script>\n",
              "        const buttonEl =\n",
              "          document.querySelector('#df-44cebb40-4840-4111-8b43-556bcb85ec7d button.colab-df-convert');\n",
              "        buttonEl.style.display =\n",
              "          google.colab.kernel.accessAllowed ? 'block' : 'none';\n",
              "\n",
              "        async function convertToInteractive(key) {\n",
              "          const element = document.querySelector('#df-44cebb40-4840-4111-8b43-556bcb85ec7d');\n",
              "          const dataTable =\n",
              "            await google.colab.kernel.invokeFunction('convertToInteractive',\n",
              "                                                     [key], {});\n",
              "          if (!dataTable) return;\n",
              "\n",
              "          const docLinkHtml = 'Like what you see? Visit the ' +\n",
              "            '<a target=\"_blank\" href=https://colab.research.google.com/notebooks/data_table.ipynb>data table notebook</a>'\n",
              "            + ' to learn more about interactive tables.';\n",
              "          element.innerHTML = '';\n",
              "          dataTable['output_type'] = 'display_data';\n",
              "          await google.colab.output.renderOutput(dataTable, element);\n",
              "          const docLink = document.createElement('div');\n",
              "          docLink.innerHTML = docLinkHtml;\n",
              "          element.appendChild(docLink);\n",
              "        }\n",
              "      </script>\n",
              "    </div>\n",
              "  </div>\n"
            ]
          },
          "metadata": {},
          "execution_count": 47
        }
      ]
    },
    {
      "cell_type": "code",
      "source": [
        "results_df.to_csv('rest_with_rouge.csv', index=False)"
      ],
      "metadata": {
        "id": "hyuTbv3Qcapw"
      },
      "execution_count": null,
      "outputs": []
    },
    {
      "cell_type": "code",
      "source": [
        "restr=pd.read_csv(\"/content/rest_with_rouge.csv\")"
      ],
      "metadata": {
        "id": "CWFjAS--cyyk"
      },
      "execution_count": null,
      "outputs": []
    },
    {
      "cell_type": "code",
      "source": [
        "restr"
      ],
      "metadata": {
        "colab": {
          "base_uri": "https://localhost:8080/",
          "height": 1000
        },
        "id": "pDE0-IrGc4gt",
        "outputId": "6381607d-ad82-4152-8074-31facdead9eb"
      },
      "execution_count": null,
      "outputs": [
        {
          "output_type": "execute_result",
          "data": {
            "text/plain": [
              "                                   Article ID  \\\n",
              "0    f001ec5c4704938247d27a44948eebb37ae98d01   \n",
              "1    88e7dac40f3e6c159e4edc0747d0cc0f50886fbb   \n",
              "2    4495ba8f3a340d97a9df1476f8a35502bcce1f69   \n",
              "3    2bd8ada1de6a7b02f59430cc82045eb8d29cf033   \n",
              "4    1b2cc634e2bfc6f2595260e7ed9b42f77ecbb0ce   \n",
              "..                                        ...   \n",
              "224  788c4a340d6aa99163bb63e2c58ffae12ee4824b   \n",
              "225  daa7e67d12ba72cd573f0e484e8980f884f00177   \n",
              "226  ae4c185040457dae1d6a9fe4b9f9cc8a3997bcc6   \n",
              "227  ccb37f6eba3568f515734a47646183b3fb27c998   \n",
              "228  a09e4db7b16a0e201e7f7ecb0f19f48a42bf4943   \n",
              "\n",
              "                                           LLM Summary   llmR1-R   llmR1-P  \\\n",
              "0    The Palestinian Authority has officially becom...  0.451613  0.237288   \n",
              "1    Robert H. Schuller, the founder of the Crystal...  0.535714  0.114504   \n",
              "2    Mohammad Javad Zarif is the Iranian Foreign Mi...  0.551724  0.134454   \n",
              "3    Bob Barker returned to host \"The Price is Righ...  0.300000  0.171429   \n",
              "4    A high school basketball player asked a freshm...  0.478261  0.224490   \n",
              "..                                                 ...       ...       ...   \n",
              "224  The Food and Drug Administration is considerin...  0.387097  0.200000   \n",
              "225  America has the highest incarceration rate in ...  0.296296  0.216216   \n",
              "226  2 people from different generations and politi...  0.263158  0.169492   \n",
              "227  cnn reports on a skywest airlines flight that ...  0.421053  0.235294   \n",
              "228  North Korean leader Kim Jong-un will visit Mos...  0.250000  0.170213   \n",
              "\n",
              "      llmR1-F   llmR2-R   llmR2-P   llmR2-F   llmRL-R   llmRL-P   llmRL-F  \n",
              "0    0.311111  0.235294  0.108108  0.148148  0.419355  0.220339  0.288889  \n",
              "1    0.188679  0.218750  0.035000  0.060345  0.535714  0.114504  0.188679  \n",
              "2    0.216216  0.281250  0.049724  0.084507  0.517241  0.126050  0.202703  \n",
              "3    0.218182  0.090909  0.052632  0.066667  0.300000  0.171429  0.218182  \n",
              "4    0.305556  0.173913  0.056338  0.085106  0.478261  0.224490  0.305556  \n",
              "..        ...       ...       ...       ...       ...       ...       ...  \n",
              "224  0.263736  0.090909  0.038462  0.054054  0.322581  0.166667  0.219780  \n",
              "225  0.250000  0.241379  0.170732  0.200000  0.296296  0.216216  0.250000  \n",
              "226  0.206186  0.051282  0.028571  0.036697  0.236842  0.152542  0.185567  \n",
              "227  0.301887  0.000000  0.000000  0.000000  0.368421  0.205882  0.264151  \n",
              "228  0.202532  0.057143  0.036364  0.044444  0.250000  0.170213  0.202532  \n",
              "\n",
              "[229 rows x 11 columns]"
            ],
            "text/html": [
              "\n",
              "\n",
              "  <div id=\"df-be94c354-1f68-4fed-bfed-d6b6c9241e4a\">\n",
              "    <div class=\"colab-df-container\">\n",
              "      <div>\n",
              "<style scoped>\n",
              "    .dataframe tbody tr th:only-of-type {\n",
              "        vertical-align: middle;\n",
              "    }\n",
              "\n",
              "    .dataframe tbody tr th {\n",
              "        vertical-align: top;\n",
              "    }\n",
              "\n",
              "    .dataframe thead th {\n",
              "        text-align: right;\n",
              "    }\n",
              "</style>\n",
              "<table border=\"1\" class=\"dataframe\">\n",
              "  <thead>\n",
              "    <tr style=\"text-align: right;\">\n",
              "      <th></th>\n",
              "      <th>Article ID</th>\n",
              "      <th>LLM Summary</th>\n",
              "      <th>llmR1-R</th>\n",
              "      <th>llmR1-P</th>\n",
              "      <th>llmR1-F</th>\n",
              "      <th>llmR2-R</th>\n",
              "      <th>llmR2-P</th>\n",
              "      <th>llmR2-F</th>\n",
              "      <th>llmRL-R</th>\n",
              "      <th>llmRL-P</th>\n",
              "      <th>llmRL-F</th>\n",
              "    </tr>\n",
              "  </thead>\n",
              "  <tbody>\n",
              "    <tr>\n",
              "      <th>0</th>\n",
              "      <td>f001ec5c4704938247d27a44948eebb37ae98d01</td>\n",
              "      <td>The Palestinian Authority has officially becom...</td>\n",
              "      <td>0.451613</td>\n",
              "      <td>0.237288</td>\n",
              "      <td>0.311111</td>\n",
              "      <td>0.235294</td>\n",
              "      <td>0.108108</td>\n",
              "      <td>0.148148</td>\n",
              "      <td>0.419355</td>\n",
              "      <td>0.220339</td>\n",
              "      <td>0.288889</td>\n",
              "    </tr>\n",
              "    <tr>\n",
              "      <th>1</th>\n",
              "      <td>88e7dac40f3e6c159e4edc0747d0cc0f50886fbb</td>\n",
              "      <td>Robert H. Schuller, the founder of the Crystal...</td>\n",
              "      <td>0.535714</td>\n",
              "      <td>0.114504</td>\n",
              "      <td>0.188679</td>\n",
              "      <td>0.218750</td>\n",
              "      <td>0.035000</td>\n",
              "      <td>0.060345</td>\n",
              "      <td>0.535714</td>\n",
              "      <td>0.114504</td>\n",
              "      <td>0.188679</td>\n",
              "    </tr>\n",
              "    <tr>\n",
              "      <th>2</th>\n",
              "      <td>4495ba8f3a340d97a9df1476f8a35502bcce1f69</td>\n",
              "      <td>Mohammad Javad Zarif is the Iranian Foreign Mi...</td>\n",
              "      <td>0.551724</td>\n",
              "      <td>0.134454</td>\n",
              "      <td>0.216216</td>\n",
              "      <td>0.281250</td>\n",
              "      <td>0.049724</td>\n",
              "      <td>0.084507</td>\n",
              "      <td>0.517241</td>\n",
              "      <td>0.126050</td>\n",
              "      <td>0.202703</td>\n",
              "    </tr>\n",
              "    <tr>\n",
              "      <th>3</th>\n",
              "      <td>2bd8ada1de6a7b02f59430cc82045eb8d29cf033</td>\n",
              "      <td>Bob Barker returned to host \"The Price is Righ...</td>\n",
              "      <td>0.300000</td>\n",
              "      <td>0.171429</td>\n",
              "      <td>0.218182</td>\n",
              "      <td>0.090909</td>\n",
              "      <td>0.052632</td>\n",
              "      <td>0.066667</td>\n",
              "      <td>0.300000</td>\n",
              "      <td>0.171429</td>\n",
              "      <td>0.218182</td>\n",
              "    </tr>\n",
              "    <tr>\n",
              "      <th>4</th>\n",
              "      <td>1b2cc634e2bfc6f2595260e7ed9b42f77ecbb0ce</td>\n",
              "      <td>A high school basketball player asked a freshm...</td>\n",
              "      <td>0.478261</td>\n",
              "      <td>0.224490</td>\n",
              "      <td>0.305556</td>\n",
              "      <td>0.173913</td>\n",
              "      <td>0.056338</td>\n",
              "      <td>0.085106</td>\n",
              "      <td>0.478261</td>\n",
              "      <td>0.224490</td>\n",
              "      <td>0.305556</td>\n",
              "    </tr>\n",
              "    <tr>\n",
              "      <th>...</th>\n",
              "      <td>...</td>\n",
              "      <td>...</td>\n",
              "      <td>...</td>\n",
              "      <td>...</td>\n",
              "      <td>...</td>\n",
              "      <td>...</td>\n",
              "      <td>...</td>\n",
              "      <td>...</td>\n",
              "      <td>...</td>\n",
              "      <td>...</td>\n",
              "      <td>...</td>\n",
              "    </tr>\n",
              "    <tr>\n",
              "      <th>224</th>\n",
              "      <td>788c4a340d6aa99163bb63e2c58ffae12ee4824b</td>\n",
              "      <td>The Food and Drug Administration is considerin...</td>\n",
              "      <td>0.387097</td>\n",
              "      <td>0.200000</td>\n",
              "      <td>0.263736</td>\n",
              "      <td>0.090909</td>\n",
              "      <td>0.038462</td>\n",
              "      <td>0.054054</td>\n",
              "      <td>0.322581</td>\n",
              "      <td>0.166667</td>\n",
              "      <td>0.219780</td>\n",
              "    </tr>\n",
              "    <tr>\n",
              "      <th>225</th>\n",
              "      <td>daa7e67d12ba72cd573f0e484e8980f884f00177</td>\n",
              "      <td>America has the highest incarceration rate in ...</td>\n",
              "      <td>0.296296</td>\n",
              "      <td>0.216216</td>\n",
              "      <td>0.250000</td>\n",
              "      <td>0.241379</td>\n",
              "      <td>0.170732</td>\n",
              "      <td>0.200000</td>\n",
              "      <td>0.296296</td>\n",
              "      <td>0.216216</td>\n",
              "      <td>0.250000</td>\n",
              "    </tr>\n",
              "    <tr>\n",
              "      <th>226</th>\n",
              "      <td>ae4c185040457dae1d6a9fe4b9f9cc8a3997bcc6</td>\n",
              "      <td>2 people from different generations and politi...</td>\n",
              "      <td>0.263158</td>\n",
              "      <td>0.169492</td>\n",
              "      <td>0.206186</td>\n",
              "      <td>0.051282</td>\n",
              "      <td>0.028571</td>\n",
              "      <td>0.036697</td>\n",
              "      <td>0.236842</td>\n",
              "      <td>0.152542</td>\n",
              "      <td>0.185567</td>\n",
              "    </tr>\n",
              "    <tr>\n",
              "      <th>227</th>\n",
              "      <td>ccb37f6eba3568f515734a47646183b3fb27c998</td>\n",
              "      <td>cnn reports on a skywest airlines flight that ...</td>\n",
              "      <td>0.421053</td>\n",
              "      <td>0.235294</td>\n",
              "      <td>0.301887</td>\n",
              "      <td>0.000000</td>\n",
              "      <td>0.000000</td>\n",
              "      <td>0.000000</td>\n",
              "      <td>0.368421</td>\n",
              "      <td>0.205882</td>\n",
              "      <td>0.264151</td>\n",
              "    </tr>\n",
              "    <tr>\n",
              "      <th>228</th>\n",
              "      <td>a09e4db7b16a0e201e7f7ecb0f19f48a42bf4943</td>\n",
              "      <td>North Korean leader Kim Jong-un will visit Mos...</td>\n",
              "      <td>0.250000</td>\n",
              "      <td>0.170213</td>\n",
              "      <td>0.202532</td>\n",
              "      <td>0.057143</td>\n",
              "      <td>0.036364</td>\n",
              "      <td>0.044444</td>\n",
              "      <td>0.250000</td>\n",
              "      <td>0.170213</td>\n",
              "      <td>0.202532</td>\n",
              "    </tr>\n",
              "  </tbody>\n",
              "</table>\n",
              "<p>229 rows × 11 columns</p>\n",
              "</div>\n",
              "      <button class=\"colab-df-convert\" onclick=\"convertToInteractive('df-be94c354-1f68-4fed-bfed-d6b6c9241e4a')\"\n",
              "              title=\"Convert this dataframe to an interactive table.\"\n",
              "              style=\"display:none;\">\n",
              "\n",
              "  <svg xmlns=\"http://www.w3.org/2000/svg\" height=\"24px\"viewBox=\"0 0 24 24\"\n",
              "       width=\"24px\">\n",
              "    <path d=\"M0 0h24v24H0V0z\" fill=\"none\"/>\n",
              "    <path d=\"M18.56 5.44l.94 2.06.94-2.06 2.06-.94-2.06-.94-.94-2.06-.94 2.06-2.06.94zm-11 1L8.5 8.5l.94-2.06 2.06-.94-2.06-.94L8.5 2.5l-.94 2.06-2.06.94zm10 10l.94 2.06.94-2.06 2.06-.94-2.06-.94-.94-2.06-.94 2.06-2.06.94z\"/><path d=\"M17.41 7.96l-1.37-1.37c-.4-.4-.92-.59-1.43-.59-.52 0-1.04.2-1.43.59L10.3 9.45l-7.72 7.72c-.78.78-.78 2.05 0 2.83L4 21.41c.39.39.9.59 1.41.59.51 0 1.02-.2 1.41-.59l7.78-7.78 2.81-2.81c.8-.78.8-2.07 0-2.86zM5.41 20L4 18.59l7.72-7.72 1.47 1.35L5.41 20z\"/>\n",
              "  </svg>\n",
              "      </button>\n",
              "\n",
              "\n",
              "\n",
              "    <div id=\"df-d1de0899-22bc-4fd1-9137-d4161cf175e6\">\n",
              "      <button class=\"colab-df-quickchart\" onclick=\"quickchart('df-d1de0899-22bc-4fd1-9137-d4161cf175e6')\"\n",
              "              title=\"Suggest charts.\"\n",
              "              style=\"display:none;\">\n",
              "\n",
              "<svg xmlns=\"http://www.w3.org/2000/svg\" height=\"24px\"viewBox=\"0 0 24 24\"\n",
              "     width=\"24px\">\n",
              "    <g>\n",
              "        <path d=\"M19 3H5c-1.1 0-2 .9-2 2v14c0 1.1.9 2 2 2h14c1.1 0 2-.9 2-2V5c0-1.1-.9-2-2-2zM9 17H7v-7h2v7zm4 0h-2V7h2v10zm4 0h-2v-4h2v4z\"/>\n",
              "    </g>\n",
              "</svg>\n",
              "      </button>\n",
              "    </div>\n",
              "\n",
              "<style>\n",
              "  .colab-df-quickchart {\n",
              "    background-color: #E8F0FE;\n",
              "    border: none;\n",
              "    border-radius: 50%;\n",
              "    cursor: pointer;\n",
              "    display: none;\n",
              "    fill: #1967D2;\n",
              "    height: 32px;\n",
              "    padding: 0 0 0 0;\n",
              "    width: 32px;\n",
              "  }\n",
              "\n",
              "  .colab-df-quickchart:hover {\n",
              "    background-color: #E2EBFA;\n",
              "    box-shadow: 0px 1px 2px rgba(60, 64, 67, 0.3), 0px 1px 3px 1px rgba(60, 64, 67, 0.15);\n",
              "    fill: #174EA6;\n",
              "  }\n",
              "\n",
              "  [theme=dark] .colab-df-quickchart {\n",
              "    background-color: #3B4455;\n",
              "    fill: #D2E3FC;\n",
              "  }\n",
              "\n",
              "  [theme=dark] .colab-df-quickchart:hover {\n",
              "    background-color: #434B5C;\n",
              "    box-shadow: 0px 1px 3px 1px rgba(0, 0, 0, 0.15);\n",
              "    filter: drop-shadow(0px 1px 2px rgba(0, 0, 0, 0.3));\n",
              "    fill: #FFFFFF;\n",
              "  }\n",
              "</style>\n",
              "\n",
              "    <script>\n",
              "      async function quickchart(key) {\n",
              "        const containerElement = document.querySelector('#' + key);\n",
              "        const charts = await google.colab.kernel.invokeFunction(\n",
              "            'suggestCharts', [key], {});\n",
              "      }\n",
              "    </script>\n",
              "\n",
              "      <script>\n",
              "\n",
              "function displayQuickchartButton(domScope) {\n",
              "  let quickchartButtonEl =\n",
              "    domScope.querySelector('#df-d1de0899-22bc-4fd1-9137-d4161cf175e6 button.colab-df-quickchart');\n",
              "  quickchartButtonEl.style.display =\n",
              "    google.colab.kernel.accessAllowed ? 'block' : 'none';\n",
              "}\n",
              "\n",
              "        displayQuickchartButton(document);\n",
              "      </script>\n",
              "      <style>\n",
              "    .colab-df-container {\n",
              "      display:flex;\n",
              "      flex-wrap:wrap;\n",
              "      gap: 12px;\n",
              "    }\n",
              "\n",
              "    .colab-df-convert {\n",
              "      background-color: #E8F0FE;\n",
              "      border: none;\n",
              "      border-radius: 50%;\n",
              "      cursor: pointer;\n",
              "      display: none;\n",
              "      fill: #1967D2;\n",
              "      height: 32px;\n",
              "      padding: 0 0 0 0;\n",
              "      width: 32px;\n",
              "    }\n",
              "\n",
              "    .colab-df-convert:hover {\n",
              "      background-color: #E2EBFA;\n",
              "      box-shadow: 0px 1px 2px rgba(60, 64, 67, 0.3), 0px 1px 3px 1px rgba(60, 64, 67, 0.15);\n",
              "      fill: #174EA6;\n",
              "    }\n",
              "\n",
              "    [theme=dark] .colab-df-convert {\n",
              "      background-color: #3B4455;\n",
              "      fill: #D2E3FC;\n",
              "    }\n",
              "\n",
              "    [theme=dark] .colab-df-convert:hover {\n",
              "      background-color: #434B5C;\n",
              "      box-shadow: 0px 1px 3px 1px rgba(0, 0, 0, 0.15);\n",
              "      filter: drop-shadow(0px 1px 2px rgba(0, 0, 0, 0.3));\n",
              "      fill: #FFFFFF;\n",
              "    }\n",
              "  </style>\n",
              "\n",
              "      <script>\n",
              "        const buttonEl =\n",
              "          document.querySelector('#df-be94c354-1f68-4fed-bfed-d6b6c9241e4a button.colab-df-convert');\n",
              "        buttonEl.style.display =\n",
              "          google.colab.kernel.accessAllowed ? 'block' : 'none';\n",
              "\n",
              "        async function convertToInteractive(key) {\n",
              "          const element = document.querySelector('#df-be94c354-1f68-4fed-bfed-d6b6c9241e4a');\n",
              "          const dataTable =\n",
              "            await google.colab.kernel.invokeFunction('convertToInteractive',\n",
              "                                                     [key], {});\n",
              "          if (!dataTable) return;\n",
              "\n",
              "          const docLinkHtml = 'Like what you see? Visit the ' +\n",
              "            '<a target=\"_blank\" href=https://colab.research.google.com/notebooks/data_table.ipynb>data table notebook</a>'\n",
              "            + ' to learn more about interactive tables.';\n",
              "          element.innerHTML = '';\n",
              "          dataTable['output_type'] = 'display_data';\n",
              "          await google.colab.output.renderOutput(dataTable, element);\n",
              "          const docLink = document.createElement('div');\n",
              "          docLink.innerHTML = docLinkHtml;\n",
              "          element.appendChild(docLink);\n",
              "        }\n",
              "      </script>\n",
              "    </div>\n",
              "  </div>\n"
            ]
          },
          "metadata": {},
          "execution_count": 50
        }
      ]
    },
    {
      "cell_type": "code",
      "source": [
        "llmsum=pd.read_csv(\"/content/llm_with_roguescores.csv\")"
      ],
      "metadata": {
        "id": "v9xIWANAdkSO"
      },
      "execution_count": null,
      "outputs": []
    },
    {
      "cell_type": "code",
      "source": [
        "\n",
        "result = pd.concat([llmsum, restr], axis=0, ignore_index=True)\n"
      ],
      "metadata": {
        "id": "Tx_HlfSic5Dt"
      },
      "execution_count": null,
      "outputs": []
    },
    {
      "cell_type": "code",
      "source": [
        "result.to_csv('llmsummaries_1000.csv', index=False)"
      ],
      "metadata": {
        "id": "bxp7anFqdEWy"
      },
      "execution_count": null,
      "outputs": []
    },
    {
      "cell_type": "code",
      "source": [
        "len(dftest)"
      ],
      "metadata": {
        "colab": {
          "base_uri": "https://localhost:8080/"
        },
        "id": "71Gec4AhgTva",
        "outputId": "33e5ce50-9c20-4f3c-c8c9-d44581c6dba5"
      },
      "execution_count": null,
      "outputs": [
        {
          "output_type": "execute_result",
          "data": {
            "text/plain": [
              "1000"
            ]
          },
          "metadata": {},
          "execution_count": 67
        }
      ]
    },
    {
      "cell_type": "code",
      "source": [
        "column_list = rest['Article ID'].tolist()"
      ],
      "metadata": {
        "id": "6z7I2cH7h_iw"
      },
      "execution_count": null,
      "outputs": []
    },
    {
      "cell_type": "code",
      "source": [
        "import pandas as pd\n",
        "\n",
        "# Say you want to remove rows with Article IDs 'id2' and 'id4'\n",
        "ids_to_remove = column_list\n",
        "\n",
        "# Use the isin method with the ~ operator\n",
        "dftrain = dftrain[~dftrain['Article ID'].isin(ids_to_remove)]\n",
        "\n",
        "dftrain\n"
      ],
      "metadata": {
        "colab": {
          "base_uri": "https://localhost:8080/",
          "height": 1000
        },
        "id": "GFHUvRmtdtmK",
        "outputId": "b71b80d4-d14a-4bce-a16e-895566a71f92"
      },
      "execution_count": null,
      "outputs": [
        {
          "output_type": "execute_result",
          "data": {
            "text/plain": [
              "                                    Article ID  \\\n",
              "0     469c6ac05092ca5997728c9dfc19f9ab6b936e40   \n",
              "2     e2706dce6cf26bc61b082438188fdb6e130d9e40   \n",
              "3     c222979bd1cfbc7d3ff821e9c738e3dbd29b14f4   \n",
              "4     c27cf1b136cc270023de959e7ab24638021bc43f   \n",
              "15    c7caf9181c2e94a79d9102da6e11cde48c880aa5   \n",
              "...                                        ...   \n",
              "4347  7e4c604889de6b7da503d8ac2c43108eeb96501f   \n",
              "4348  d4287f044f2056ef23f53e0ea2a3c54a0ad8ff7a   \n",
              "4349  9242927b230df6eb617ea4b92b842bd9876f5b61   \n",
              "4350  114153f5bcef4e19edc4d3c6f6cb313febc939fb   \n",
              "4351  0b4d82b558432ccc529eb3e1b3940cc4a44bec14   \n",
              "\n",
              "                                       Original Article  \\\n",
              "0     marseille , france -lrb- cnn -rrb- the french ...   \n",
              "2     -lrb- cnn -rrb- governments around the world a...   \n",
              "3     -lrb- cnn -rrb- on may 28 , 2014 , some 7,000 ...   \n",
              "4     -lrb- cnn -rrb- a duke student has admitted to...   \n",
              "15    -lrb- cnn -rrb- the united states and its nego...   \n",
              "...                                                 ...   \n",
              "4347  until now , it has been a hidden world , prote...   \n",
              "4348  arrest : kayla mooney , pictured , allegedly h...   \n",
              "4349  foreign gps now account for 11 per cent of fam...   \n",
              "4350  did you blink ? there was a total eclipse of t...   \n",
              "4351  a new model for hiv progression shows that it ...   \n",
              "\n",
              "                                              Highlight  \\\n",
              "0      marseille prosecutor says `` so far no videos...   \n",
              "2      amnesty 's annual death penalty report catalo...   \n",
              "3      amnesty international releases its annual rev...   \n",
              "4      student is no longer on duke university campu...   \n",
              "15     richard klass : iran framework agreement on n...   \n",
              "...                                                 ...   \n",
              "4347   footage reveals huge variety of life on the s...   \n",
              "4348   kayla mooney , who is in her first year teach...   \n",
              "4349   foreign gps now account for 1 in 5 family doc...   \n",
              "4350   the moon skimmed across the earth 's shadow o...   \n",
              "4351   new model accurately predicted patients ' pro...   \n",
              "\n",
              "                                      Generated Summary    R1-R    R1-P  \\\n",
              "0     marseille , france -lrb- cnn -rrb- the french ...  0.3617  0.3696   \n",
              "2     -lrb- cnn -rrb- governments around the world a...  0.4783  0.3333   \n",
              "3     in the patently unfair , open air trial that f...  0.1765  0.1364   \n",
              "4     -lrb- cnn -rrb- a duke student has admitted to...  0.7308  0.3958   \n",
              "15    -lrb- cnn -rrb- the united states and its nego...  0.3721  0.3265   \n",
              "...                                                 ...     ...     ...   \n",
              "4347  the icefin was deployed -lrb- and retrieved -r...  0.2903  0.1636   \n",
              "4348  kayla mooney , who is in her first year teachi...  0.5854  0.4286   \n",
              "4349  the number of gps from abroad is up by 11 per ...  0.6111  0.4151   \n",
              "4350  the so-called ` blood moon ' could be seen by ...  0.3548  0.2157   \n",
              "4351  they worked together to build a model for this...  0.5526  0.3088   \n",
              "\n",
              "        R1-F    R2-R    R2-P    R2-F    RL-R    RL-P    RL-F  \n",
              "0     0.3656  0.2037  0.1964  0.2000  0.3404  0.3478  0.3440  \n",
              "2     0.3929  0.2321  0.1548  0.1857  0.4565  0.3182  0.3532  \n",
              "3     0.1538  0.0000  0.0000  0.0000  0.1765  0.1364  0.1490  \n",
              "4     0.5135  0.2414  0.1186  0.1591  0.6538  0.3542  0.3953  \n",
              "15    0.3478  0.0213  0.0179  0.0194  0.2093  0.1837  0.1940  \n",
              "...      ...     ...     ...     ...     ...     ...     ...  \n",
              "4347  0.2093  0.0571  0.0260  0.0357  0.2581  0.1455  0.1626  \n",
              "4348  0.4948  0.3830  0.2368  0.2927  0.5366  0.3929  0.4334  \n",
              "4349  0.4944  0.2564  0.1563  0.1942  0.6111  0.4151  0.4619  \n",
              "4350  0.2683  0.1429  0.0714  0.0952  0.3226  0.1961  0.2193  \n",
              "4351  0.3962  0.3571  0.1807  0.2400  0.5526  0.3088  0.3450  \n",
              "\n",
              "[4123 rows x 13 columns]"
            ],
            "text/html": [
              "\n",
              "\n",
              "  <div id=\"df-9e4fbe19-7844-4487-94a3-84a5c6af8c5b\">\n",
              "    <div class=\"colab-df-container\">\n",
              "      <div>\n",
              "<style scoped>\n",
              "    .dataframe tbody tr th:only-of-type {\n",
              "        vertical-align: middle;\n",
              "    }\n",
              "\n",
              "    .dataframe tbody tr th {\n",
              "        vertical-align: top;\n",
              "    }\n",
              "\n",
              "    .dataframe thead th {\n",
              "        text-align: right;\n",
              "    }\n",
              "</style>\n",
              "<table border=\"1\" class=\"dataframe\">\n",
              "  <thead>\n",
              "    <tr style=\"text-align: right;\">\n",
              "      <th></th>\n",
              "      <th>Article ID</th>\n",
              "      <th>Original Article</th>\n",
              "      <th>Highlight</th>\n",
              "      <th>Generated Summary</th>\n",
              "      <th>R1-R</th>\n",
              "      <th>R1-P</th>\n",
              "      <th>R1-F</th>\n",
              "      <th>R2-R</th>\n",
              "      <th>R2-P</th>\n",
              "      <th>R2-F</th>\n",
              "      <th>RL-R</th>\n",
              "      <th>RL-P</th>\n",
              "      <th>RL-F</th>\n",
              "    </tr>\n",
              "  </thead>\n",
              "  <tbody>\n",
              "    <tr>\n",
              "      <th>0</th>\n",
              "      <td>469c6ac05092ca5997728c9dfc19f9ab6b936e40</td>\n",
              "      <td>marseille , france -lrb- cnn -rrb- the french ...</td>\n",
              "      <td>marseille prosecutor says `` so far no videos...</td>\n",
              "      <td>marseille , france -lrb- cnn -rrb- the french ...</td>\n",
              "      <td>0.3617</td>\n",
              "      <td>0.3696</td>\n",
              "      <td>0.3656</td>\n",
              "      <td>0.2037</td>\n",
              "      <td>0.1964</td>\n",
              "      <td>0.2000</td>\n",
              "      <td>0.3404</td>\n",
              "      <td>0.3478</td>\n",
              "      <td>0.3440</td>\n",
              "    </tr>\n",
              "    <tr>\n",
              "      <th>2</th>\n",
              "      <td>e2706dce6cf26bc61b082438188fdb6e130d9e40</td>\n",
              "      <td>-lrb- cnn -rrb- governments around the world a...</td>\n",
              "      <td>amnesty 's annual death penalty report catalo...</td>\n",
              "      <td>-lrb- cnn -rrb- governments around the world a...</td>\n",
              "      <td>0.4783</td>\n",
              "      <td>0.3333</td>\n",
              "      <td>0.3929</td>\n",
              "      <td>0.2321</td>\n",
              "      <td>0.1548</td>\n",
              "      <td>0.1857</td>\n",
              "      <td>0.4565</td>\n",
              "      <td>0.3182</td>\n",
              "      <td>0.3532</td>\n",
              "    </tr>\n",
              "    <tr>\n",
              "      <th>3</th>\n",
              "      <td>c222979bd1cfbc7d3ff821e9c738e3dbd29b14f4</td>\n",
              "      <td>-lrb- cnn -rrb- on may 28 , 2014 , some 7,000 ...</td>\n",
              "      <td>amnesty international releases its annual rev...</td>\n",
              "      <td>in the patently unfair , open air trial that f...</td>\n",
              "      <td>0.1765</td>\n",
              "      <td>0.1364</td>\n",
              "      <td>0.1538</td>\n",
              "      <td>0.0000</td>\n",
              "      <td>0.0000</td>\n",
              "      <td>0.0000</td>\n",
              "      <td>0.1765</td>\n",
              "      <td>0.1364</td>\n",
              "      <td>0.1490</td>\n",
              "    </tr>\n",
              "    <tr>\n",
              "      <th>4</th>\n",
              "      <td>c27cf1b136cc270023de959e7ab24638021bc43f</td>\n",
              "      <td>-lrb- cnn -rrb- a duke student has admitted to...</td>\n",
              "      <td>student is no longer on duke university campu...</td>\n",
              "      <td>-lrb- cnn -rrb- a duke student has admitted to...</td>\n",
              "      <td>0.7308</td>\n",
              "      <td>0.3958</td>\n",
              "      <td>0.5135</td>\n",
              "      <td>0.2414</td>\n",
              "      <td>0.1186</td>\n",
              "      <td>0.1591</td>\n",
              "      <td>0.6538</td>\n",
              "      <td>0.3542</td>\n",
              "      <td>0.3953</td>\n",
              "    </tr>\n",
              "    <tr>\n",
              "      <th>15</th>\n",
              "      <td>c7caf9181c2e94a79d9102da6e11cde48c880aa5</td>\n",
              "      <td>-lrb- cnn -rrb- the united states and its nego...</td>\n",
              "      <td>richard klass : iran framework agreement on n...</td>\n",
              "      <td>-lrb- cnn -rrb- the united states and its nego...</td>\n",
              "      <td>0.3721</td>\n",
              "      <td>0.3265</td>\n",
              "      <td>0.3478</td>\n",
              "      <td>0.0213</td>\n",
              "      <td>0.0179</td>\n",
              "      <td>0.0194</td>\n",
              "      <td>0.2093</td>\n",
              "      <td>0.1837</td>\n",
              "      <td>0.1940</td>\n",
              "    </tr>\n",
              "    <tr>\n",
              "      <th>...</th>\n",
              "      <td>...</td>\n",
              "      <td>...</td>\n",
              "      <td>...</td>\n",
              "      <td>...</td>\n",
              "      <td>...</td>\n",
              "      <td>...</td>\n",
              "      <td>...</td>\n",
              "      <td>...</td>\n",
              "      <td>...</td>\n",
              "      <td>...</td>\n",
              "      <td>...</td>\n",
              "      <td>...</td>\n",
              "      <td>...</td>\n",
              "    </tr>\n",
              "    <tr>\n",
              "      <th>4347</th>\n",
              "      <td>7e4c604889de6b7da503d8ac2c43108eeb96501f</td>\n",
              "      <td>until now , it has been a hidden world , prote...</td>\n",
              "      <td>footage reveals huge variety of life on the s...</td>\n",
              "      <td>the icefin was deployed -lrb- and retrieved -r...</td>\n",
              "      <td>0.2903</td>\n",
              "      <td>0.1636</td>\n",
              "      <td>0.2093</td>\n",
              "      <td>0.0571</td>\n",
              "      <td>0.0260</td>\n",
              "      <td>0.0357</td>\n",
              "      <td>0.2581</td>\n",
              "      <td>0.1455</td>\n",
              "      <td>0.1626</td>\n",
              "    </tr>\n",
              "    <tr>\n",
              "      <th>4348</th>\n",
              "      <td>d4287f044f2056ef23f53e0ea2a3c54a0ad8ff7a</td>\n",
              "      <td>arrest : kayla mooney , pictured , allegedly h...</td>\n",
              "      <td>kayla mooney , who is in her first year teach...</td>\n",
              "      <td>kayla mooney , who is in her first year teachi...</td>\n",
              "      <td>0.5854</td>\n",
              "      <td>0.4286</td>\n",
              "      <td>0.4948</td>\n",
              "      <td>0.3830</td>\n",
              "      <td>0.2368</td>\n",
              "      <td>0.2927</td>\n",
              "      <td>0.5366</td>\n",
              "      <td>0.3929</td>\n",
              "      <td>0.4334</td>\n",
              "    </tr>\n",
              "    <tr>\n",
              "      <th>4349</th>\n",
              "      <td>9242927b230df6eb617ea4b92b842bd9876f5b61</td>\n",
              "      <td>foreign gps now account for 11 per cent of fam...</td>\n",
              "      <td>foreign gps now account for 1 in 5 family doc...</td>\n",
              "      <td>the number of gps from abroad is up by 11 per ...</td>\n",
              "      <td>0.6111</td>\n",
              "      <td>0.4151</td>\n",
              "      <td>0.4944</td>\n",
              "      <td>0.2564</td>\n",
              "      <td>0.1563</td>\n",
              "      <td>0.1942</td>\n",
              "      <td>0.6111</td>\n",
              "      <td>0.4151</td>\n",
              "      <td>0.4619</td>\n",
              "    </tr>\n",
              "    <tr>\n",
              "      <th>4350</th>\n",
              "      <td>114153f5bcef4e19edc4d3c6f6cb313febc939fb</td>\n",
              "      <td>did you blink ? there was a total eclipse of t...</td>\n",
              "      <td>the moon skimmed across the earth 's shadow o...</td>\n",
              "      <td>the so-called ` blood moon ' could be seen by ...</td>\n",
              "      <td>0.3548</td>\n",
              "      <td>0.2157</td>\n",
              "      <td>0.2683</td>\n",
              "      <td>0.1429</td>\n",
              "      <td>0.0714</td>\n",
              "      <td>0.0952</td>\n",
              "      <td>0.3226</td>\n",
              "      <td>0.1961</td>\n",
              "      <td>0.2193</td>\n",
              "    </tr>\n",
              "    <tr>\n",
              "      <th>4351</th>\n",
              "      <td>0b4d82b558432ccc529eb3e1b3940cc4a44bec14</td>\n",
              "      <td>a new model for hiv progression shows that it ...</td>\n",
              "      <td>new model accurately predicted patients ' pro...</td>\n",
              "      <td>they worked together to build a model for this...</td>\n",
              "      <td>0.5526</td>\n",
              "      <td>0.3088</td>\n",
              "      <td>0.3962</td>\n",
              "      <td>0.3571</td>\n",
              "      <td>0.1807</td>\n",
              "      <td>0.2400</td>\n",
              "      <td>0.5526</td>\n",
              "      <td>0.3088</td>\n",
              "      <td>0.3450</td>\n",
              "    </tr>\n",
              "  </tbody>\n",
              "</table>\n",
              "<p>4123 rows × 13 columns</p>\n",
              "</div>\n",
              "      <button class=\"colab-df-convert\" onclick=\"convertToInteractive('df-9e4fbe19-7844-4487-94a3-84a5c6af8c5b')\"\n",
              "              title=\"Convert this dataframe to an interactive table.\"\n",
              "              style=\"display:none;\">\n",
              "\n",
              "  <svg xmlns=\"http://www.w3.org/2000/svg\" height=\"24px\"viewBox=\"0 0 24 24\"\n",
              "       width=\"24px\">\n",
              "    <path d=\"M0 0h24v24H0V0z\" fill=\"none\"/>\n",
              "    <path d=\"M18.56 5.44l.94 2.06.94-2.06 2.06-.94-2.06-.94-.94-2.06-.94 2.06-2.06.94zm-11 1L8.5 8.5l.94-2.06 2.06-.94-2.06-.94L8.5 2.5l-.94 2.06-2.06.94zm10 10l.94 2.06.94-2.06 2.06-.94-2.06-.94-.94-2.06-.94 2.06-2.06.94z\"/><path d=\"M17.41 7.96l-1.37-1.37c-.4-.4-.92-.59-1.43-.59-.52 0-1.04.2-1.43.59L10.3 9.45l-7.72 7.72c-.78.78-.78 2.05 0 2.83L4 21.41c.39.39.9.59 1.41.59.51 0 1.02-.2 1.41-.59l7.78-7.78 2.81-2.81c.8-.78.8-2.07 0-2.86zM5.41 20L4 18.59l7.72-7.72 1.47 1.35L5.41 20z\"/>\n",
              "  </svg>\n",
              "      </button>\n",
              "\n",
              "\n",
              "\n",
              "    <div id=\"df-04ec5796-1eb7-4cc2-8480-3a3bb7715f93\">\n",
              "      <button class=\"colab-df-quickchart\" onclick=\"quickchart('df-04ec5796-1eb7-4cc2-8480-3a3bb7715f93')\"\n",
              "              title=\"Suggest charts.\"\n",
              "              style=\"display:none;\">\n",
              "\n",
              "<svg xmlns=\"http://www.w3.org/2000/svg\" height=\"24px\"viewBox=\"0 0 24 24\"\n",
              "     width=\"24px\">\n",
              "    <g>\n",
              "        <path d=\"M19 3H5c-1.1 0-2 .9-2 2v14c0 1.1.9 2 2 2h14c1.1 0 2-.9 2-2V5c0-1.1-.9-2-2-2zM9 17H7v-7h2v7zm4 0h-2V7h2v10zm4 0h-2v-4h2v4z\"/>\n",
              "    </g>\n",
              "</svg>\n",
              "      </button>\n",
              "    </div>\n",
              "\n",
              "<style>\n",
              "  .colab-df-quickchart {\n",
              "    background-color: #E8F0FE;\n",
              "    border: none;\n",
              "    border-radius: 50%;\n",
              "    cursor: pointer;\n",
              "    display: none;\n",
              "    fill: #1967D2;\n",
              "    height: 32px;\n",
              "    padding: 0 0 0 0;\n",
              "    width: 32px;\n",
              "  }\n",
              "\n",
              "  .colab-df-quickchart:hover {\n",
              "    background-color: #E2EBFA;\n",
              "    box-shadow: 0px 1px 2px rgba(60, 64, 67, 0.3), 0px 1px 3px 1px rgba(60, 64, 67, 0.15);\n",
              "    fill: #174EA6;\n",
              "  }\n",
              "\n",
              "  [theme=dark] .colab-df-quickchart {\n",
              "    background-color: #3B4455;\n",
              "    fill: #D2E3FC;\n",
              "  }\n",
              "\n",
              "  [theme=dark] .colab-df-quickchart:hover {\n",
              "    background-color: #434B5C;\n",
              "    box-shadow: 0px 1px 3px 1px rgba(0, 0, 0, 0.15);\n",
              "    filter: drop-shadow(0px 1px 2px rgba(0, 0, 0, 0.3));\n",
              "    fill: #FFFFFF;\n",
              "  }\n",
              "</style>\n",
              "\n",
              "    <script>\n",
              "      async function quickchart(key) {\n",
              "        const containerElement = document.querySelector('#' + key);\n",
              "        const charts = await google.colab.kernel.invokeFunction(\n",
              "            'suggestCharts', [key], {});\n",
              "      }\n",
              "    </script>\n",
              "\n",
              "      <script>\n",
              "\n",
              "function displayQuickchartButton(domScope) {\n",
              "  let quickchartButtonEl =\n",
              "    domScope.querySelector('#df-04ec5796-1eb7-4cc2-8480-3a3bb7715f93 button.colab-df-quickchart');\n",
              "  quickchartButtonEl.style.display =\n",
              "    google.colab.kernel.accessAllowed ? 'block' : 'none';\n",
              "}\n",
              "\n",
              "        displayQuickchartButton(document);\n",
              "      </script>\n",
              "      <style>\n",
              "    .colab-df-container {\n",
              "      display:flex;\n",
              "      flex-wrap:wrap;\n",
              "      gap: 12px;\n",
              "    }\n",
              "\n",
              "    .colab-df-convert {\n",
              "      background-color: #E8F0FE;\n",
              "      border: none;\n",
              "      border-radius: 50%;\n",
              "      cursor: pointer;\n",
              "      display: none;\n",
              "      fill: #1967D2;\n",
              "      height: 32px;\n",
              "      padding: 0 0 0 0;\n",
              "      width: 32px;\n",
              "    }\n",
              "\n",
              "    .colab-df-convert:hover {\n",
              "      background-color: #E2EBFA;\n",
              "      box-shadow: 0px 1px 2px rgba(60, 64, 67, 0.3), 0px 1px 3px 1px rgba(60, 64, 67, 0.15);\n",
              "      fill: #174EA6;\n",
              "    }\n",
              "\n",
              "    [theme=dark] .colab-df-convert {\n",
              "      background-color: #3B4455;\n",
              "      fill: #D2E3FC;\n",
              "    }\n",
              "\n",
              "    [theme=dark] .colab-df-convert:hover {\n",
              "      background-color: #434B5C;\n",
              "      box-shadow: 0px 1px 3px 1px rgba(0, 0, 0, 0.15);\n",
              "      filter: drop-shadow(0px 1px 2px rgba(0, 0, 0, 0.3));\n",
              "      fill: #FFFFFF;\n",
              "    }\n",
              "  </style>\n",
              "\n",
              "      <script>\n",
              "        const buttonEl =\n",
              "          document.querySelector('#df-9e4fbe19-7844-4487-94a3-84a5c6af8c5b button.colab-df-convert');\n",
              "        buttonEl.style.display =\n",
              "          google.colab.kernel.accessAllowed ? 'block' : 'none';\n",
              "\n",
              "        async function convertToInteractive(key) {\n",
              "          const element = document.querySelector('#df-9e4fbe19-7844-4487-94a3-84a5c6af8c5b');\n",
              "          const dataTable =\n",
              "            await google.colab.kernel.invokeFunction('convertToInteractive',\n",
              "                                                     [key], {});\n",
              "          if (!dataTable) return;\n",
              "\n",
              "          const docLinkHtml = 'Like what you see? Visit the ' +\n",
              "            '<a target=\"_blank\" href=https://colab.research.google.com/notebooks/data_table.ipynb>data table notebook</a>'\n",
              "            + ' to learn more about interactive tables.';\n",
              "          element.innerHTML = '';\n",
              "          dataTable['output_type'] = 'display_data';\n",
              "          await google.colab.output.renderOutput(dataTable, element);\n",
              "          const docLink = document.createElement('div');\n",
              "          docLink.innerHTML = docLinkHtml;\n",
              "          element.appendChild(docLink);\n",
              "        }\n",
              "      </script>\n",
              "    </div>\n",
              "  </div>\n"
            ]
          },
          "metadata": {},
          "execution_count": 80
        }
      ]
    },
    {
      "cell_type": "code",
      "source": [
        "len(dftrain)"
      ],
      "metadata": {
        "colab": {
          "base_uri": "https://localhost:8080/"
        },
        "id": "rFrqoRGbfM_D",
        "outputId": "5029bfb9-2897-466a-ee72-fab885e1b44d"
      },
      "execution_count": null,
      "outputs": [
        {
          "output_type": "execute_result",
          "data": {
            "text/plain": [
              "4123"
            ]
          },
          "metadata": {},
          "execution_count": 81
        }
      ]
    },
    {
      "cell_type": "code",
      "source": [
        "# Given a DataFrame `df` and a column name 'column_name'\n",
        "column_list = P\n"
      ],
      "metadata": {
        "id": "iHm6cCi6gXQP"
      },
      "execution_count": null,
      "outputs": []
    },
    {
      "cell_type": "code",
      "source": [
        "len(column_list)"
      ],
      "metadata": {
        "colab": {
          "base_uri": "https://localhost:8080/"
        },
        "id": "cl0XEFr6gnqX",
        "outputId": "d92b2a35-62ea-4825-b84d-6ce9114f1e99"
      },
      "execution_count": null,
      "outputs": [
        {
          "output_type": "execute_result",
          "data": {
            "text/plain": [
              "229"
            ]
          },
          "metadata": {},
          "execution_count": 83
        }
      ]
    },
    {
      "cell_type": "code",
      "source": [
        "new_df = dftest[dftest['Article ID'].isin(column_list)]\n"
      ],
      "metadata": {
        "id": "E7Yq5NULgoAs"
      },
      "execution_count": null,
      "outputs": []
    },
    {
      "cell_type": "code",
      "source": [
        "new_df"
      ],
      "metadata": {
        "colab": {
          "base_uri": "https://localhost:8080/",
          "height": 1000
        },
        "id": "zPxbslmchCzn",
        "outputId": "634b05bc-cdf8-4354-84e8-a6bee87abbab"
      },
      "execution_count": null,
      "outputs": [
        {
          "output_type": "execute_result",
          "data": {
            "text/plain": [
              "                                   Article ID  \\\n",
              "4    0408464fb6eb2702626d2ca1cbb7c28e76ddd255   \n",
              "5    18f7505fa80eaa981a2f52fbb96fcea5908cd4ee   \n",
              "13   97163bb36cb49730a634a0cbaa01108c2fd89e01   \n",
              "15   cd421645a56af17128c17a41ec2c9074bce84ddc   \n",
              "27   4fde6cc846d0709e25a9cccec8d197ba26c15c82   \n",
              "..                                        ...   \n",
              "962  6d76062fb07e8a37609bbd527934a9219929560b   \n",
              "965  083b6c3239f969ae12491f14fc09b1f17d396983   \n",
              "970  1afd2df29d4e642f20130a231d27004216667fe1   \n",
              "975  8749719d4fb9a14d833d39cde0b6e07985bee823   \n",
              "982  43959f19ee64571fead0661415d4e13c54d71ee1   \n",
              "\n",
              "                                      Original Article  \\\n",
              "4    -lrb- cnn -rrb- we did it again , in another a...   \n",
              "5    palermo president maurizio zamparini has slapp...   \n",
              "13   a video has emerged which appears to show a de...   \n",
              "15   newport county have sacked chris zebroski afte...   \n",
              "27   -lrb- cnn -rrb- he was impressively polite and...   \n",
              "..                                                 ...   \n",
              "962  a hardware store worker has been found guilty ...   \n",
              "965  -lrb- cnn -rrb- authorities in south carolina ...   \n",
              "970  rome -lrb- cnn -rrb- muslims who were among mi...   \n",
              "975  the tories today launched an extraordinary att...   \n",
              "982  seaworld has released an almost five-year-old ...   \n",
              "\n",
              "                                             Highlight  \\\n",
              "4     in baltimore , after the death of freddie gra...   \n",
              "5     paulo dybala is being tracked by manchester u...   \n",
              "13    deanna robinson , of texas , was 38 weeks pre...   \n",
              "15    chris zebroski attacked two taxi drivers in s...   \n",
              "27    defense seeks to make case to spare life of c...   \n",
              "..                                                 ...   \n",
              "962   john r. lind , 34 , from new brighton , minne...   \n",
              "965   footage shows a traffic stop and early intera...   \n",
              "970   the 12 victims were from nigeria and ghana , ...   \n",
              "975   defence secretary michael fallon launches per...   \n",
              "982   video shows john hargrove , who appeared in b...   \n",
              "\n",
              "                                     Generated Summary    R1-R    R1-P  \\\n",
              "4    '' you may be saying with some irritation , ``...  0.1000  0.1515   \n",
              "5    palermo president maurizio zamparini has slapp...  0.5918  0.5273   \n",
              "13   deanna robinson , of quinlan , texas , was 38 ...  0.6500  0.7959   \n",
              "15   newport county have sacked chris zebroski afte...  0.2045  0.3462   \n",
              "27   dzhokhar `` jahar '' tsarnaev 's defense team ...  0.4063  0.2281   \n",
              "..                                                 ...     ...     ...   \n",
              "962  john r. lind , 34 , admitted on thursday to ta...  0.5918  0.5918   \n",
              "965  -lrb- cnn -rrb- authorities in south carolina ...  0.6000  0.4468   \n",
              "970  italian authorities have arrested 15 people on...  0.5484  0.3091   \n",
              "975  defence secretary michael fallon claimed the l...  0.5500  0.1692   \n",
              "982  the recorded cell phone conversation , which t...  0.3871  0.3692   \n",
              "\n",
              "       R1-F    R2-R    R2-P    R2-F    RL-R    RL-P    RL-F  \n",
              "4    0.1205  0.0000  0.0000  0.0000  0.0800  0.1212  0.0892  \n",
              "5    0.5577  0.3455  0.2836  0.3115  0.5918  0.5273  0.5540  \n",
              "13   0.7156  0.5060  0.6563  0.5714  0.6500  0.7959  0.7015  \n",
              "15   0.2571  0.0566  0.0833  0.0674  0.2045  0.3462  0.2288  \n",
              "27   0.2921  0.0500  0.0317  0.0388  0.3125  0.1754  0.1960  \n",
              "..      ...     ...     ...     ...     ...     ...     ...  \n",
              "962  0.5918  0.4182  0.4107  0.4144  0.5306  0.5306  0.5306  \n",
              "965  0.5122  0.2093  0.1525  0.1765  0.5143  0.3830  0.4214  \n",
              "970  0.3953  0.2571  0.1216  0.1651  0.5161  0.2909  0.3251  \n",
              "975  0.2588  0.2500  0.0625  0.1000  0.5500  0.1692  0.1800  \n",
              "982  0.3780  0.1279  0.1209  0.1243  0.3226  0.3077  0.3146  \n",
              "\n",
              "[229 rows x 13 columns]"
            ],
            "text/html": [
              "\n",
              "\n",
              "  <div id=\"df-87fd3672-9741-4206-9e67-1fcd33ed072c\">\n",
              "    <div class=\"colab-df-container\">\n",
              "      <div>\n",
              "<style scoped>\n",
              "    .dataframe tbody tr th:only-of-type {\n",
              "        vertical-align: middle;\n",
              "    }\n",
              "\n",
              "    .dataframe tbody tr th {\n",
              "        vertical-align: top;\n",
              "    }\n",
              "\n",
              "    .dataframe thead th {\n",
              "        text-align: right;\n",
              "    }\n",
              "</style>\n",
              "<table border=\"1\" class=\"dataframe\">\n",
              "  <thead>\n",
              "    <tr style=\"text-align: right;\">\n",
              "      <th></th>\n",
              "      <th>Article ID</th>\n",
              "      <th>Original Article</th>\n",
              "      <th>Highlight</th>\n",
              "      <th>Generated Summary</th>\n",
              "      <th>R1-R</th>\n",
              "      <th>R1-P</th>\n",
              "      <th>R1-F</th>\n",
              "      <th>R2-R</th>\n",
              "      <th>R2-P</th>\n",
              "      <th>R2-F</th>\n",
              "      <th>RL-R</th>\n",
              "      <th>RL-P</th>\n",
              "      <th>RL-F</th>\n",
              "    </tr>\n",
              "  </thead>\n",
              "  <tbody>\n",
              "    <tr>\n",
              "      <th>4</th>\n",
              "      <td>0408464fb6eb2702626d2ca1cbb7c28e76ddd255</td>\n",
              "      <td>-lrb- cnn -rrb- we did it again , in another a...</td>\n",
              "      <td>in baltimore , after the death of freddie gra...</td>\n",
              "      <td>'' you may be saying with some irritation , ``...</td>\n",
              "      <td>0.1000</td>\n",
              "      <td>0.1515</td>\n",
              "      <td>0.1205</td>\n",
              "      <td>0.0000</td>\n",
              "      <td>0.0000</td>\n",
              "      <td>0.0000</td>\n",
              "      <td>0.0800</td>\n",
              "      <td>0.1212</td>\n",
              "      <td>0.0892</td>\n",
              "    </tr>\n",
              "    <tr>\n",
              "      <th>5</th>\n",
              "      <td>18f7505fa80eaa981a2f52fbb96fcea5908cd4ee</td>\n",
              "      <td>palermo president maurizio zamparini has slapp...</td>\n",
              "      <td>paulo dybala is being tracked by manchester u...</td>\n",
              "      <td>palermo president maurizio zamparini has slapp...</td>\n",
              "      <td>0.5918</td>\n",
              "      <td>0.5273</td>\n",
              "      <td>0.5577</td>\n",
              "      <td>0.3455</td>\n",
              "      <td>0.2836</td>\n",
              "      <td>0.3115</td>\n",
              "      <td>0.5918</td>\n",
              "      <td>0.5273</td>\n",
              "      <td>0.5540</td>\n",
              "    </tr>\n",
              "    <tr>\n",
              "      <th>13</th>\n",
              "      <td>97163bb36cb49730a634a0cbaa01108c2fd89e01</td>\n",
              "      <td>a video has emerged which appears to show a de...</td>\n",
              "      <td>deanna robinson , of texas , was 38 weeks pre...</td>\n",
              "      <td>deanna robinson , of quinlan , texas , was 38 ...</td>\n",
              "      <td>0.6500</td>\n",
              "      <td>0.7959</td>\n",
              "      <td>0.7156</td>\n",
              "      <td>0.5060</td>\n",
              "      <td>0.6563</td>\n",
              "      <td>0.5714</td>\n",
              "      <td>0.6500</td>\n",
              "      <td>0.7959</td>\n",
              "      <td>0.7015</td>\n",
              "    </tr>\n",
              "    <tr>\n",
              "      <th>15</th>\n",
              "      <td>cd421645a56af17128c17a41ec2c9074bce84ddc</td>\n",
              "      <td>newport county have sacked chris zebroski afte...</td>\n",
              "      <td>chris zebroski attacked two taxi drivers in s...</td>\n",
              "      <td>newport county have sacked chris zebroski afte...</td>\n",
              "      <td>0.2045</td>\n",
              "      <td>0.3462</td>\n",
              "      <td>0.2571</td>\n",
              "      <td>0.0566</td>\n",
              "      <td>0.0833</td>\n",
              "      <td>0.0674</td>\n",
              "      <td>0.2045</td>\n",
              "      <td>0.3462</td>\n",
              "      <td>0.2288</td>\n",
              "    </tr>\n",
              "    <tr>\n",
              "      <th>27</th>\n",
              "      <td>4fde6cc846d0709e25a9cccec8d197ba26c15c82</td>\n",
              "      <td>-lrb- cnn -rrb- he was impressively polite and...</td>\n",
              "      <td>defense seeks to make case to spare life of c...</td>\n",
              "      <td>dzhokhar `` jahar '' tsarnaev 's defense team ...</td>\n",
              "      <td>0.4063</td>\n",
              "      <td>0.2281</td>\n",
              "      <td>0.2921</td>\n",
              "      <td>0.0500</td>\n",
              "      <td>0.0317</td>\n",
              "      <td>0.0388</td>\n",
              "      <td>0.3125</td>\n",
              "      <td>0.1754</td>\n",
              "      <td>0.1960</td>\n",
              "    </tr>\n",
              "    <tr>\n",
              "      <th>...</th>\n",
              "      <td>...</td>\n",
              "      <td>...</td>\n",
              "      <td>...</td>\n",
              "      <td>...</td>\n",
              "      <td>...</td>\n",
              "      <td>...</td>\n",
              "      <td>...</td>\n",
              "      <td>...</td>\n",
              "      <td>...</td>\n",
              "      <td>...</td>\n",
              "      <td>...</td>\n",
              "      <td>...</td>\n",
              "      <td>...</td>\n",
              "    </tr>\n",
              "    <tr>\n",
              "      <th>962</th>\n",
              "      <td>6d76062fb07e8a37609bbd527934a9219929560b</td>\n",
              "      <td>a hardware store worker has been found guilty ...</td>\n",
              "      <td>john r. lind , 34 , from new brighton , minne...</td>\n",
              "      <td>john r. lind , 34 , admitted on thursday to ta...</td>\n",
              "      <td>0.5918</td>\n",
              "      <td>0.5918</td>\n",
              "      <td>0.5918</td>\n",
              "      <td>0.4182</td>\n",
              "      <td>0.4107</td>\n",
              "      <td>0.4144</td>\n",
              "      <td>0.5306</td>\n",
              "      <td>0.5306</td>\n",
              "      <td>0.5306</td>\n",
              "    </tr>\n",
              "    <tr>\n",
              "      <th>965</th>\n",
              "      <td>083b6c3239f969ae12491f14fc09b1f17d396983</td>\n",
              "      <td>-lrb- cnn -rrb- authorities in south carolina ...</td>\n",
              "      <td>footage shows a traffic stop and early intera...</td>\n",
              "      <td>-lrb- cnn -rrb- authorities in south carolina ...</td>\n",
              "      <td>0.6000</td>\n",
              "      <td>0.4468</td>\n",
              "      <td>0.5122</td>\n",
              "      <td>0.2093</td>\n",
              "      <td>0.1525</td>\n",
              "      <td>0.1765</td>\n",
              "      <td>0.5143</td>\n",
              "      <td>0.3830</td>\n",
              "      <td>0.4214</td>\n",
              "    </tr>\n",
              "    <tr>\n",
              "      <th>970</th>\n",
              "      <td>1afd2df29d4e642f20130a231d27004216667fe1</td>\n",
              "      <td>rome -lrb- cnn -rrb- muslims who were among mi...</td>\n",
              "      <td>the 12 victims were from nigeria and ghana , ...</td>\n",
              "      <td>italian authorities have arrested 15 people on...</td>\n",
              "      <td>0.5484</td>\n",
              "      <td>0.3091</td>\n",
              "      <td>0.3953</td>\n",
              "      <td>0.2571</td>\n",
              "      <td>0.1216</td>\n",
              "      <td>0.1651</td>\n",
              "      <td>0.5161</td>\n",
              "      <td>0.2909</td>\n",
              "      <td>0.3251</td>\n",
              "    </tr>\n",
              "    <tr>\n",
              "      <th>975</th>\n",
              "      <td>8749719d4fb9a14d833d39cde0b6e07985bee823</td>\n",
              "      <td>the tories today launched an extraordinary att...</td>\n",
              "      <td>defence secretary michael fallon launches per...</td>\n",
              "      <td>defence secretary michael fallon claimed the l...</td>\n",
              "      <td>0.5500</td>\n",
              "      <td>0.1692</td>\n",
              "      <td>0.2588</td>\n",
              "      <td>0.2500</td>\n",
              "      <td>0.0625</td>\n",
              "      <td>0.1000</td>\n",
              "      <td>0.5500</td>\n",
              "      <td>0.1692</td>\n",
              "      <td>0.1800</td>\n",
              "    </tr>\n",
              "    <tr>\n",
              "      <th>982</th>\n",
              "      <td>43959f19ee64571fead0661415d4e13c54d71ee1</td>\n",
              "      <td>seaworld has released an almost five-year-old ...</td>\n",
              "      <td>video shows john hargrove , who appeared in b...</td>\n",
              "      <td>the recorded cell phone conversation , which t...</td>\n",
              "      <td>0.3871</td>\n",
              "      <td>0.3692</td>\n",
              "      <td>0.3780</td>\n",
              "      <td>0.1279</td>\n",
              "      <td>0.1209</td>\n",
              "      <td>0.1243</td>\n",
              "      <td>0.3226</td>\n",
              "      <td>0.3077</td>\n",
              "      <td>0.3146</td>\n",
              "    </tr>\n",
              "  </tbody>\n",
              "</table>\n",
              "<p>229 rows × 13 columns</p>\n",
              "</div>\n",
              "      <button class=\"colab-df-convert\" onclick=\"convertToInteractive('df-87fd3672-9741-4206-9e67-1fcd33ed072c')\"\n",
              "              title=\"Convert this dataframe to an interactive table.\"\n",
              "              style=\"display:none;\">\n",
              "\n",
              "  <svg xmlns=\"http://www.w3.org/2000/svg\" height=\"24px\"viewBox=\"0 0 24 24\"\n",
              "       width=\"24px\">\n",
              "    <path d=\"M0 0h24v24H0V0z\" fill=\"none\"/>\n",
              "    <path d=\"M18.56 5.44l.94 2.06.94-2.06 2.06-.94-2.06-.94-.94-2.06-.94 2.06-2.06.94zm-11 1L8.5 8.5l.94-2.06 2.06-.94-2.06-.94L8.5 2.5l-.94 2.06-2.06.94zm10 10l.94 2.06.94-2.06 2.06-.94-2.06-.94-.94-2.06-.94 2.06-2.06.94z\"/><path d=\"M17.41 7.96l-1.37-1.37c-.4-.4-.92-.59-1.43-.59-.52 0-1.04.2-1.43.59L10.3 9.45l-7.72 7.72c-.78.78-.78 2.05 0 2.83L4 21.41c.39.39.9.59 1.41.59.51 0 1.02-.2 1.41-.59l7.78-7.78 2.81-2.81c.8-.78.8-2.07 0-2.86zM5.41 20L4 18.59l7.72-7.72 1.47 1.35L5.41 20z\"/>\n",
              "  </svg>\n",
              "      </button>\n",
              "\n",
              "\n",
              "\n",
              "    <div id=\"df-bb3e220d-70dd-47ee-9897-2a135dadaa69\">\n",
              "      <button class=\"colab-df-quickchart\" onclick=\"quickchart('df-bb3e220d-70dd-47ee-9897-2a135dadaa69')\"\n",
              "              title=\"Suggest charts.\"\n",
              "              style=\"display:none;\">\n",
              "\n",
              "<svg xmlns=\"http://www.w3.org/2000/svg\" height=\"24px\"viewBox=\"0 0 24 24\"\n",
              "     width=\"24px\">\n",
              "    <g>\n",
              "        <path d=\"M19 3H5c-1.1 0-2 .9-2 2v14c0 1.1.9 2 2 2h14c1.1 0 2-.9 2-2V5c0-1.1-.9-2-2-2zM9 17H7v-7h2v7zm4 0h-2V7h2v10zm4 0h-2v-4h2v4z\"/>\n",
              "    </g>\n",
              "</svg>\n",
              "      </button>\n",
              "    </div>\n",
              "\n",
              "<style>\n",
              "  .colab-df-quickchart {\n",
              "    background-color: #E8F0FE;\n",
              "    border: none;\n",
              "    border-radius: 50%;\n",
              "    cursor: pointer;\n",
              "    display: none;\n",
              "    fill: #1967D2;\n",
              "    height: 32px;\n",
              "    padding: 0 0 0 0;\n",
              "    width: 32px;\n",
              "  }\n",
              "\n",
              "  .colab-df-quickchart:hover {\n",
              "    background-color: #E2EBFA;\n",
              "    box-shadow: 0px 1px 2px rgba(60, 64, 67, 0.3), 0px 1px 3px 1px rgba(60, 64, 67, 0.15);\n",
              "    fill: #174EA6;\n",
              "  }\n",
              "\n",
              "  [theme=dark] .colab-df-quickchart {\n",
              "    background-color: #3B4455;\n",
              "    fill: #D2E3FC;\n",
              "  }\n",
              "\n",
              "  [theme=dark] .colab-df-quickchart:hover {\n",
              "    background-color: #434B5C;\n",
              "    box-shadow: 0px 1px 3px 1px rgba(0, 0, 0, 0.15);\n",
              "    filter: drop-shadow(0px 1px 2px rgba(0, 0, 0, 0.3));\n",
              "    fill: #FFFFFF;\n",
              "  }\n",
              "</style>\n",
              "\n",
              "    <script>\n",
              "      async function quickchart(key) {\n",
              "        const containerElement = document.querySelector('#' + key);\n",
              "        const charts = await google.colab.kernel.invokeFunction(\n",
              "            'suggestCharts', [key], {});\n",
              "      }\n",
              "    </script>\n",
              "\n",
              "      <script>\n",
              "\n",
              "function displayQuickchartButton(domScope) {\n",
              "  let quickchartButtonEl =\n",
              "    domScope.querySelector('#df-bb3e220d-70dd-47ee-9897-2a135dadaa69 button.colab-df-quickchart');\n",
              "  quickchartButtonEl.style.display =\n",
              "    google.colab.kernel.accessAllowed ? 'block' : 'none';\n",
              "}\n",
              "\n",
              "        displayQuickchartButton(document);\n",
              "      </script>\n",
              "      <style>\n",
              "    .colab-df-container {\n",
              "      display:flex;\n",
              "      flex-wrap:wrap;\n",
              "      gap: 12px;\n",
              "    }\n",
              "\n",
              "    .colab-df-convert {\n",
              "      background-color: #E8F0FE;\n",
              "      border: none;\n",
              "      border-radius: 50%;\n",
              "      cursor: pointer;\n",
              "      display: none;\n",
              "      fill: #1967D2;\n",
              "      height: 32px;\n",
              "      padding: 0 0 0 0;\n",
              "      width: 32px;\n",
              "    }\n",
              "\n",
              "    .colab-df-convert:hover {\n",
              "      background-color: #E2EBFA;\n",
              "      box-shadow: 0px 1px 2px rgba(60, 64, 67, 0.3), 0px 1px 3px 1px rgba(60, 64, 67, 0.15);\n",
              "      fill: #174EA6;\n",
              "    }\n",
              "\n",
              "    [theme=dark] .colab-df-convert {\n",
              "      background-color: #3B4455;\n",
              "      fill: #D2E3FC;\n",
              "    }\n",
              "\n",
              "    [theme=dark] .colab-df-convert:hover {\n",
              "      background-color: #434B5C;\n",
              "      box-shadow: 0px 1px 3px 1px rgba(0, 0, 0, 0.15);\n",
              "      filter: drop-shadow(0px 1px 2px rgba(0, 0, 0, 0.3));\n",
              "      fill: #FFFFFF;\n",
              "    }\n",
              "  </style>\n",
              "\n",
              "      <script>\n",
              "        const buttonEl =\n",
              "          document.querySelector('#df-87fd3672-9741-4206-9e67-1fcd33ed072c button.colab-df-convert');\n",
              "        buttonEl.style.display =\n",
              "          google.colab.kernel.accessAllowed ? 'block' : 'none';\n",
              "\n",
              "        async function convertToInteractive(key) {\n",
              "          const element = document.querySelector('#df-87fd3672-9741-4206-9e67-1fcd33ed072c');\n",
              "          const dataTable =\n",
              "            await google.colab.kernel.invokeFunction('convertToInteractive',\n",
              "                                                     [key], {});\n",
              "          if (!dataTable) return;\n",
              "\n",
              "          const docLinkHtml = 'Like what you see? Visit the ' +\n",
              "            '<a target=\"_blank\" href=https://colab.research.google.com/notebooks/data_table.ipynb>data table notebook</a>'\n",
              "            + ' to learn more about interactive tables.';\n",
              "          element.innerHTML = '';\n",
              "          dataTable['output_type'] = 'display_data';\n",
              "          await google.colab.output.renderOutput(dataTable, element);\n",
              "          const docLink = document.createElement('div');\n",
              "          docLink.innerHTML = docLinkHtml;\n",
              "          element.appendChild(docLink);\n",
              "        }\n",
              "      </script>\n",
              "    </div>\n",
              "  </div>\n"
            ]
          },
          "metadata": {},
          "execution_count": 85
        }
      ]
    },
    {
      "cell_type": "code",
      "source": [
        "finaltrain = pd.concat([dftrain,new_df], axis=0, ignore_index=True)\n"
      ],
      "metadata": {
        "id": "uv0_HSx3hDYS"
      },
      "execution_count": null,
      "outputs": []
    },
    {
      "cell_type": "code",
      "source": [
        "finaltrain.to_csv('finalexttrain.csv', index=False)"
      ],
      "metadata": {
        "id": "O_bWMfvkhVIZ"
      },
      "execution_count": null,
      "outputs": []
    },
    {
      "cell_type": "code",
      "source": [
        "finaltrain= pd.read_csv(\"/content/finalexttrain.csv\")"
      ],
      "metadata": {
        "id": "KAPyf1lzhWHU"
      },
      "execution_count": null,
      "outputs": []
    },
    {
      "cell_type": "code",
      "source": [
        "finaltest=pd.read_csv(\"/content/finalexttest.csv\")"
      ],
      "metadata": {
        "id": "Qbcsx9YNi_wB"
      },
      "execution_count": null,
      "outputs": []
    },
    {
      "cell_type": "code",
      "source": [
        "len(finaltrain)"
      ],
      "metadata": {
        "colab": {
          "base_uri": "https://localhost:8080/"
        },
        "id": "Jt9IYIO-jCtt",
        "outputId": "263a68a0-6dce-45dc-f035-037144672070"
      },
      "execution_count": null,
      "outputs": [
        {
          "output_type": "execute_result",
          "data": {
            "text/plain": [
              "4352"
            ]
          },
          "metadata": {},
          "execution_count": 90
        }
      ]
    },
    {
      "cell_type": "code",
      "source": [
        "len(finaltest)"
      ],
      "metadata": {
        "colab": {
          "base_uri": "https://localhost:8080/"
        },
        "id": "uUtv0DD1jOzz",
        "outputId": "15df5628-3dea-4a69-f894-fca35f94d11f"
      },
      "execution_count": null,
      "outputs": [
        {
          "output_type": "execute_result",
          "data": {
            "text/plain": [
              "1000"
            ]
          },
          "metadata": {},
          "execution_count": 93
        }
      ]
    },
    {
      "cell_type": "code",
      "source": [
        "ext=pd.read_csv(\"/content/llmsummaries_1000.csv\")"
      ],
      "metadata": {
        "id": "_U8DiZrdjpAI"
      },
      "execution_count": null,
      "outputs": []
    },
    {
      "cell_type": "code",
      "source": [
        "len(ext)"
      ],
      "metadata": {
        "colab": {
          "base_uri": "https://localhost:8080/"
        },
        "id": "aAA7Y3gFkDPz",
        "outputId": "04d8912a-b7a9-44d5-edfa-bf12aba6ecb1"
      },
      "execution_count": null,
      "outputs": [
        {
          "output_type": "execute_result",
          "data": {
            "text/plain": [
              "1000"
            ]
          },
          "metadata": {},
          "execution_count": 105
        }
      ]
    },
    {
      "cell_type": "code",
      "source": [
        "# Assuming your DataFrames are df1 and df2 and the article IDs are in a column named 'Article ID'\n",
        "\n",
        "# Extract article IDs from both DataFrames\n",
        "article_ids_df1 = finaltrain['Article ID'].unique()\n",
        "article_ids_df2 = finaltest['Article ID'].unique()\n",
        "\n",
        "# Find common article IDs\n",
        "common_ids_in_df1 = finaltrain[finaltrain['Article ID'].isin(article_ids_df2)]['Article ID'].unique()\n",
        "common_ids_in_df2 = finaltest[finaltest['Article ID'].isin(article_ids_df1)]['Article ID'].unique()\n",
        "\n",
        "# Check if there are any common article IDs\n",
        "if len(common_ids_in_df1) > 0:\n",
        "    print(\"Common article IDs:\", common_ids_in_df1)\n",
        "else:\n",
        "    print(\"There are no common article IDs in the two DataFrames.\")\n"
      ],
      "metadata": {
        "colab": {
          "base_uri": "https://localhost:8080/"
        },
        "id": "7r8caBnUjPwB",
        "outputId": "3d4f72ae-b6ae-477f-c113-9def10298717"
      },
      "execution_count": null,
      "outputs": [
        {
          "output_type": "stream",
          "name": "stdout",
          "text": [
            "There are no common article IDs in the two DataFrames.\n"
          ]
        }
      ]
    },
    {
      "cell_type": "code",
      "source": [
        "len(common_ids_in_df1)"
      ],
      "metadata": {
        "colab": {
          "base_uri": "https://localhost:8080/"
        },
        "id": "GR4z1dR_jmOx",
        "outputId": "4e3fe21a-6b12-4fe4-ceef-72b160eef0b4"
      },
      "execution_count": null,
      "outputs": [
        {
          "output_type": "execute_result",
          "data": {
            "text/plain": [
              "0"
            ]
          },
          "metadata": {},
          "execution_count": 111
        }
      ]
    },
    {
      "cell_type": "code",
      "source": [],
      "metadata": {
        "id": "jPgQJcElj6Z4"
      },
      "execution_count": null,
      "outputs": []
    }
  ]
}